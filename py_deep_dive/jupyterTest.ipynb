{
 "cells": [
  {
   "cell_type": "markdown",
   "metadata": {},
   "source": [
    "<h1>General Python</h1>\n",
    "\n",
    "TOC\n",
    "\n",
    "- [PEP8 - Naming conventions](#pep8---naming-conventions)\n",
    "- [Everything is an Object](#everything-is-an-object)\n",
    "- [Variables and Memory](#variables-and-memory)\n",
    "  - [`id` function](#id-function)\n",
    "  - [Reference Counting](#reference-counting)\n",
    "  - [Shared Reference](#shared-reference)\n",
    "  - [Garbage Collection](#garbage-collection)\n",
    "  - [Object Mutability](#object-mutability)\n",
    "  - [Variable Equality](#variable-equality)\n",
    "- [Built-in methods](#built-in-methods)\n",
    "  - [`isinstance(object, class)`](#isinstanceobject-class)\n",
    "  - [`issubclass(subclass, class)`](#issubclasssubclass-class)\n",
    "- [Loops](#loops)\n",
    "  - [While loop](#while-loop)\n",
    "  - [Try statement](#try-statement)\n",
    "    - [Common exceptions](#common-exceptions)\n",
    "- [Strings](#strings)\n",
    "  - [Common methods](#common-methods)\n",
    "- [Classes](#classes)\n",
    "  - [Getters and Setters](#getters-and-setters)\n",
    "  - [Overload methods](#overload-methods)\n",
    "    - [`str` method](#str-method)\n",
    "    - [`repr` method](#repr-method)\n",
    "    - [`eq` method](#eq-method)\n",
    "- [Functions](#functions)\n",
    "  - [Docstrings and annotations (PEP 257)](#docstrings-and-annotations-pep-257)\n",
    "  - [`lambda` expression](#lambda-expression)\n",
    "  - [Function Intorspection](#function-intorspection)\n",
    "  - [Unpacking iterables](#unpacking-iterables)\n",
    "  - [Unpacking with *](#unpacking-with-)\n",
    "  - [Nested unpacking](#nested-unpacking)\n",
    "  - [*args and **kwargs](#args-and-kwargs)\n",
    "  - [Parameters default](#parameters-default)\n",
    "  - [Map, Filter and Zip functions](#map-filter-and-zip-functions)\n",
    "  - [Reducing Functions](#reducing-functions)\n",
    "  - [Partial functions](#partial-functions)\n",
    "  - [The `operator` module](#the-operator-module)\n",
    "- [Scopes and Namespaces](#scopes-and-namespaces)\n",
    "  - [Masking](#masking)\n",
    "  - [Nonlocal scope](#nonlocal-scope)\n",
    "- [Closure](#closure)\n",
    "  - [Shared extend scope](#shared-extend-scope)\n",
    "  - [Nested Closure](#nested-closure)\n",
    "  - [Application](#application)\n",
    "- [Decorators](#decorators)\n",
    "  - [Multiple decorators](#multiple-decorators)\n",
    "  - [Memoization](#memoization)\n",
    "  - [Parametrized decorators](#parametrized-decorators)\n",
    "  - [Decorator class](#decorator-class)\n",
    "  - [Monkey Patching and Decorating classes](#monkey-patching-and-decorating-classes)\n",
    "  - [Single Dispatch Generic Functions](#single-dispatch-generic-functions)\n",
    "    - [Application - Htmlizer](#application---htmlizer)\n",
    "- [Python optimizations](#python-optimizations)\n",
    "  - [Interning](#interning)\n",
    "  - [Peephole](#peephole)\n",
    "- [Numeric Types](#numeric-types)\n",
    "  - [Integers](#integers)\n",
    "    - [Operations](#operations)\n",
    "    - [Base](#base)\n",
    "  - [Rational Numbers](#rational-numbers)\n",
    "  - [Floats (Real Numbers)](#floats-real-numbers)\n",
    "    - [equality](#equality)\n",
    "  - [Booleans (PEP 285)](#booleans-pep-285)\n",
    "    - [Booleans operators](#booleans-operators)\n",
    "    - [Short-Circuiting](#short-circuiting)\n",
    "- [Common Modules](#common-modules)\n",
    "  - [`string`](#string)\n",
    "  - [`functools`](#functools)\n",
    "\n"
   ]
  },
  {
   "cell_type": "markdown",
   "metadata": {},
   "source": [
    "# PEP8 - Naming conventions\n",
    "---\n",
    "\n",
    "- `packages`: short lowercase and without underscore es. `utilities`\n",
    "- `modules`: short lowercase and with underscore es. `db_utils`\n",
    "- `classes`: first letter of each word are uppercase, no spaces and no underscore es. `MyClass`\n",
    "- `functions` lowercase and with underscore es. `open_account`\n",
    "- `variables` lowercase and with underscore es. `account_id`\n",
    "- `constants` all uppercase with underscore es `MIN_VAL`\n"
   ]
  },
  {
   "cell_type": "markdown",
   "metadata": {},
   "source": [
    "# Everything is an Object\n",
    "---\n",
    "\n",
    "In python everything is an object. Functions for example, inherit from the built-in function class; the same happen for classes which inherit from class function. This implies that every objects has a memory address (yes, even function and classes). In the same way every object che by assigned to a variable, passed as argument to a function or returned by a function. We can look at the object type of any variable with the `type` built-in function.\n"
   ]
  },
  {
   "cell_type": "markdown",
   "metadata": {},
   "source": [
    "# Variables and Memory\n",
    "___\n",
    "\n",
    "When a variable is created, what python is doing under the hood is to link the variable name to the memory slot (slots) which contains the element assign to the variable. Therefore the name is nothing more than a reference to the memory slot.\n",
    "\n",
    "## `id` function\n",
    "\n",
    "`id` is the function that returns the memory address of a variable in base-10 ( can be converted with `hex` to see the hexadecimal representation).\n",
    "\n",
    "## Reference Counting\n",
    "\n",
    "Reference counting is a process carried out by the python memory manager internally. Each time we create a new variable, we are creating a reference to a memory slot. If we create a new variable that is equal to an existing one, we are adding a reference to the same memory slot (which now has a reference count equal to two)."
   ]
  },
  {
   "cell_type": "code",
   "execution_count": 19,
   "metadata": {},
   "outputs": [
    {
     "name": "stdout",
     "output_type": "stream",
     "text": [
      "sys.refcount returns: 3\n",
      "ctypes returns: 2\n"
     ]
    }
   ],
   "source": [
    "import ctypes\n",
    "import sys\n",
    "\n",
    "my_var_1 = list() # my_var is pointing to the memory slot id(my_var)\n",
    "\n",
    "other_var = my_var_1  # other var is pointing to the same memory slot of my_var\n",
    "# at this point, the ref count of id(my_var) is equal to 2\n",
    "\n",
    "print('sys.refcount returns:' , sys.getrefcount(my_var_1))\n",
    "# return the ref count of the variable + 1 far the call of sys itself\n",
    "\n",
    "print('ctypes returns:' , ctypes.c_long.from_address(id(my_var_1)).value)\n",
    "# is a lower level way to find the ref count of a memory slot"
   ]
  },
  {
   "cell_type": "markdown",
   "metadata": {},
   "source": [
    "## Shared Reference\n",
    "\n",
    "When python variables share memory references?"
   ]
  },
  {
   "cell_type": "code",
   "execution_count": 18,
   "metadata": {},
   "outputs": [
    {
     "data": {
      "text/plain": [
       "(10, 10, True, True)"
      ]
     },
     "execution_count": 18,
     "metadata": {},
     "output_type": "execute_result"
    }
   ],
   "source": [
    "a = 10\n",
    "b = a\n",
    "# b is not copying the content of a, it is pointing to the same memory address\n",
    "\n",
    "a, b, a == b, a is b"
   ]
  },
  {
   "cell_type": "code",
   "execution_count": 17,
   "metadata": {},
   "outputs": [
    {
     "data": {
      "text/plain": [
       "(10, 10, True, True)"
      ]
     },
     "execution_count": 17,
     "metadata": {},
     "output_type": "execute_result"
    }
   ],
   "source": [
    "\n",
    "a = 10\n",
    "b = 10\n",
    "# since the number 10 is immutable, both a and b are pointing to the same memory address\n",
    "\n",
    "a, b, a == b, a is b"
   ]
  },
  {
   "cell_type": "code",
   "execution_count": 15,
   "metadata": {},
   "outputs": [
    {
     "data": {
      "text/plain": [
       "([1, 2, 3, 4], [1, 2, 3, 4], True, True)"
      ]
     },
     "execution_count": 15,
     "metadata": {},
     "output_type": "execute_result"
    }
   ],
   "source": [
    "\n",
    "a = [1,2,3]\n",
    "b = a\n",
    "b.append(4)\n",
    "# now both b and a are equal to [1,2,3,4] since a list is mutable object and appending an element modify only its internal state with the same memory address\n",
    "\n",
    "a, b, a == b, a is b"
   ]
  },
  {
   "cell_type": "code",
   "execution_count": 16,
   "metadata": {},
   "outputs": [
    {
     "data": {
      "text/plain": [
       "([1, 2, 3], [1, 2, 3], True, False)"
      ]
     },
     "execution_count": 16,
     "metadata": {},
     "output_type": "execute_result"
    }
   ],
   "source": [
    "\n",
    "a = [1,2,3]\n",
    "b = [1,2,3]\n",
    "# in this case python doesn't create shared references, so a and b are pointing to different objects, this to prevent that modifying b affects also a\n",
    "\n",
    "a, b, a == b, a is b"
   ]
  },
  {
   "cell_type": "markdown",
   "metadata": {},
   "source": [
    "N.b. There will be always a shared reference to `None` object, created automatically by python."
   ]
  },
  {
   "cell_type": "markdown",
   "metadata": {},
   "source": [
    "## Garbage Collection\n",
    "\n",
    "It is the way python use to avoid memory leaks such that generated by circular references (objects pointing one to the other). Garbage collection can be controlled using the `gc` method. It can be turned off (only if we are super-sure that there are not circular reference in the code, in order to improve performance). The gc runs periodically on its own but can also be called manually to program a specific cleanup of the code."
   ]
  },
  {
   "cell_type": "markdown",
   "metadata": {},
   "source": [
    "## Object Mutability\n",
    "\n",
    "Changing the data inside an object is called `modifying the internal state` since the memory address is not changed but only its content (es. appending an element to a list). So we can distinguish between `Mutable` and `Immutable` object depending on the possibility of changing the internal state.\n",
    "\n",
    "`Immutable objects:`\n",
    "\n",
    "- Numbers\n",
    "- Strings\n",
    "- Tuples (if contains mutable elements, es. lists, those remain mutable)\n",
    "- Frozen Sets\n",
    "- User_Defined Classes (if so defined)\n",
    "\n",
    "`Mutable objects:`\n",
    "\n",
    "- Lists\n",
    "- Sets\n",
    "- Dictionaries\n",
    "- User_Defined Classes (if so defined)\n",
    "\n",
    "Care must be taken when we talk about immutability of an object that is given to a function as an argument. We have to distinguish between the `module scope` and the `function scope`.\n",
    "When we pass an object to a function we are in reality passing the `reference` of the object itself. So if we are passing to a function an immutable object, say a string, at the beginning both the module scope and the function scope point to the same memory reference, but as soon as the function modify the string (es. concatenating another string), then a new object with a new reference is created. If the object is mutable, say a list, and the function modify the list (es. appending an element), then python doesn't create a new object but simply modify the internal state of the existing memory reference"
   ]
  },
  {
   "cell_type": "code",
   "execution_count": 47,
   "metadata": {},
   "outputs": [
    {
     "data": {
      "text/plain": [
       "('world', 'helloworld', 140155942644912, 140155942492464)"
      ]
     },
     "execution_count": 47,
     "metadata": {},
     "output_type": "execute_result"
    }
   ],
   "source": [
    "# IMMUTABLE\n",
    "def process_str(s):\n",
    "  # s has still the same memory reference as my_string\n",
    "  s = 'hello' + s\n",
    "  # now s has been modified, and since it was an immutable object, a new object with a new reference is created.\n",
    "  return s\n",
    "\n",
    "my_string = 'world'\n",
    "\n",
    "my_string, process_str(my_string), id(my_string), id(process_str(my_string))"
   ]
  },
  {
   "cell_type": "code",
   "execution_count": 53,
   "metadata": {},
   "outputs": [
    {
     "data": {
      "text/plain": [
       "([1, 2, 3, 5, 5], [1, 2, 3, 5, 5], 140155938018304, 140155938018304)"
      ]
     },
     "execution_count": 53,
     "metadata": {},
     "output_type": "execute_result"
    }
   ],
   "source": [
    "# MUTABLE\n",
    "def process_lst(lst):\n",
    "  # lst has the same memory reference as my_list\n",
    "  lst.append(5)\n",
    "  # since lst is a mutable object, only the internal state is changed but the memory reference is still the same.\n",
    "  return lst\n",
    "\n",
    "my_list = [1,2,3]\n",
    "\n",
    "my_list, process_lst(my_list), id(my_list), id(process_lst(my_list))"
   ]
  },
  {
   "cell_type": "markdown",
   "metadata": {},
   "source": [
    "## Variable Equality\n",
    "\n",
    "There are two ways to verify the equality of two variables in python: the `is` and the `==` operators, respectively the identity and equality operators. While the identity operator compares the memory reference of two objects, the equality operator compares their internal state (data). Their negation are `is not` and `!=`."
   ]
  },
  {
   "cell_type": "code",
   "execution_count": 35,
   "metadata": {},
   "outputs": [
    {
     "name": "stdout",
     "output_type": "stream",
     "text": [
      "True\n",
      "True\n"
     ]
    }
   ],
   "source": [
    "a = 10\n",
    "b = a\n",
    "print(a is b) # True since the memory address is the same (int are immutable objects)\n",
    "print(a == b) # True"
   ]
  },
  {
   "cell_type": "code",
   "execution_count": 36,
   "metadata": {},
   "outputs": [
    {
     "name": "stdout",
     "output_type": "stream",
     "text": [
      "False\n",
      "True\n"
     ]
    }
   ],
   "source": [
    "a = 500\n",
    "b = 500\n",
    "\n",
    "print(a is b) # False, preloaded integers are in the range [-5, 256] see Interning\n",
    "print(a == b) # True"
   ]
  },
  {
   "cell_type": "code",
   "execution_count": 37,
   "metadata": {},
   "outputs": [
    {
     "name": "stdout",
     "output_type": "stream",
     "text": [
      "False\n",
      "True\n"
     ]
    }
   ],
   "source": [
    "a = [1,2,3]\n",
    "b = [1,2,3]\n",
    "\n",
    "print(a is b) # False, different memory address\n",
    "print(a == b) # True"
   ]
  },
  {
   "cell_type": "code",
   "execution_count": 38,
   "metadata": {},
   "outputs": [
    {
     "name": "stdout",
     "output_type": "stream",
     "text": [
      "True\n",
      "True\n"
     ]
    }
   ],
   "source": [
    "a = 'hello'\n",
    "b = 'hello'\n",
    "\n",
    "print(a is b) # True, but not always! only if strings are stored as Singleton\n",
    "print(a == b) # True"
   ]
  },
  {
   "cell_type": "code",
   "execution_count": 39,
   "metadata": {},
   "outputs": [
    {
     "name": "stdout",
     "output_type": "stream",
     "text": [
      "False\n",
      "True\n"
     ]
    }
   ],
   "source": [
    "a = 10.0\n",
    "b = 10\n",
    "\n",
    "print(a is b) # False, float and int are different objects\n",
    "print(a == b) # True, python recognize the have the same value"
   ]
  },
  {
   "cell_type": "markdown",
   "metadata": {},
   "source": [
    "# Built-in methods\n",
    "---\n",
    "\n",
    "## `isinstance(object, class)`\n",
    "\n",
    "Return `True` if an object is an instance of a particular class, `False` otherwise.\n",
    "\n",
    "## `issubclass(subclass, class)`\n",
    "\n",
    "Return `True` if class inherits from another upper class, `False` otherwise.\n"
   ]
  },
  {
   "cell_type": "markdown",
   "metadata": {},
   "source": [
    "# Loops"
   ]
  },
  {
   "cell_type": "markdown",
   "metadata": {},
   "source": [
    "## While loop\n",
    "\n",
    "to generate an infinite loop:"
   ]
  },
  {
   "cell_type": "code",
   "execution_count": 54,
   "metadata": {},
   "outputs": [
    {
     "name": "stdout",
     "output_type": "stream",
     "text": [
      "Infinite Loop\n"
     ]
    }
   ],
   "source": [
    "while True:\n",
    "    print('Infinite Loop')\n",
    "    break # to stop infinite loop"
   ]
  },
  {
   "cell_type": "markdown",
   "metadata": {},
   "source": [
    "`else` statement is executed after a while loop only if it terminates without a `break`\n",
    "\n",
    "`continue` is used to interrupt the execution of the current iteration are restart the loop with the next iteration. Only `finally` statement is executed after a continue statement."
   ]
  },
  {
   "cell_type": "markdown",
   "metadata": {},
   "source": [
    "## Try statement\n",
    "\n",
    "test a code block.\n",
    "\n",
    "`except` is used to captures errors and handle exceptions\n",
    "\n",
    "`finally` is a code block that is always executed, whether an exception or a break are invoked"
   ]
  },
  {
   "cell_type": "markdown",
   "metadata": {},
   "source": [
    "### Common exceptions\n",
    "\n",
    "- ZeroDivisionError\n",
    "\n",
    "-"
   ]
  },
  {
   "cell_type": "markdown",
   "metadata": {},
   "source": [
    "# Strings\n",
    "---"
   ]
  },
  {
   "cell_type": "markdown",
   "metadata": {},
   "source": [
    "## Common methods\n",
    "\n",
    "- isalpha() -> check if is alphanumeric\n",
    "- isprintable() -> check if is printable"
   ]
  },
  {
   "cell_type": "markdown",
   "metadata": {},
   "source": [
    "# Classes\n",
    "---"
   ]
  },
  {
   "cell_type": "markdown",
   "metadata": {},
   "source": [
    "\n",
    "`__init__` is the default method that is called after the class object is created. The first argument is always `self`, i.e. the instance of the object created calling the class object."
   ]
  },
  {
   "cell_type": "code",
   "execution_count": 46,
   "metadata": {},
   "outputs": [
    {
     "data": {
      "text/plain": [
       "(__main__.Rectangle, True)"
      ]
     },
     "execution_count": 46,
     "metadata": {},
     "output_type": "execute_result"
    }
   ],
   "source": [
    "class Rectangle:\n",
    "  def __init__(self, width, height):\n",
    "    self.width = width\n",
    "    self.height = height\n",
    "\n",
    "r1 = Rectangle(10,20)\n",
    "# r1 is a instance of the class Rectangle, referred as `self` inside the class constructor    \n",
    "\n",
    "r1.__class__, isinstance(r1, Rectangle)"
   ]
  },
  {
   "cell_type": "markdown",
   "metadata": {},
   "source": [
    "## Getters and Setters\n",
    "\n",
    "Getter and setter methods are implemented to impose some dynamics in the class structure. In python there are no private attributes (even if we can specify to the reader that a variable is private beginning its name with _). Setter and getter methods impose to the user some constrains"
   ]
  },
  {
   "cell_type": "markdown",
   "metadata": {},
   "source": [
    "## Overload methods\n",
    "\n",
    "There are some special methods that are built into the `class` constructor and are passed automatically to any instance of the class even if they are not defined explicitly. For example if we call the python method `str` on an instance of the class we will receive a standard output specifying the memory address of the instance. Unless we overwrite or `overload` this method explicitly inside the class definition."
   ]
  },
  {
   "cell_type": "markdown",
   "metadata": {},
   "source": [
    "### `str` method"
   ]
  },
  {
   "cell_type": "code",
   "execution_count": 57,
   "metadata": {},
   "outputs": [
    {
     "data": {
      "text/plain": [
       "'Rectangle: width:10, height:20'"
      ]
     },
     "execution_count": 57,
     "metadata": {},
     "output_type": "execute_result"
    }
   ],
   "source": [
    "class Rectangle:\n",
    "  def __init__(self, width, height):\n",
    "    self.width = width\n",
    "    self.height = height\n",
    "\n",
    "  def __str__(self):\n",
    "    return f'Rectangle: width:{self.width}, height:{self.height}'\n",
    "\n",
    "r1 = Rectangle(10,20)\n",
    "\n",
    "str(r1) # will print what inside the __str__ method\n",
    "# if __str__ is not defined than the output will be:\n",
    "# <__main__.Rectangle object at \"some memory address\">"
   ]
  },
  {
   "cell_type": "markdown",
   "metadata": {},
   "source": [
    "### `repr` method\n",
    "\n",
    "It is similar to `__str__` method but its use is more developer-oriented. The repr method should return the string representation of the class instance called"
   ]
  },
  {
   "cell_type": "code",
   "execution_count": 59,
   "metadata": {},
   "outputs": [
    {
     "data": {
      "text/plain": [
       "'Rectangle(10, 20)'"
      ]
     },
     "execution_count": 59,
     "metadata": {},
     "output_type": "execute_result"
    }
   ],
   "source": [
    "class Rectangle:\n",
    "  def __init__(self, width, height):\n",
    "    self.width = width\n",
    "    self.height = height\n",
    "\n",
    "  def __repr__(self):\n",
    "    return f'Rectangle({self.width}, {self.height})'\n",
    "\n",
    "r1 = Rectangle(10,20)\n",
    "\n",
    "repr(r1) # will print what inside the __repr__ method that is exactly Rectangle(10,20), how the object r1 has been created in the first place"
   ]
  },
  {
   "cell_type": "markdown",
   "metadata": {},
   "source": [
    "### `eq` method\n",
    "\n",
    "Is the method needed to compare two objects generated by the same class with the `==` operator."
   ]
  },
  {
   "cell_type": "markdown",
   "metadata": {},
   "source": [
    "# Functions\n",
    "---"
   ]
  },
  {
   "cell_type": "markdown",
   "metadata": {},
   "source": [
    "\n",
    "A first semantic difference in functions is the definition of `parameters` and `arguments`; the first is referred to the variables in the function definition while the second is refereed to the variables passed to the instance of the function.\n"
   ]
  },
  {
   "cell_type": "code",
   "execution_count": 61,
   "metadata": {},
   "outputs": [
    {
     "data": {
      "text/plain": [
       "<function __main__.my_func(a, b)>"
      ]
     },
     "execution_count": 61,
     "metadata": {},
     "output_type": "execute_result"
    }
   ],
   "source": [
    "def my_func(a, b): # a and b are the parameters of the function\n",
    "  pass\n",
    "\n",
    "x = 10\n",
    "y = 'a'\n",
    "\n",
    "my_func(x, y) # x and y are the arguments of the function\n",
    "\n",
    "my_func"
   ]
  },
  {
   "cell_type": "markdown",
   "metadata": {},
   "source": [
    "To be noted that x and y are passed by `reference` to `my_func`, i.e. the memory addresses of x and y are stored into a and b.\n",
    "Therefore, the `Function Scope` contains the memory addresses of the variables that are passed to the function (x and y in the example).\n",
    "\n",
    "Another pythonic difference is the definition of `functions` and `methods`. They are defined in the same way but a method is bound to a class, it is an attribute of the class that is callable."
   ]
  },
  {
   "cell_type": "code",
   "execution_count": 76,
   "metadata": {},
   "outputs": [
    {
     "data": {
      "text/plain": [
       "(<function inspect.ismethod(object)>, <function inspect.isfunction(object)>)"
      ]
     },
     "execution_count": 76,
     "metadata": {},
     "output_type": "execute_result"
    }
   ],
   "source": [
    "from inspect import ismethod, isfunction\n",
    "\n",
    "ismethod, isfunction"
   ]
  },
  {
   "cell_type": "markdown",
   "metadata": {},
   "source": [
    "## Docstrings and annotations (PEP 257)\n",
    "\n",
    "N.B. Docstring has to the first line of code in the function/class definition, otherwise it won't be inserted into the `__doc__` method and won't be displayed with the `help()` function.\n",
    "\n",
    "Docstrings (single quote or triple quote) are the way to generate documentation inside the python code. They are different from comments (#) since the former are actually compiled by the interpreter and stored in the `__doc__` property of functions and classes. The `__doc__` property can be invoked with the `help()` function on any object that implements it."
   ]
  },
  {
   "cell_type": "code",
   "execution_count": 77,
   "metadata": {},
   "outputs": [
    {
     "name": "stdout",
     "output_type": "stream",
     "text": [
      "Help on function my_func in module __main__:\n",
      "\n",
      "my_func()\n",
      "    Here it goes the doctring that contains\n",
      "    the instruction on function usage and arguments types and boundaries.\n",
      "    This will be displayed invocking the `__doc__` method\n",
      "    with the `help()` function.\n",
      "\n"
     ]
    }
   ],
   "source": [
    "def my_func():\n",
    "  '''\n",
    "  Here it goes the doctring that contains\n",
    "  the instruction on function usage and arguments types and boundaries.\n",
    "  This will be displayed invocking the `__doc__` method\n",
    "  with the `help()` function.\n",
    "  '''\n",
    "  pass\n",
    "\n",
    "help(my_func)"
   ]
  },
  {
   "cell_type": "markdown",
   "metadata": {},
   "source": [
    "Another way to document our code is to use annotations. These are not stored in the `__doc__` method but can be invoked by the `help()` function. Annotations can be also functions that are evaluated as constant during first compilation; however they don't bind the code to a specific behavior (a: int -> doesn't bind a to be an int), they are only metadata stored in teh `__annotations__` method which is a dictionary with parameters as key and annotations as values. These can be used by external modules like `Sphinx` to automatically generate documentation for our code."
   ]
  },
  {
   "cell_type": "code",
   "execution_count": 86,
   "metadata": {},
   "outputs": [
    {
     "data": {
      "text/plain": [
       "{'a': 'string', 'b': 'integer', 'return': 'a string'}"
      ]
     },
     "execution_count": 86,
     "metadata": {},
     "output_type": "execute_result"
    }
   ],
   "source": [
    "def my_func(a: 'string', b: 'integer') -> 'a string':\n",
    "  return a*b\n",
    "  \n",
    "my_func.__annotations__"
   ]
  },
  {
   "cell_type": "markdown",
   "metadata": {},
   "source": [
    "## `lambda` expression"
   ]
  },
  {
   "cell_type": "markdown",
   "metadata": {},
   "source": [
    "\n",
    "`lambda` expressions are another way to create function without the `def` statement. They are also referred as to `anonymous functions`. It has to be a single expression, therefore no assignment is allowed aswell as no type hinting (annotations)\n",
    "\n"
   ]
  },
  {
   "cell_type": "markdown",
   "metadata": {},
   "source": [
    "\n",
    "```py\n",
    "# lambda [parameters list]: expression\n",
    "lambda x: x**2\n",
    "lambda x, y: x + y\n",
    "lambda : 'hello' # we can assign 0 parameters and just return a constant\n",
    "\n",
    "# we can assign lambda function to variable and later call it\n",
    "my_func = lambda x: x**2\n",
    "type(my_func) # -> function\n",
    "my_func(3) # -> 9\n",
    "```\n"
   ]
  },
  {
   "cell_type": "markdown",
   "metadata": {},
   "source": [
    "\n",
    "The lambda expression generates a `function object` that returns the expression when called.\n"
   ]
  },
  {
   "cell_type": "markdown",
   "metadata": {},
   "source": [
    "\n",
    "## Function Intorspection\n"
   ]
  },
  {
   "cell_type": "markdown",
   "metadata": {},
   "source": [
    "\n",
    "Function are first-class objects that, when created are shipped with a series of default dunder methods in additions to the ones that we implemented. To look at all the function attributes we can use the built-in function `dir()`. Among the dunders method we have:\n"
   ]
  },
  {
   "cell_type": "markdown",
   "metadata": {},
   "source": [
    "\n",
    "```py\n",
    "func.__name__ # the name of the function\n",
    "func.__defaults__ # tuple containing default positional parameters\n",
    "func.__kwdefaults__ # dictionary containing default keyword parameters\n",
    "func.__code__ # return an code object which has its own methods:\n",
    "  func.__code__.co_varnames # return the paramters and then the local variables (defined inside the function scope) of the function\n",
    "  func.__code__.co_argcount # return the number of parameters except *args and **kwargs\n",
    "func.__name__\n",
    "```\n"
   ]
  },
  {
   "cell_type": "markdown",
   "metadata": {},
   "source": [
    "\n",
    "Also the module `inspect` can be used to retrieve information about the function:\n"
   ]
  },
  {
   "cell_type": "markdown",
   "metadata": {},
   "source": [
    "\n",
    "```py\n",
    "import inspect\n",
    "\n",
    "inspect.getcomments(my_func) # returns the comment just above the function definition\n",
    "```\n"
   ]
  },
  {
   "cell_type": "markdown",
   "metadata": {},
   "source": [
    "\n",
    "## Unpacking iterables\n"
   ]
  },
  {
   "cell_type": "markdown",
   "metadata": {},
   "source": [
    "\n",
    "Iterables are `packed` structures that bundle values together (list, tuple, strings, set, dictionary..). As per the world meaning, `unpacking` is an operation that assigned the packed values to variables:\n"
   ]
  },
  {
   "cell_type": "markdown",
   "metadata": {},
   "source": [
    "\n",
    "```py\n",
    "a, b, c = [1,2,3]\n",
    "a, b, c, d = 'ciao'\n",
    "\n",
    "# N.B. we can unpack in the same way a dictionary or a set but in that case the order of assignment will be casual because these are unordered types of objects.\n",
    "```\n"
   ]
  },
  {
   "cell_type": "markdown",
   "metadata": {},
   "source": [
    "\n",
    "It comes handy when we want to swap values between variables:\n"
   ]
  },
  {
   "cell_type": "markdown",
   "metadata": {},
   "source": [
    "\n",
    "```py\n",
    "a = 10\n",
    "b = 20\n",
    "\n",
    "a, b = b, a\n",
    "# this works in python because the LHS is evaluated first, where the memory address of \"b\" and \"a\" is copied in a tuple and only after assigned to the new swap) variables \"a\" and \"b\".\n",
    "```\n"
   ]
  },
  {
   "cell_type": "markdown",
   "metadata": {},
   "source": [
    "\n",
    "## Unpacking with *\n"
   ]
  },
  {
   "cell_type": "markdown",
   "metadata": {},
   "source": [
    "\n",
    "We may want to unpack an iterable in more than one variable, and in this case it comes handy the `*` operator:\n"
   ]
  },
  {
   "cell_type": "markdown",
   "metadata": {},
   "source": [
    "\n",
    "```py\n",
    "l = [1,2,3,4]\n",
    "# we want to unpack the first element of l and the others apart\n",
    "#we could do it simply with list slicing and unpacking the\n",
    "a, b = l[0], l[1:]\n",
    "\n",
    "# or in a more elegant way with the * operator\n",
    "a, *b = l # a=1, b =[2,3,4] \n",
    "\n",
    "a, *b, c = l # a=1, b=[2,3], c=4\n",
    "a, *b, *c = l # ERROR we can unpack with only one *, otherwise python won't understand who assign to whom\n",
    "```\n"
   ]
  },
  {
   "cell_type": "markdown",
   "metadata": {},
   "source": [
    "\n",
    "Another advantage of the `*` operator is that can be used also with objects that don't support slicing (like sets or dictionaries, since they have no ordering). N.B. if more than one element is unpacked with *, it will always end up in a list (even if, for example, the item unpacked is a tuple).\n",
    "\n",
    "The * operator can be used also for unpacking objects on the RHS:\n"
   ]
  },
  {
   "cell_type": "markdown",
   "metadata": {},
   "source": [
    "\n",
    "```py\n",
    "l1 = [1,2]\n",
    "l2 = [3,4]\n",
    "l = [*l1, *l2] # l=[1,2,3,4]\n",
    "```\n"
   ]
  },
  {
   "cell_type": "markdown",
   "metadata": {},
   "source": [
    "\n",
    "With dictionaries we have both keys and values that can be unpacked (unordered unpacking since there is no order!). With the `*` operator we unpack the keys of the dict only, while with the `**` we can unpack both keys and values (N.B. `**` can be used only on the RHS).\n"
   ]
  },
  {
   "cell_type": "markdown",
   "metadata": {},
   "source": [
    "\n",
    "```py\n",
    "d1 = {'a': 1, 'b': 2}\n",
    "d2 = {'b': 3, 'c': 4}\n",
    "d = {*d1, *d2} # d={'a','b','c'} -> n.b. b was not repeated because keys are unique in sets and dictionaries.\n",
    "\n",
    "d = {**d1, **d2} # d={'a': 1, 'b': 3, 'c': 4} -> n.b. b has the values contained in d2 since it was unpacked for second and overwrite the keys from d1.\n",
    "```\n"
   ]
  },
  {
   "cell_type": "markdown",
   "metadata": {},
   "source": [
    "\n",
    "## Nested unpacking\n"
   ]
  },
  {
   "cell_type": "markdown",
   "metadata": {},
   "source": [
    "\n",
    "We can unpack also nested structures, such as list of lists, with the same operators.\n"
   ]
  },
  {
   "cell_type": "markdown",
   "metadata": {},
   "source": [
    "\n",
    "```py\n",
    "a, b*, (c, d*) = [1, 2, 3, 'python']\n",
    "# a=1, b=[2,3], c='p' d=['y','t','h','o','n']\n"
   ]
  },
  {
   "cell_type": "markdown",
   "metadata": {},
   "source": [
    "\n",
    "\n",
    "## *args and **kwargs\n"
   ]
  },
  {
   "cell_type": "markdown",
   "metadata": {},
   "source": [
    "\n",
    "Unpacking can be done also in functions parameters in order to specify a variable number of arguments as input:\n"
   ]
  },
  {
   "cell_type": "markdown",
   "metadata": {},
   "source": [
    "\n",
    "```py\n",
    "def my_func(a, b, *args): # N.B. the name 'args' is just a conventions\n",
    "  pass\n",
    "\n",
    "my_func(1,2,3,4) # a=1, b=2, c=(3,4)\n",
    "# note that inside function scope, arguments are unpacked into tuples e not lists\n",
    "```\n"
   ]
  },
  {
   "cell_type": "markdown",
   "metadata": {},
   "source": [
    "\n",
    "The positional argument constructor `*args` has to be the last positional argument in the function since it exhaust all the non-assigned positional arguments; after that only keyword arguments are allowed and these can be unpacked with the `**kwargs` parameter. The `*` and `**` operators can be used to limit the use of positional or keyword arguments.\n"
   ]
  },
  {
   "cell_type": "markdown",
   "metadata": {},
   "source": [
    "\n",
    "```py\n",
    "def my_func(*, name):\n",
    "  # in this way my_func doesn't allow positional arguments.\n",
    "  # name is automatically a keyword argument.\n",
    "  pass\n",
    "\n",
    "def my_func(a, *, name, **):\n",
    "  # in this way my_func allow only one positional argument `a` and one keyword argument `name'.\n",
    "  pass\n",
    "\n",
    "def my_func(*, **kwarg): # ERROR an explicit keyword argument is required after the `*`\n",
    "def my_func(*, name, **kwarg): # OK\n",
    "```\n"
   ]
  },
  {
   "cell_type": "markdown",
   "metadata": {},
   "source": [
    "\n",
    "## Parameters default\n"
   ]
  },
  {
   "cell_type": "markdown",
   "metadata": {},
   "source": [
    "\n",
    "Care must be taken when assigning default values to functions arguments, in particular if these are mutable objects. Wehn Python compile the script it stores in memory the function definition and any argument with default values. This means that each time that function is called, if the default parameters is left unchanged, it will use the specified values. In some case it may results in unwanted behaviors:\n"
   ]
  },
  {
   "cell_type": "markdown",
   "metadata": {},
   "source": [
    "\n",
    "```py\n",
    "# creating a function that store a message in a log file with the datetime\n",
    "from datetime import DateTime\n",
    "\n",
    "def log(msg, *, dt=datetime.utcnow()):\n",
    "  print(f'{dt}: {msg}')\n",
    "\n",
    "# Now, since the value of dt is stored at runtime, each time we call\n",
    "log('first log')\n",
    "# we will see that the time printed is alway the same since it has been stored at compilation time as a CONSTANT!\n",
    "\n",
    "# SOLUTION\n",
    "def log(msg, *, dt=None):\n",
    "  dt = dt or datetime.utcnow() # if dt is false (None) the 'or' statement is executed\n",
    "  print(f'{dt}: {msg}')\n",
    "# we can set dt=None and check if the user actually input a values for dt. If not the function will call datetime.utcnow().\n",
    "# Since this call is performed in the function scope, it gets executed each time the function is called. \n",
    "```\n"
   ]
  },
  {
   "cell_type": "markdown",
   "metadata": {},
   "source": [
    "\n",
    "Another example is when we create a mutable object directly as argument of a function. Also in this case, that object is evaluated as a constant at compilation time and reused as reference each time the function is called. This\n"
   ]
  },
  {
   "cell_type": "markdown",
   "metadata": {},
   "source": [
    "\n",
    "```py\n",
    "# create a function that store values into a list\n",
    "def add_item(item, func_list=[]):\n",
    "  func_list.append(item)\n",
    "  return func_list\n",
    "\n",
    "my_list1 = add_item('banana') # a list is created that references to `func_list`\n",
    "# so if i create another list of items\n",
    "my_list2 = add_item('coca')\n",
    "# now we have:\n",
    "# my_list1 = ['banana', 'coca']\n",
    "# my_list2 = ['banana', 'coca']\n",
    "# because they are both referencing to func_list!\n",
    "\n",
    "# SOLUTION\n",
    "def add_item(item, func_list=None):\n",
    "  func_list = func_list or list()\n",
    "  func_list.append(item)\n",
    "  return func_list\n",
    "```\n"
   ]
  },
  {
   "cell_type": "markdown",
   "metadata": {},
   "source": [
    "\n",
    "`KEY TAKE-AWAY`: Never use mutable objects as `default` arguments. Instead use None and create the object in the function scope. The only time it can come in handy is when using `memoization` to cache values from a function that is executed multiple times.\n"
   ]
  },
  {
   "cell_type": "markdown",
   "metadata": {},
   "source": [
    "\n",
    "## Map, Filter and Zip functions\n"
   ]
  },
  {
   "cell_type": "markdown",
   "metadata": {},
   "source": [
    "\n",
    "N.B. Map anf Filter have been mostly replaced by list comprehension and generator functions.\n",
    "\n",
    "These are `higher order functions` (i.e. function that takes a function as parameter and/or returns a function),\n",
    "\n",
    "`map` return an `iterator` that applies the function to each element in the iterable.\n",
    "\n"
   ]
  },
  {
   "cell_type": "markdown",
   "metadata": {},
   "source": [
    "\n",
    "```py\n",
    "map(func, *iterables)\n",
    "\n",
    "def sq(x):\n",
    "  return x**256\n",
    "\n",
    "l = [1, 2, 3]\n",
    "\n",
    "list(map(sq, l)) # => [1, 4, 9]\n",
    "# map returns a generator, therefore we need to pass it to list()\n",
    "list(map(lambda x: x**2, l)) # same thing using lambda\n",
    "```\n"
   ]
  },
  {
   "cell_type": "markdown",
   "metadata": {},
   "source": [
    "\n",
    "The number of iterables that are provided to map() is determined by the function that it is passed; if more than one iterable is provided, only the length of the shortest will be mapped.\n",
    "\n",
    "`filter` is a function that takes a function and a single iterable and returns the elements of the iterable that satisfies the condition given in the function, i.e. it filters the iterable.\n"
   ]
  },
  {
   "cell_type": "markdown",
   "metadata": {},
   "source": [
    "\n",
    "```py\n",
    "l = [0,1,2,3,4,5]\n",
    "list(filter(lambda n: n % 2 == 0, l)) # [0, 2, 4]\n",
    "```\n"
   ]
  },
  {
   "cell_type": "markdown",
   "metadata": {},
   "source": [
    "\n",
    "## Reducing Functions\n"
   ]
  },
  {
   "cell_type": "markdown",
   "metadata": {},
   "source": [
    "\n",
    "Also called, accumulators, aggregators or folding functions; are functions that recombine an iterable recursively, returning a single value (es. finding the max in an array, or summing up its elements).\n"
   ]
  },
  {
   "cell_type": "markdown",
   "metadata": {},
   "source": [
    "\n",
    "```py\n",
    "# write a reducing function to compute max, min and sum of an iterable.\n",
    "l = [5, 8, 6, 10, 9]\n",
    "\n",
    "add = lambda a, b: a+b\n",
    "find_max = lambda a, b: a if a > b else b\n",
    "find_min = lambda a, b: a if a < b else b\n",
    "\n",
    "def _reduce(fn, sequence):\n",
    "  result = sequence[0]\n",
    "  for x in sequence[1:]:\n",
    "    result = fn(result, x)\n",
    "  return result\n",
    "```\n"
   ]
  },
  {
   "cell_type": "markdown",
   "metadata": {},
   "source": [
    "\n",
    "The function `_reduce` takes two arguments, a function (add, find_max or find_min), and sequence of numbers. It applies the function recursively a return a single value (the sum, the max or the min) depending on the function passed.\n",
    "Python has a builtin modules that contain the function `reduce` similar to the one defined above, but that works on any iterables, also non index ones.\n"
   ]
  },
  {
   "cell_type": "markdown",
   "metadata": {},
   "source": [
    "\n",
    "```py\n",
    "from functools import reduce\n",
    "\n",
    "l = [5, 8, 6, 10, 9]\n",
    "reduce(lambda a, b: a if a > b else b, l) # find max of l\n",
    "'''\n",
    "Reduce has a third argument called 'initializer' that serve as first value for the reduced function. This is to avoid runtime error in the case, for example of trying to apply sum-reduce to an empty list.\n",
    "'''\n",
    "```\n",
    "\n",
    "Other builtin reducing function in python are:\n",
    "\n",
    "```py\n",
    "max()\n",
    "min()\n",
    "sum()\n",
    "any() # return True if at least one element in the sequence evaluates to True\n",
    "all() # return True if all the elements in the sequence evaluates to True\n",
    "```\n"
   ]
  },
  {
   "cell_type": "markdown",
   "metadata": {},
   "source": [
    "\n",
    "## Partial functions\n"
   ]
  },
  {
   "cell_type": "markdown",
   "metadata": {},
   "source": [
    "\n",
    "Partial functions are a way to reduce the number of argument required by a function, setting some of them as default. We could write ourself a wrapper to a function ore use the builtin `functools.partial` module.\n"
   ]
  },
  {
   "cell_type": "markdown",
   "metadata": {},
   "source": [
    "\n",
    "```py\n",
    "# create a function that compute the power of a number\n",
    "\n",
    "def pow(base, exponent):\n",
    "  return base ** exponent\n",
    "\n",
    "# we can create a partial function that specify the exponent so that it computes alway the square\n",
    "def square(base):\n",
    "  return pow(base, exponent=2)\n",
    "\n",
    "# or we can use the functools.partial module\n",
    "from functools import partial\n",
    "\n",
    "square = partial(pow, exponent=2)\n",
    "\n",
    "'''\n",
    "N.B. if we define a variable prior to the partial definition, and we assign that variable as argument, the argument won't point to the variable but to the values associated with its memory address. therefore even if we change the variable after, the value at which the partial function is pointing will remain the same\n",
    "'''\n",
    "\n",
    "a = 2\n",
    "square = partial(pow, exponent=a)\n",
    "# exponent is pointing at the same memory address of 'a' (the value 2) and not to a itself\n",
    "a = 5\n",
    "# the value assigned in the square function remain the same (2)\n",
    "```\n"
   ]
  },
  {
   "cell_type": "markdown",
   "metadata": {},
   "source": [
    "\n",
    "## The `operator` module\n"
   ]
  },
  {
   "cell_type": "markdown",
   "metadata": {},
   "source": [
    "\n",
    "The `operator` module is a builtin suits shipped with standard python installation. Its main purpose is to construct functional equivalents to arithmetic operation.\n"
   ]
  },
  {
   "cell_type": "markdown",
   "metadata": {},
   "source": [
    "\n",
    "```py\n",
    "from functools import reduced\n",
    "from operator import mul\n",
    "\n",
    "# we have seen how we can use lambda expression together with reduce to create recursive functions on sequences\n",
    "reduce(lambda x, y: x*y, [1,2,3,4]) # return the product of the elements of the list\n",
    "# the same can be achieved with the operator.mul\n",
    "reduce(mul, [1,2,3,4])\n",
    "```\n",
    "\n",
    "There is a variety of different methods in the operator module, for arithmetic/boolean operations (`mul()`, `add()`, `le()`, `is_()` ..), for sequences handling (`getitem()`, `setitem()`, `delitem()` ...) and for handling functions (`itemgetter()`, `attrgetter()`, `methodgetter()`...). These last ones don't return values but instances of the method called; they become an operator thyself (a function essentially) to be call on another objects.\n",
    "\n",
    "```py\n",
    "from operator import itemgetter\n",
    "l = [5, 8, 6, 10, 9]\n",
    "f = itemgetter(1, 3) # create a function that return the item at index 1 and 3\n",
    "f(l) # -> (8, 10)\n",
    "\n",
    "```\n"
   ]
  },
  {
   "cell_type": "markdown",
   "metadata": {},
   "source": [
    "\n",
    "# Scopes and Namespaces\n"
   ]
  },
  {
   "cell_type": "markdown",
   "metadata": {},
   "source": [
    "\n",
    "The `Scope` is the portion of the code in which a variable name is defined; it has an associated `namespace`, essentially a table that lists all the variables in the Scope and the associated memory addresses. There are different `Scope` in python and are defined in a nested structure. At the top, we have the `built-in` scope, the only truly global scopes that exists across each modules of Python, which contains the definitions of core elements such as `True`, `None`, `dict` etc. Nested inside the built-in scope there is the so called `Global` scope (even if it is not global in the sense that exist only inside a single file). Moreover, each function has its own scope, named `Local`, that is created each time the function is called (until the function is not called, the variables defined in its own scope are not compiled, therefore does not exist in the Global scope, where the function is defined).\n"
   ]
  },
  {
   "cell_type": "markdown",
   "metadata": {},
   "source": [
    "\n",
    "\n",
    "```py\n",
    "# module1.py\n",
    "print(True)\n",
    "# both print and True are not defined in the module1 scope, therefore python automatically goes up one level and look up for their definition in the builtin-scope\n",
    "print(a)\n",
    "# Error! 'a' has not been defined in the module scope and neither is in the built-in scope, therefore Python trows an error `run -time Name Error`\n",
    "```\n"
   ]
  },
  {
   "cell_type": "markdown",
   "metadata": {},
   "source": [
    "\n",
    "We can summarize that at `compile time` python looks at the code and predetermine which variables will eventually be in the local or global scope. When it encounter a `def` (function), it will look inside of it; if there are assignations (e.g. a = 100), it will understand that that variable will be part of the global scope only, unless the `global a` keyword is specified; if a variable is called but not assigned inside the function (e.g. print(a)), the compiler will determine that it is a non-local reference.\n"
   ]
  },
  {
   "cell_type": "markdown",
   "metadata": {},
   "source": [
    "\n",
    "```py\n",
    "a = 0 # global scope/namespace\n",
    "\n",
    "def func1():\n",
    "  print(a) # the compiler understand it is a non-local variable since there is no assignment inside the local scope\n",
    "\n",
    "def func2():\n",
    "  a = 100 # the compiler knows that this will be a local variable\n",
    "\n",
    "def func3():\n",
    "  global a # the compiler knows that this will refer to a global variable\n",
    "  a = 100 \n",
    "```\n"
   ]
  },
  {
   "cell_type": "markdown",
   "metadata": {},
   "source": [
    "\n",
    "## Masking\n"
   ]
  },
  {
   "cell_type": "markdown",
   "metadata": {},
   "source": [
    "\n",
    "It is defined masking, and should be avoided, when we overwrite a keyword from the built-in scope. Since Python first look at the module scope, if we have assigned a variable to an existing element in the built-in namespace, we will modify its standard behavior.\n"
   ]
  },
  {
   "cell_type": "markdown",
   "metadata": {},
   "source": [
    "\n",
    "```py\n",
    "# module1.py\n",
    "print = lambda x: f'Hello {x}'\n",
    "# we are redefining locally the 'meaning' of the variable print so now:\n",
    "print('world') # -> 'Hello world'\n",
    "# python is invoking the local definition of print e not the built-in one\n",
    "```\n"
   ]
  },
  {
   "cell_type": "markdown",
   "metadata": {},
   "source": [
    "\n",
    "The same behavior is applied between Global and Local scopes. When assigning a variable inside a functional scope, python sees it at compilation time and stores it (it will be created only when the function is called but the compiler is already aware that it exists).\n",
    "Therefore, if the same variable exist in the Global scope, when the function is called, it will be masked by the assignation in the local scope.\n"
   ]
  },
  {
   "cell_type": "markdown",
   "metadata": {},
   "source": [
    "\n",
    "```py\n",
    "a = 0 # global scope/namespace\n",
    "\n",
    "def my_func():\n",
    "  a = 100 # local scope/namespace\n",
    "  print(a)\n",
    "\n",
    "my_func() # a = 100, the global scope 'a' has been masked \n",
    "\n",
    "print(a) # a = 0, the global scope hasn't been modified, and the local scope of `my_func` has been destroyed after its execution.\n",
    "```\n"
   ]
  },
  {
   "cell_type": "markdown",
   "metadata": {},
   "source": [
    "\n",
    "There is also the possibility to avoid masking by explicitly tell python that the variable assigned in the local spaces are actually owned in the global space. This is done by declaring the `global` keyword at the beginning of a local scope. This is telling the compiler to look first in the global scope for that particular variable and, if not found, to create a new one.\n"
   ]
  },
  {
   "cell_type": "markdown",
   "metadata": {},
   "source": [
    "\n",
    "```py\n",
    "a = 0\n",
    "\n",
    "def my_func():\n",
    "  global a\n",
    "  a = 100 # local scope/namespace\n",
    "  print(a)\n",
    "\n",
    "my_func() # a = 100, since `global a` has been declared, the variable `a` in the global scope has been modified\n",
    "\n",
    "print(a) # a = 100\n",
    "```\n"
   ]
  },
  {
   "cell_type": "markdown",
   "metadata": {},
   "source": [
    "\n",
    "## Nonlocal scope\n"
   ]
  },
  {
   "cell_type": "markdown",
   "metadata": {},
   "source": [
    "\n",
    "When we define a function inside another function, a new scope is created which is not the global (module level) scope, nor the local (function level) scope. It is a middle scope called `non-local scope`. Variables belonging to the nonlocal scope are called `free variables`.\n"
   ]
  },
  {
   "cell_type": "markdown",
   "metadata": {},
   "source": [
    "\n",
    "```py\n",
    "def outer_func():\n",
    "  x = 10 # local scope of outer_func == non-local scope of inner_func\n",
    "  \n",
    "  def inner_func():\n",
    "    x = 20 # local scope of inner_func\n",
    "  \n",
    "  inner_func()\n",
    "\n",
    "  print(x)\n",
    "\n",
    "# if we call outer_func:\n",
    "outer_func() # x = 10 since the local scope of inner func has not modified the non-local scope (local scope of outer_func)\n",
    "```\n"
   ]
  },
  {
   "cell_type": "markdown",
   "metadata": {},
   "source": [
    "\n",
    "In the same way as we tell python that a variable in a local scope is `global`, we can specify a variable to be `non-local` (i.e. with the same reference of the one in the outer_func scope). \n"
   ]
  },
  {
   "cell_type": "markdown",
   "metadata": {},
   "source": [
    "\n",
    "```py\n",
    "def outer_func():\n",
    "  x = 10 # local scope of outer_func == non-local scope of inner_func\n",
    "  \n",
    "  def inner_func():\n",
    "    nonlocal x # now the reference of x is shared with the non-local (outer_func) scope\n",
    "    x = 20 # local scope of inner_func\n",
    "  \n",
    "  inner_func()\n",
    "\n",
    "  print(x)\n",
    "\n",
    "# if we call outer_func:\n",
    "outer_func() # x = 20 since the local scope of inner func has modified the non-local scope (local scope of outer_func)\n",
    "```\n"
   ]
  },
  {
   "cell_type": "markdown",
   "metadata": {},
   "source": [
    "\n",
    "N.B. if in a local scope we define a `global` variable, python will look in global scope for a match, otherwise it will create the global variable. Instead, when defining a `nonlocal` variable, python will look only in the non-local scope (the local scope of the parent function).\n"
   ]
  },
  {
   "cell_type": "markdown",
   "metadata": {},
   "source": [
    "\n",
    "```py\n",
    "def outer():\n",
    "  x = 0 # local scope of outer\n",
    "  \n",
    "  def inner1():\n",
    "    # local scope of inner1 == nonlocal scope of inner2\n",
    "    def inner2():\n",
    "      nonlocal x\n",
    "      x = 10 \n",
    "    inner2()\n",
    "\n",
    "  inner1()\n",
    "  print(x) # x = 0 because inner2 looked only in its nonlocal scope\n",
    "```\n"
   ]
  },
  {
   "cell_type": "markdown",
   "metadata": {},
   "source": [
    "\n",
    "# Closure\n"
   ]
  },
  {
   "cell_type": "markdown",
   "metadata": {},
   "source": [
    "\n",
    "A `Closure` is a special python constructor that is composed by a function and an extended scope (nonlocal scope) that contains free variables (nonlocal variables). This means that both the functions and the extended scope point to the same object, but python don't do this directly. Instead a `cell object` is created, pointing to the value of the free variable, while the free variable, in both the extended scope and the function scope, point to the cell object.\n"
   ]
  },
  {
   "cell_type": "markdown",
   "metadata": {},
   "source": [
    "\n",
    "```py\n",
    "def outer():\n",
    "  a = 10\n",
    "\n",
    "  x = 'python'  #----------\n",
    "                # THIS IS A\n",
    "  def inner():  # CLOSURE\n",
    "    print(x)    #----------\n",
    "  \n",
    "  return inner\n",
    "\n",
    "fn = outer() \n",
    "'''\n",
    "now outer has returned the function inner which should print x without directly containing a reference to the variable.\n",
    "Therefore, since the scope of the function outer is exhausted after it is called, we should expect that the variable x=python is lost and can't be referenced by fn. Instead, it is possible since python, during compilation, sees a Closure and create an intermediate cell object that share the reference to x both from inner and outer functions.\n",
    "'''\n",
    "\n",
    "x = python #--|\n",
    "             #|--> cell object --> str object `python`\n",
    "  print(x) #--|              \n",
    "```\n"
   ]
  },
  {
   "cell_type": "markdown",
   "metadata": {},
   "source": [
    "\n",
    "Both `x` in outer and inner functions point to a `cell object` which contains a reference to another object in memory containing the string `python`. This lets us be able to call the function inner, returned from the function outer, even if the scope of outer is already exhausted. We can inspect the closure and free variables of an object:\n"
   ]
  },
  {
   "cell_type": "markdown",
   "metadata": {},
   "source": [
    "\n",
    "```py\n",
    "# from previous example\n",
    "fn = outer()\n",
    "\n",
    "fn.__code__.co_freevars # (x) while a is not a \n",
    "fn.__closure__ # cell object at address xxx containing a str object ('python') at address yyy\n",
    "# the memory address of both the `x` (local and free) is the same and pointing to yyy\n",
    "```\n"
   ]
  },
  {
   "cell_type": "markdown",
   "metadata": {},
   "source": [
    "\n",
    "We can have multiple instance of the same closure, this means che each time a cell object is created, leaving the behavior of the different instance of the closure independent.\n"
   ]
  },
  {
   "cell_type": "markdown",
   "metadata": {},
   "source": [
    "\n",
    "```py\n",
    "def counter():\n",
    "  # beginning of Closure\n",
    "  count = 0\n",
    "\n",
    "  def inc():\n",
    "    nonlocal count\n",
    "    count += 1\n",
    "    return count\n",
    "  # end of Closure\n",
    "\n",
    "  return inc\n",
    "\n",
    "  f1 = counter()\n",
    "  f2 = counter()\n",
    "  # f1 and f2 behavior is independent\n",
    "```\n"
   ]
  },
  {
   "cell_type": "markdown",
   "metadata": {},
   "source": [
    "## Shared extend scope\n"
   ]
  },
  {
   "cell_type": "markdown",
   "metadata": {},
   "source": [
    "\n",
    "At the same time we can have `shared extended scope` of two different closures.\n"
   ]
  },
  {
   "cell_type": "markdown",
   "metadata": {},
   "source": [
    "\n",
    "```py\n",
    "def outer():\n",
    "  count = 0\n",
    "\n",
    "  def inc1():\n",
    "    nonlocal count\n",
    "    count += 1\n",
    "    return count\n",
    "\n",
    "  def inc2():\n",
    "    nonlocal count\n",
    "    count += 1\n",
    "    return count\n",
    "\n",
    "  return inc1, inc2\n",
    "\n",
    "f1, f2 = outer() \n",
    "```\n"
   ]
  },
  {
   "cell_type": "markdown",
   "metadata": {},
   "source": [
    "\n",
    "`f1` and `f2` are two closure that share the free variable `count` therefore both the functions, when called, will increment the value of count. If this behavior is wanted, then no problem, but often happens to share the same free variable without knowing it.\n"
   ]
  },
  {
   "cell_type": "markdown",
   "metadata": {},
   "source": [
    "\n",
    "```py\n",
    "# create a list of functions that add a two values\n",
    "adders = []\n",
    "for n in range(1, 4):\n",
    "  adders.append(lambda x: x + n)\n",
    "\n",
    "# what we expect to have is a list of functions\n",
    "adders = [f1(n=1), f2(n=2), f3(n=3)]\n",
    "# therefore calling \n",
    "adders[2](10) # should return 12 = 10 + 2 \n",
    "# instead all the three functions will add 3, i.e. the last value at which n was pointing to\n"
   ]
  },
  {
   "cell_type": "markdown",
   "metadata": {},
   "source": [
    "```\n",
    "\n",
    "`n` is a global variable, and it doesn't get evaluated until the function is called, and at that time, after the for loop is executed is equal to 3. As a matter of fact we don't have a closure since `n` is a global variable. The correct way to achieve this would be:\n"
   ]
  },
  {
   "cell_type": "markdown",
   "metadata": {},
   "source": [
    "\n",
    "```py\n",
    "def create_adders():\n",
    "  adders = []\n",
    "  for n in range(1, 4):\n",
    "    adders.append(lambda x, y=n: x + y) # in this way we are saving the value of n at each iteration \n",
    "  return adders\n",
    "\n",
    "# since we have specified a default value for `y`, this will be evaluated at creation time, not at runtime (i.e. when the function is called). `y` won't point to the object `n` itself but to its value at each iteration. Therefore, `y=n` belong to the local scope of the `create_adders` function, therefore, the functions appended to adders are actually closures\n",
    "```\n"
   ]
  },
  {
   "cell_type": "markdown",
   "metadata": {},
   "source": [
    "\n",
    "## Nested Closure\n"
   ]
  },
  {
   "cell_type": "markdown",
   "metadata": {},
   "source": [
    "\n",
    "It is common, e.g. in decorators, to have nested closures:\n"
   ]
  },
  {
   "cell_type": "markdown",
   "metadata": {},
   "source": [
    "\n",
    "```py\n",
    "# define a function that takes an increment and a starting values and return a function that add the increment each time is called. The\n",
    "def increment(n):\n",
    "\n",
    "  def inner(start):\n",
    "    current = start\n",
    "    \n",
    "    def inc():\n",
    "      nonlocal current\n",
    "      current += n\n",
    "      return current\n",
    "\n",
    "    return inc\n",
    "  return inner\n",
    "\n",
    "# Now inc has two free variables (current, n) one that lives in the `inner` scope and one in the `increment` scope.\n",
    "# if we call:\n",
    "fn = increment(2) # we will return the inner function with the variable n = 2\n",
    "fn.__code__.co_freevars # `n` is the free variable of the closure containing the `inner` function\n",
    "# if we than call:\n",
    "inc_2 = fn(100) # we will return the `inc` function with the variable n = 2 and current = 100\n",
    "inc.__code__.co_freevars # `n` and `current` are the free variables of the closure containing the `inc` function\n",
    "# now if we call:\n",
    "inc_2() # -> 102\n",
    "inc_2() # -> 104\n",
    ".\n",
    ".\n",
    "```\n"
   ]
  },
  {
   "cell_type": "markdown",
   "metadata": {},
   "source": [
    "\n",
    "## Application\n",
    "\n",
    "*hold*\n"
   ]
  },
  {
   "cell_type": "markdown",
   "metadata": {},
   "source": [
    "\n",
    "# Decorators\n"
   ]
  },
  {
   "cell_type": "markdown",
   "metadata": {},
   "source": [
    "\n",
    "A decorator is a function that takes a function as argument and returns a closure (that in general accept any number of arguments *args and **kwargs) that contain that same function passed with the addition of extra functionality. Let's see an example:\n"
   ]
  },
  {
   "cell_type": "markdown",
   "metadata": {},
   "source": [
    "\n",
    "```py\n",
    "def counter(fn): # counter takes a function as argument\n",
    "  count = 0\n",
    "  def inner(*args, **kwargs): \n",
    "    nonlocal count\n",
    "    count +=1\n",
    "    print(f'Function {fn.__name} was called {count} times')\n",
    "    return fn(*args, **kwargs)\n",
    "  return inner\n",
    "\n",
    "def add(a, b):\n",
    "  return a + b\n",
    "\n",
    "add = counter(add) # closure function is returned by counter()\n",
    "# now add is no more referencing to the 'def add' function but to it's decorated version, returned by counter()  \n",
    "\n",
    "result = add(1, 2) # -> 3\n",
    "```\n"
   ]
  },
  {
   "cell_type": "markdown",
   "metadata": {},
   "source": [
    "\n",
    "In the example above, `counter()` is essentially a `decorator`; it takes an arbitrary function with any arbitrary arguments, and return the same function with the new \"ability\" of taking track of how many times it has been called. We reassigned the name add to the decorated function, to pointing out that the function is still the same but now points to the closure returned by `counter()`. Returning a closure is something pretty common in python, therefore and handy way has been defined to decorate a function using the `@` symbol.\n"
   ]
  },
  {
   "cell_type": "markdown",
   "metadata": {},
   "source": [
    "\n",
    "```py\n",
    "# once the function counter has been defined from previous example\n",
    "\n",
    "@counter\n",
    "def add(a, b):\n",
    "  return a + b\n",
    "```\n"
   ]
  },
  {
   "cell_type": "markdown",
   "metadata": {},
   "source": [
    "\n",
    "All good so far, but now if we look for the metadata of the function `add` we'll see that these now refers to the closure function `inner` and not to the original definition (`__name__`, `__doc__` etc. point to the closure function). The pythonic solution to this problem is to use the module `functools.wraps`:\n"
   ]
  },
  {
   "cell_type": "markdown",
   "metadata": {},
   "source": [
    "\n",
    "```py\n",
    "from functools import wraps\n",
    "\n",
    "def counter(fn):\n",
    "  count = 0\n",
    "  @wraps(fn) # we are decorating the inner function\n",
    "  def inner(*args, **kwargs): \n",
    "    nonlocal count\n",
    "    count +=1\n",
    "    print(f'Function {fn.__name} was called {count} times')\n",
    "    return fn(*args, **kwargs)\n",
    "  return inner\n",
    "```\n"
   ]
  },
  {
   "cell_type": "markdown",
   "metadata": {},
   "source": [
    "\n",
    "## Multiple decorators\n"
   ]
  },
  {
   "cell_type": "markdown",
   "metadata": {},
   "source": [
    "\n",
    "Multiple decorators can be passed to a function; care must be taken to ensure that the order of execution of the two or more decorators respect what wanted by the coder. For example:\n"
   ]
  },
  {
   "cell_type": "markdown",
   "metadata": {},
   "source": [
    "\n",
    "```py\n",
    "def dec_1(fn):\n",
    "  def inner(*args, **kwargs):\n",
    "    print('dec_1 called')\n",
    "    result = fn() # calling the decorated function\n",
    "    return result\n",
    "  return inner # return the closure\n",
    "\n",
    "def dec_2(fn):\n",
    "  def inner(*args, **kwargs):\n",
    "    print('dec_2 called')\n",
    "    result = fn() # calling the decorated function\n",
    "    return result\n",
    "  return inner # return the closure\n",
    "\n",
    "\n",
    "@dec_1\n",
    "@dec_2\n",
    "def my_func():\n",
    "  print('my_func called')\n",
    "\n",
    "'''\n",
    "Calling my_func, decorated in this order, is equal to do:\n",
    "\n",
    "my_func = dec_1(dec_2(my_func))\n",
    "\n",
    "Therefore, first the closure dec_2(my_func) is evaluated and passed to dec_1(). Since inside the decorators the print() is executed before the function call (result = fn()), the printing output will be:\n",
    "\n",
    "dec_1 called\n",
    "dec_2 called\n",
    "my_func called\n",
    "\n",
    "because first the dec_1 function is called, it prints its output, then call fn passed as argument, which is dec_2(my_func); therefore dec_2 is called, it prints its output, then call the fn passed as argument, i.e. my_func, that prints its output.\n",
    "N.B. if the print() had been placed after the fn() call, the print-out order would had been reversed! This is to say that depending on the functionality we want to implement with our decorators, the order of application matters!\n",
    "'''\n",
    "```\n"
   ]
  },
  {
   "cell_type": "markdown",
   "metadata": {},
   "source": [
    "\n",
    "## Memoization\n"
   ]
  },
  {
   "cell_type": "markdown",
   "metadata": {},
   "source": [
    "\n",
    "Another very powerful application of decorators is called `memoization`, i.e. the process of storing data into cache to avoid excessive recursive calculation (like in the fibonacci or factorial function). Let's take as an example a function to compute the fibonacci value at the n position:\n"
   ]
  },
  {
   "cell_type": "markdown",
   "metadata": {},
   "source": [
    "\n",
    "```py\n",
    "# with recursion\n",
    "def fib(n):\n",
    "  return 1 if n < 3 else fib(n-1) + fib(n-2)\n",
    "```\n"
   ]
  },
  {
   "cell_type": "markdown",
   "metadata": {},
   "source": [
    "\n",
    "In this way, the function works and it is elegant, but it is not performant since it has to compute each time all the previous numbers in the fibonacci series. A way to solve this problem is to cache the results each time they are computed, and this can be easily implemented creating a class:\n"
   ]
  },
  {
   "cell_type": "markdown",
   "metadata": {},
   "source": [
    "\n",
    "```py\n",
    "class Fib:\n",
    "  def __init__(self):\n",
    "    self.cache = dict()\n",
    "\n",
    "    def fib(n):\n",
    "      if n not in self.cache:\n",
    "        cache[n] = self.fib(n-1) + self.fib(n-2)\n",
    "      return self.cache[n]\n",
    "```\n"
   ]
  },
  {
   "cell_type": "markdown",
   "metadata": {},
   "source": [
    "\n",
    "In this way, after creating an instance of Fib(), fibonacci sequence will be stored while computed (n.b. cache won't be shared between instances, each new instance will have its cache empty at the beginning). The same can be accomplished with a closure (i.e. with a decorator):\n"
   ]
  },
  {
   "cell_type": "markdown",
   "metadata": {},
   "source": [
    "\n",
    "```py\n",
    "def fib():\n",
    "  cache = dict()\n",
    "\n",
    "  def calc_fib(n):\n",
    "    if n not in cache:\n",
    "      # cache is a nonlocal parameter\n",
    "      cache[n] = calc_fib(n-1) + calc_fib(n-2)\n",
    "    return cache[n] \n",
    "\n",
    "  return calc_fib # return the closure\n",
    "```\n"
   ]
  },
  {
   "cell_type": "markdown",
   "metadata": {},
   "source": [
    "\n",
    "From the function `fib()` to a decorator the path is short; we just need to generalize its structure:\n"
   ]
  },
  {
   "cell_type": "markdown",
   "metadata": {},
   "source": [
    "\n",
    "```py\n",
    "def memoize_fib(fib):\n",
    "  cache = dict()\n",
    "\n",
    "  def inner(n):\n",
    "    if n not in cache:\n",
    "      # the decorator is not carrying out the recursion\n",
    "      # it is only caching values\n",
    "      cache[n] = fib(n)\n",
    "    return cache[n] \n",
    "\n",
    "  return inner # return the closure\n",
    "\n",
    "@memoize_fib\n",
    "def fib(n):\n",
    "  return 1 if n < 3 else fib(n-1) + fib(n-2)\n",
    "```\n"
   ]
  },
  {
   "cell_type": "markdown",
   "metadata": {},
   "source": [
    "\n",
    "It is worth to note that `memoize_fib` is not a general purpose decorator since it does not accept any number of arguments or keyword arguments (*args, **kwargs) as it usually does, but it is precisely built to work with the function `fib`. Another important aspect to handle is to limit the cache size to safeguard the tradeoff between performance and memory usage. Of course python as already a builtin decorator specifically design for memoization. It comes shipped with the `functools` module.\n"
   ]
  },
  {
   "cell_type": "markdown",
   "metadata": {},
   "source": [
    "\n",
    "```py\n",
    "from functools import lru_cache # least recently used cache\n",
    "\n",
    "@lru_cache() # lru_cache decorators accept arguments.. see below\n",
    "def fib(n):\n",
    "  return 1 if n < 3 else fib(n-1) + fib(n-2)\n",
    "```\n"
   ]
  },
  {
   "cell_type": "markdown",
   "metadata": {},
   "source": [
    "\n",
    "## Parametrized decorators\n"
   ]
  },
  {
   "cell_type": "markdown",
   "metadata": {},
   "source": [
    "\n",
    "Parametrized decorators are the ones that can handle arguments (such as `wrap` and `lru_cache`). Imagine we have a decorator that run a function a number of time `n` set by the user:\n"
   ]
  },
  {
   "cell_type": "markdown",
   "metadata": {},
   "source": [
    "\n",
    "```py\n",
    "def run_n_times(fn):\n",
    "  n = 10\n",
    "\n",
    "  def inner(*args, **kwargs):\n",
    "    for _ in range(n):\n",
    "      fn(*args, **kwargs))\n",
    "    return print('{fn.__name__} was called {n} times)\n",
    "\n",
    "  return inner\n",
    "\n",
    "@run_n_times\n",
    "def my_func():\n",
    "  pass\n",
    "```\n"
   ]
  },
  {
   "cell_type": "markdown",
   "metadata": {},
   "source": [
    "\n",
    "Now, the number of times the function is called has been hardcoded in the decorator, but we want to be able to change that parameter. We can think at something like:\n"
   ]
  },
  {
   "cell_type": "markdown",
   "metadata": {},
   "source": [
    "\n",
    "```py\n",
    "def run_n_times(fn, n: int):\n",
    "  def inner(*args, **kwargs):\n",
    "    for _ in range(n):\n",
    "      fn(*args, **kwargs))\n",
    "    return print('{fn.__name__} was called {n} times')\n",
    "\n",
    "  return inner\n",
    "\n",
    "# now we would expect to call the decorator as:\n",
    "@run_n_times(10)\n",
    "def my_func():\n",
    "  pass\n",
    "\n",
    "# however, the argument `10` in the decorator call is in the position of `fn`, therefore it won't work.\n",
    "# we could instead apply the decorator indirectly as:\n",
    "my_func = run_n_times(my_func, 10)\n",
    "# and this will work but how to implement the same behavior with the @ method?\n",
    "```\n"
   ]
  },
  {
   "cell_type": "markdown",
   "metadata": {},
   "source": [
    "\n",
    "In order to be able to use the `@` symbol with a decorator that accept arguments, we need that decorator to return a decorator itself when called. The result of `run_n_times(10)` has to be another decorator that actually perform the decoration we want. The solution is straightforward: we need to enclose our decorator in a `decorator factory` that will olds the extra parameters needed.\n"
   ]
  },
  {
   "cell_type": "markdown",
   "metadata": {},
   "source": [
    "\n",
    "```py\n",
    "def run_n_times(n: int): # decorator factory\n",
    "\n",
    "  def inner1(fn): # decorator\n",
    "\n",
    "    def inner2(*args, **kwargs):\n",
    "      for _ in range(n):\n",
    "        fn(*args, **kwargs)\n",
    "      return print('{fn.__name__} was called {n} times')\n",
    "\n",
    "    return inner2\n",
    "  \n",
    "  return inner1\n",
    "```\n"
   ]
  },
  {
   "cell_type": "markdown",
   "metadata": {},
   "source": [
    "\n",
    "Now the call `@run_n_times(10)` actually returns the decorator `inner1` which implement the functionality we originally looked for:\n"
   ]
  },
  {
   "cell_type": "markdown",
   "metadata": {},
   "source": [
    "\n",
    "```py\n",
    "@run_n_times(10) # returns the decorator `inner1`\n",
    "def my_func():\n",
    "  pass\n",
    "\n",
    "# this is equivalent to say:\n",
    "my_func = run_n_times(10)(my_func)\n",
    "```\n"
   ]
  },
  {
   "cell_type": "markdown",
   "metadata": {},
   "source": [
    "\n",
    "## Decorator class\n",
    "\n",
    "Not only functions can be used to create decorators factory, but also classes. As a matter of fact, thanks to the `__call__` method, we can replicate the same exact behavior seen in the previous example:\n"
   ]
  },
  {
   "cell_type": "markdown",
   "metadata": {},
   "source": [
    "\n",
    "```py\n",
    "class MyClass:\n",
    "  def __init__(self, n): # the instance of the class become the decorator factory\n",
    "    self.n = n\n",
    "\n",
    "    def __call__(self, fn): # this is the actual decorator\n",
    "      def inner(*args, **kwargs):\n",
    "        return fn(*args, **kwargs)\n",
    "      return inner # closure\n",
    "\n",
    "@MyClass(10)\n",
    "def my_func():\n",
    "  pass\n",
    "```\n"
   ]
  },
  {
   "cell_type": "markdown",
   "metadata": {},
   "source": [
    "\n",
    "## Monkey Patching and Decorating classes\n",
    "\n",
    "Functions are not the only object that can be decorated; Classes too can thanks to the dynamic behavior of python that allows the so called `Monkey Patching`, i.e. the modification/addition of attributes/methods to classes at runtime. Essentially, we are able to mutate the behavior of a class at runtime. Imagine we are using the class `Fraction` and we want to add to it some functionality; we can do the following:\n"
   ]
  },
  {
   "cell_type": "markdown",
   "metadata": {},
   "source": [
    "\n",
    "```py\n",
    "from fractions import Fraction\n",
    "\n",
    "f = Fraction(2,3) # create an instance of the Fraction class\n",
    "# we want the class `Fraction` to be able to speak ...\n",
    "# if we write:\n",
    "f.speak = 100\n",
    "# we are Monkey Patching the class Fraction at runtime, so if following we say:\n",
    "f.speak # -> it will return 100\n",
    "```\n"
   ]
  },
  {
   "cell_type": "markdown",
   "metadata": {},
   "source": [
    "\n",
    "We can make the `Monkey Patched` methods also callable, for example using a lambda function (we can directly patch the class instead of an instance of it):\n"
   ]
  },
  {
   "cell_type": "markdown",
   "metadata": {},
   "source": [
    "\n",
    "```py\n",
    "Fraction.speck = lambda self, message: f'Fraction says {message}'\n",
    "# we need `self` as argument because we will pass to the method an instance of the class Fraction\n",
    "# Now we can call:\n",
    "f.speak('You cannot pass!') # -> 'Fraction says You cannot pass!'\n",
    "```\n"
   ]
  },
  {
   "cell_type": "markdown",
   "metadata": {},
   "source": [
    "\n",
    "We can see how the process of monkey-patching is essentially a decoration of a class adn, as a matter of fact it can be done with a decorator function:\n"
   ]
  },
  {
   "cell_type": "markdown",
   "metadata": {},
   "source": [
    "\n",
    "```py\n",
    "def decorator_speak(cls): # we are passing a class to the function\n",
    "  cls.speak = lambda self, message: f'{self.__class__.__name__} says {message}'\n",
    "  return cls # return is only needed if we want to decorate with the `@` symbol\n",
    "\n",
    "# Now we can simply write on any class:\n",
    "class Person:\n",
    "  pass\n",
    "\n",
    "Person = decorator_speak(Person) # indirect decoration\n",
    "p = Person() # instance of the class\n",
    "p.speak # method inherited from the decorator\n",
    "```\n"
   ]
  },
  {
   "cell_type": "markdown",
   "metadata": {},
   "source": [
    "\n",
    "Let's do something more useful; Imagine we want to debug an existing class creating a decorator.\n"
   ]
  },
  {
   "cell_type": "markdown",
   "metadata": {},
   "source": [
    "\n",
    "```py\n",
    "def info(obj): # think of this as of the method we would write inside the class, i.e. 'obj' would be 'self'\n",
    "  from datetime import datetime, timezone\n",
    "  results = {\n",
    "    'time' : f'{datetime.now(timezone.utc)}',\n",
    "    'name' : obj.__class__.__name__,\n",
    "    'id' : hex(id(obj)),\n",
    "    'vars' : [(k,v) for k, v, in vars(obj).items()]\n",
    "  }\n",
    "  return results\n",
    "\n",
    "\n",
    "def debug_class(cls): # This is the decorator\n",
    "  cls.debug = info\n",
    "  return cls \n",
    "\n",
    "\n",
    "# if we want to pass the decorator in function-style:\n",
    "debug_class(Person)\n",
    "# we don't need the function to 'return cls' since we are modifying an object inplace.\n",
    "# However, if we want to use the `@` we need the return, because otherwise, the default return is 'None'.\n",
    "Person = debug_class(Person) \n",
    "# the rhs is returning None and it is assign it to 'Person' that therefore doesn't point anymore to the class Person nor to its decorated version.\n",
    "\n",
    "@debug_class\n",
    "class Person:\n",
    "  def __init__(self, name, age, employed=True):\n",
    "    self.name = name\n",
    "    self.age = age\n",
    "    self.employed = employed\n",
    "\n",
    "p = Person('Giovanni', 32)\n",
    "p.debug()\n",
    "'''\n",
    "{'id': '0x7ff925ec2150',\n",
    " 'name': 'Person',\n",
    " 'time': '2022-01-26 10:11:05.647618+00:00',\n",
    " 'vars': [('name', 'Giovanni'), ('age', 32), ('employed', True)]}\n",
    "'''\n",
    "```\n"
   ]
  },
  {
   "cell_type": "markdown",
   "metadata": {},
   "source": [
    "\n",
    "## Single Dispatch Generic Functions\n",
    "\n",
    "First lets define what overloading is:\n",
    "\n",
    "`Overloading` in object oriented programming is the ability to create more then a function with the same name al long as its signature is different (essentially if the two functions are distinguishable, i.e. different number/type of arguments etc..). When the program is compiled, the interpreter will understand, based on the signature at which function with the same name we are referring to. \n",
    "\n",
    "In python, since there is no static typing, we can't declare a function signature, therefore, overloading, in its strict sense, is not possible. A workaround to this problem is called  `single dispatch generic function`, which allows us to overload functions based on the type of the first argument (if we want to consider the type of more arguments we need `multi dispatch`).\n"
   ]
  },
  {
   "cell_type": "markdown",
   "metadata": {},
   "source": [
    "\n",
    "\n",
    "### Application - `Htmlizer`\n"
   ]
  },
  {
   "cell_type": "markdown",
   "metadata": {},
   "source": [
    "\n",
    "\n",
    "\n",
    "\n",
    "\n",
    "# Python optimizations\n"
   ]
  },
  {
   "cell_type": "markdown",
   "metadata": {},
   "source": [
    "\n",
    "## Interning\n",
    "\n",
    "Python at startup automatically pre-loads (caches) a global list of integer in the range [-5, 256], so these integers have a fixed memory reference. Since these numbers show up often, avoid to reference these each time they appear results in an optimization. A number outside this range will require a new memory reference, and that's why:\n"
   ]
  },
  {
   "cell_type": "markdown",
   "metadata": {},
   "source": [
    "\n",
    "```py\n",
    "a = 500\n",
    "b = 500\n",
    "a is b # will return False\n",
    "```\n"
   ]
  },
  {
   "cell_type": "markdown",
   "metadata": {},
   "source": [
    "\n",
    "The caches integers are called `Singletons`, basically classes that can be instantiated only once.\n",
    "\n",
    "The same might happen with some strings; python can interning some string (that follow certain rules, letters and numbers concatenated with underscores) in order to speed up the equality (if a string in interned than i can use the `is` operator, otherwise i have to use the `==` character by character). We can force python to interning strings with the sys module:\n"
   ]
  },
  {
   "cell_type": "markdown",
   "metadata": {},
   "source": [
    "\n",
    "```py\n",
    "'''\n",
    "usually is something we don't need, unless for example we are working with a large ste of string for NPL and we need to tokenize some words that are reaped often. In this case it can be a useful optimization, since if a string is interned it becomes a Singleton and can be compared with the mush faster 'is' operator.\n",
    "'''\n",
    "import sys\n",
    "\n",
    "a = sys.intern('this will be interned')\n",
    "```\n"
   ]
  },
  {
   "cell_type": "markdown",
   "metadata": {},
   "source": [
    "\n",
    "## Peephole\n",
    "\n",
    "Is an optimization that occur at compile time (so it is repeated each time the script is launched). For example we can have `Constant expression` like numeric calculation thata are better read as the operation rather than the results:\n"
   ]
  },
  {
   "cell_type": "markdown",
   "metadata": {},
   "source": [
    "\n",
    "```py\n",
    "minute_in_day = 60 * 24 # 1440\n",
    "```\n"
   ]
  },
  {
   "cell_type": "markdown",
   "metadata": {},
   "source": [
    "\n",
    "The expression `60 * 24` is more readable than `1440` but we may thing that, if the variable is called multiple times, we may have performance issues. This is not the case because this is a constant expression and python knows it, so the first time it encounters the variable stores its results, without having to compute it again.\n",
    "\n",
    "The same happen for membership tests, i.e. check if an object is in a list. If we have a constant expression, python will replace the mutable object with is immutable counterpart (list-> tuples, sets -> fronzensets)\n"
   ]
  },
  {
   "cell_type": "markdown",
   "metadata": {},
   "source": [
    "\n",
    "```py\n",
    "for i in range(100000):\n",
    "  if i in [1,2,3]:\n",
    "    pass\n",
    "```\n"
   ]
  },
  {
   "cell_type": "markdown",
   "metadata": {},
   "source": [
    "\n",
    "The list `[1,2,3]` is converted into a tuple `(1,2,3)` so that, being immutable, it has a fixed memory address.\n",
    "\n",
    "N.B. sets, since are similar to dictionaries (hashmaps), are much more efficient than lists for membership testing!\n"
   ]
  },
  {
   "cell_type": "markdown",
   "metadata": {},
   "source": [
    "\n",
    "# Numeric Types\n"
   ]
  },
  {
   "cell_type": "markdown",
   "metadata": {},
   "source": [
    "\n",
    "## Integers\n",
    "\n",
    "Integer are represented internally using base-2 digits (binary representation)\n"
   ]
  },
  {
   "cell_type": "markdown",
   "metadata": {},
   "source": [
    "\n",
    "```\n",
    "# es. binary representation of 19\n",
    "\n",
    " 0   0   0   1   0   0   1   1 \n",
    "--- --- --- --- --- --- --- ---   -> max num of bits = 8\n",
    "2^7 2^6 2^5 2^4 2^3 2^2 2^1 2^0\n",
    "\n",
    "1x2^4 + 0x2^3 + 0x2^2 + 1*2^1 + 1*2^0 = 16 + 2 + 1 = 19\n",
    "\n",
    "(10011)base_2 = (19)base_10\n",
    "\n",
    "To represent the number 19 are required 5 digits, hence 5 bits.\n",
    "```\n"
   ]
  },
  {
   "cell_type": "markdown",
   "metadata": {},
   "source": [
    "\n",
    "But which is the largest number we can store depending on the number of bits we want to store? It depends whether or not we care about negative values, since in order to store the sign we have to allocate one bit.\n",
    "The general formula is:\n"
   ]
  },
  {
   "cell_type": "markdown",
   "metadata": {},
   "source": [
    "\n",
    "```py\n",
    "max_unsigned_digit = 2^n -1 # where n is the number of bits\n",
    "max_signed_digits = [-2^(n-1), 2^(n-1)-1]\n",
    "```\n"
   ]
  },
  {
   "cell_type": "markdown",
   "metadata": {},
   "source": [
    "\n",
    "Side-Note: a 32 bit Operative system can store 2^32 unsigned integers (roughly 4Gb) and this limits also the number of memory address that can be stored at the same time. This is why having more than 4Gb of ram on a 32 bit OS is essentially useless since the machine can't store more than 4 Gb at the same time.\n"
   ]
  },
  {
   "cell_type": "markdown",
   "metadata": {},
   "source": [
    "\n",
    "### Operations\n",
    "\n",
    "How mod `//` (floor division) and div `%` (modulo) operators works in python? mod returns the floor division (rounded to the smaller integer) while div return the remainder. They have to satisfy the following equation:\n"
   ]
  },
  {
   "cell_type": "markdown",
   "metadata": {},
   "source": [
    "\n",
    "```py\n",
    "n = d * (n // d) + (n % d) # where n is the numerator and d is the denominator\n",
    "\n",
    "#n.b. the `floor` of a real number `a` is the largest integer `<= a` \n",
    "floor(3.14) = 3\n",
    "floor(-3.1) = 3\n",
    "```\n"
   ]
  },
  {
   "cell_type": "markdown",
   "metadata": {},
   "source": [
    "\n",
    "### Base\n",
    "\n",
    "We can create an `int` object by calling the `int()` constructor; this has an optional parameter that is the base that python has to use to translate the argument (it may also be a string). The default values is base=10, since it is the way we are use to read numbers (while machines works in binary, so base=2). If the base is greater then 10 that the numbers start to be encoded with letters ( base[0, 10] = [0, 10], base[11, 27] = [A, Z])\n",
    "\n",
    "Python has some built-in function to translate the most common base like `bin()` for binary `hex()` for hexadecimal.\n"
   ]
  },
  {
   "cell_type": "markdown",
   "metadata": {},
   "source": [
    "\n",
    "```py\n",
    "bin(10) = 0b1010 # the 0b is telling us that the base 2 (binary)\n",
    "```\n"
   ]
  },
  {
   "cell_type": "markdown",
   "metadata": {},
   "source": [
    "\n",
    "## Rational Numbers\n",
    "\n",
    "Rational numbers are those number which are not integer and can be represented with a finite number of digits or translated into a fraction of rational numbers. The module `fraction` can be used to represent rational numbers, since the float representation can be misleading due to machine precision.\n",
    "\n"
   ]
  },
  {
   "cell_type": "markdown",
   "metadata": {},
   "source": [
    "\n",
    "```py\n",
    "from fraction import Fraction\n",
    "\n",
    "Fraction(1,2) #(numerator, denominator)\n",
    "Fraction('0.125')\n",
    "Fraction(22/7)\n",
    "\n",
    "# CAVEAT\n",
    "'''\n",
    "Some numbers can't have a finite representation due to machine precision. For example 0.3 it is actually an approximation. The problem is that we have to look at something like the 20th decimal position in order to realize that this is the case. If we pass this number to Fraction() we would imagine to receive 3/10 as output; instead we would get a fraction of very huge numbers that best approximate that imprecision in the machine representation of 0.3 (0.2999999999999999999998977..)\n",
    "'''\n",
    "```\n"
   ]
  },
  {
   "cell_type": "markdown",
   "metadata": {},
   "source": [
    "\n",
    "## Floats (Real Numbers)\n",
    "\n",
    "In CPython floats are implemented as `C double` which implements the `binary64` (IEEE 754).\n",
    "Floats use a fixed size of 64 bits divide as follow:\n",
    "\n",
    "- sign -> 1 bit\n",
    "- exponent (in the range[-1022, 1023]) -> 11bit\n",
    "- significant digits -> 52 bit (15-17 significant digit in base_10)\n",
    "\n",
    "To have a precise representation of real numbers (since float may be effected by machine precision), we can use the `decimal` module.\n"
   ]
  },
  {
   "cell_type": "markdown",
   "metadata": {},
   "source": [
    "\n",
    "```py\n",
    "# decimal representation of a real number\n",
    "123.45 = 1*10^3 + 2*10^1 + 3*10^0 + 4*10^-1 + 5*10^-2 \n",
    "```\n"
   ]
  },
  {
   "cell_type": "markdown",
   "metadata": {},
   "source": [
    "\n",
    "### equality\n",
    "\n",
    "Care must be taken when looking at the equality of floats since there are some decimal numbers that cannot be represented by a finite binary representation:\n"
   ]
  },
  {
   "cell_type": "markdown",
   "metadata": {},
   "source": [
    "\n",
    "```py\n",
    "base_10(0.1) = base_2(0.0 0011 0011 0011 ...) \n",
    "# therefore\n",
    "x = 0.1 + 0.1 + 0.1 # 0.300000000000000175\n",
    "y = 0.3 # 0.2999999999999999999998977\n",
    "x == y # -> False\n",
    "```\n"
   ]
  },
  {
   "cell_type": "markdown",
   "metadata": {},
   "source": [
    "\n",
    "One workaround is to set a range delta (es. a percentage of the size of the larger number involved in the equality operation) as discriminant values to determine if two numbers are equal:\n"
   ]
  },
  {
   "cell_type": "markdown",
   "metadata": {},
   "source": [
    "\n",
    "```py\n",
    "|a - b| < epsilon\n",
    "```\n"
   ]
  },
  {
   "cell_type": "markdown",
   "metadata": {},
   "source": [
    "\n",
    "The pythonic way to approach this problem is to use the module `math.isclose` with the care of specifying appropriate relative and absolute tolerance:\n"
   ]
  },
  {
   "cell_type": "markdown",
   "metadata": {},
   "source": [
    "\n",
    "```py\n",
    "import math\n",
    "\n",
    "math.isclose(x, y, rel_tol, abs_tol)\n",
    "```\n"
   ]
  },
  {
   "cell_type": "markdown",
   "metadata": {},
   "source": [
    "\n",
    "## Booleans (PEP 285)\n",
    "\n",
    "Booleans are a subclass of the int class (i.e. it inherits all its methods). Two constant are defined: `True` (int = 1) and `False` (int = 0). They are Singleton objects, i.e. the point to a fixed address in memory and can be compared with the identity and the equality operator aswell. N.b. even if True and False evaluates to the int 1 and 0 respectively, they don't point ot the same memory address, since they are not the same type of object:\n"
   ]
  },
  {
   "cell_type": "markdown",
   "metadata": {},
   "source": [
    "\n",
    "```py\n",
    "int(True) == 1 and int(False) == 0\n",
    "id(True) != id(1) # True is 1 -> False ; True == 1 -> True\n",
    "id(False) != id(0)\n",
    "```\n"
   ]
  },
  {
   "cell_type": "markdown",
   "metadata": {},
   "source": [
    "\n",
    "Objects have an associated `truth value`, meaning that they have a defined truth state. In particular, every object will evaluate to `True` by default except for:\n",
    "\n",
    "- None\n",
    "- False\n",
    "- 0 (in any numeric type, float, complex ..)\n",
    "- empty sequence (list, tuple string..)\n",
    "- empty mapping (dictionary, sets..)\n",
    "- implementing __bool__ or __len__ in a custom class\n",
    "\n",
    "Has a matter of fact, when we call `bool()` on an object, it will look for the definition of the dunder method `__bool__`, if this is not defined, then it will look for the `__len__` method and if also this is not defined the it will evaluate to `True`.\n"
   ]
  },
  {
   "cell_type": "markdown",
   "metadata": {},
   "source": [
    "\n",
    "```py\n",
    "# es. __bool__ implementation for the int class\n",
    "def __bool__(self):\n",
    "  return self != 0\n",
    "```\n"
   ]
  },
  {
   "cell_type": "markdown",
   "metadata": {},
   "source": [
    "\n",
    "### Booleans operators\n"
   ]
  },
  {
   "cell_type": "markdown",
   "metadata": {},
   "source": [
    "\n",
    "```py\n",
    "# Truth Table\n",
    "X Y  not X  X and Y  X or Y\n",
    "0 0    1       0       0\n",
    "0 1    1       0       1\n",
    "1 0    0       0       1 \n",
    "1 1    0       1       1\n",
    "```\n"
   ]
  },
  {
   "cell_type": "markdown",
   "metadata": {},
   "source": [
    "\n",
    "```py\n",
    "# De Morgan's Theorem\n",
    "not(A or B) == (not A) and (not B)\n",
    "not(A and B) == (not A) or (not B)\n",
    "\n",
    "# Operations precedence (in descending order)\n",
    "< > <= >= == != in is\n",
    "not\n",
    "and\n",
    "or\n",
    "```\n"
   ]
  },
  {
   "cell_type": "markdown",
   "metadata": {},
   "source": [
    "\n",
    "### Short-Circuiting\n",
    "\n",
    "Looking at a truth table there are two case in which the program can simply is job evaluating only part of a boolean statement. Thi is called `short-circuiting`:\n"
   ]
  },
  {
   "cell_type": "markdown",
   "metadata": {},
   "source": [
    "\n",
    "```py\n",
    "True or Y # -> True \n",
    "# with an or statement, id the first argument is True it doesn't matter whether the second argument is True or False, the operation will always evaluate to True\n",
    "False and Y # -> False\n",
    "# with an and statement, id the first argument is False it doesn't matter whether the second argument is True or False, the operation will always evaluate to False\n",
    "```\n"
   ]
  },
  {
   "cell_type": "markdown",
   "metadata": {},
   "source": [
    "\n",
    "This is very useful when we have to concatenate two conditions together, one of the which may results in rising an exception (and breaking the code) if evaluated. With short-circuiting we can add a first statement that check for a particular exception that may rise with second argument.\n"
   ]
  },
  {
   "cell_type": "markdown",
   "metadata": {},
   "source": [
    "\n",
    "```py\n",
    "my_string = 'ciao'\n",
    "if 'a' == my_string[0]:\n",
    "  do_something\n",
    "# we are checking if 'a' is the first letter of my_string. But what happen if my_string is empty? the code breaks. We can solve this with short-circuiting the first\n",
    "if my_string and 'a' == my_string[0]:\n",
    "  do_something\n",
    "# Since an \"and\" expression will evaluate to True only if the two members are True, we can safeguard our code from breaking checking first if my_string evaluates to False (i.e. if is an empty string); if it is so, the second part of the \"and\" statement won't be executed thus safeguarding our code of breaking due to IndexError exception.\n",
    "\n"
   ]
  },
  {
   "cell_type": "markdown",
   "metadata": {},
   "source": [
    "\n",
    "\n",
    "\n",
    "# Common Modules\n"
   ]
  },
  {
   "cell_type": "markdown",
   "metadata": {},
   "source": [
    "\n",
    "## `string`\n",
    "\n",
    "Module with some useful string constants and representation.\n"
   ]
  },
  {
   "cell_type": "markdown",
   "metadata": {},
   "source": [
    "\n",
    "## `functools`\n",
    "\n",
    "Module with useful functions:\n",
    "\n",
    "* `total_ordering` : decorator for classes that automatically implement comparison functionality (le, ge, lt, gt), if only one of these is already implemented\n",
    "* `reduce`: iterate over a sequence applying a function\n",
    "* `partial`: lets us set some arguments of a function as default parameters\n",
    "* `wraps`: decorator that allow to wrap a function/class metadata and keep it after the decoration\n",
    "* `lru_cache`: decorator that allows caching data in recursive structures\n"
   ]
  },
  {
   "cell_type": "markdown",
   "metadata": {},
   "source": []
  },
  {
   "cell_type": "markdown",
   "metadata": {},
   "source": [
    "\n",
    "N.B. Map anf Filter have been mostly replaced by list comprehension and generator functions.\n",
    "\n",
    "These are `higher order functions` (i.e. function that takes a function as parameter and/or returns a function),\n",
    "\n",
    "`map` return an `iterator` that applies the function to each element in the iterable.\n"
   ]
  },
  {
   "cell_type": "markdown",
   "metadata": {},
   "source": [
    "\n",
    "```py\n",
    "map(func, *iterables)\n",
    "\n",
    "def sq(x):\n",
    "  return x**256\n",
    "\n",
    "l = [1, 2, 3]\n",
    "\n",
    "list(map(sq, l)) # => [1, 4, 9]\n",
    "# map returns a generator, therefore we need to pass it to list()\n",
    "list(map(lambda x: x**2, l)) # same thing using lambda\n",
    "```\n"
   ]
  },
  {
   "cell_type": "markdown",
   "metadata": {},
   "source": [
    "\n",
    "The number of iterables that are provided to map() is determined by the function that it is passed; if more than one iterable is provided, only the length of the shortest will be mapped.\n",
    "\n",
    "`filter` is a function that takes a function and a single iterable and returns the elements of the iterable that satisfies the condition given in the function, i.e. it filters the iterable.\n"
   ]
  },
  {
   "cell_type": "markdown",
   "metadata": {},
   "source": [
    "\n",
    "```py\n",
    "l = [0,1,2,3,4,5]\n",
    "list(filter(lambda n: n % 2 == 0, l)) # [0, 2, 4]\n"
   ]
  },
  {
   "cell_type": "markdown",
   "metadata": {},
   "source": [
    "\n",
    "\n",
    "## Reducing Functions\n",
    "\n",
    "Also called, accumulators, aggregators or folding functions; are functions that recombine an iterable recursively, returning a single value (es. finding the max in an array, or summing up its elements).\n"
   ]
  },
  {
   "cell_type": "markdown",
   "metadata": {},
   "source": [
    "\n",
    "```py\n",
    "# write a reducing function to compute max, min and sum of an iterable.\n",
    "l = [5, 8, 6, 10, 9]\n",
    "\n",
    "add = lambda a, b: a+b\n",
    "find_max = lambda a, b: a if a > b else b\n",
    "find_min = lambda a, b: a if a < b else b\n",
    "\n",
    "def _reduce(fn, sequence):\n",
    "  result = sequence[0]\n",
    "  for x in sequence[1:]:\n",
    "    result = fn(result, x)\n",
    "  return result\n",
    "```\n"
   ]
  },
  {
   "cell_type": "markdown",
   "metadata": {},
   "source": [
    "\n",
    "The function `_reduce` takes two arguments, a function (add, find_max or find_min), and sequence of numbers. It applies the function recursively a return a single value (the sum, the max or the min) depending on the function passed.\n",
    "Python has a builtin modules that contain the function `reduce` similar to the one defined above, but that works on any iterables, also non index ones.\n"
   ]
  },
  {
   "cell_type": "markdown",
   "metadata": {},
   "source": [
    "\n",
    "```py\n",
    "from functools import reduce\n",
    "\n",
    "l = [5, 8, 6, 10, 9]\n",
    "reduce(lambda a, b: a if a > b else b, l) # find max of l\n",
    "'''\n",
    "Reduce has a third argument called 'initializer' that serve as first value for the reduced function. This is to avoid runtime error in the case, for example of trying to apply sum-reduce to an empty list.\n",
    "'''\n",
    "```\n"
   ]
  },
  {
   "cell_type": "markdown",
   "metadata": {},
   "source": [
    "\n",
    "Other builtin reducing function in python are:\n"
   ]
  },
  {
   "cell_type": "markdown",
   "metadata": {},
   "source": [
    "\n",
    "```py\n",
    "max()\n",
    "min()\n",
    "sum()\n",
    "any() # return True if at least one element in the sequence evaluates to True\n",
    "all() # return True if all the elements in the sequence evaluates to True\n",
    "```\n"
   ]
  },
  {
   "cell_type": "markdown",
   "metadata": {},
   "source": [
    "\n",
    "## Partial functions\n",
    "\n",
    "Partial functions are a way to reduce the number of argument required by a function, setting some of them as default. We could write ourself a wrapper to a function ore use the builtin `functools.partial` module.\n"
   ]
  },
  {
   "cell_type": "markdown",
   "metadata": {},
   "source": [
    "\n",
    "```py\n",
    "# create a function that compute the power of a number\n",
    "\n",
    "def pow(base, exponent):\n",
    "  return base ** exponent\n",
    "\n",
    "# we can create a partial function that specify the exponent so that it computes alway the square\n",
    "def square(base):\n",
    "  return pow(base, exponent=2)\n",
    "\n",
    "# or we can use the functools.partial module\n",
    "from functools import partial\n",
    "\n",
    "square = partial(pow, exponent=2)\n",
    "\n",
    "'''\n",
    "N.B. if we define a variable prior to the partial definition, and we assign that variable as argument, the argument won't point to the variable but to the values associated with its memory address. therefore even if we change the variable after, the value at which the partial function is pointing will remain the same\n",
    "'''\n",
    "\n",
    "a = 2\n",
    "square = partial(pow, exponent=a)\n",
    "# exponent is pointing at the same memory address of 'a' (the value 2) and not to a itself\n",
    "a = 5\n",
    "# the value assigned in the square function remain the same (2)\n",
    "```\n"
   ]
  },
  {
   "cell_type": "markdown",
   "metadata": {},
   "source": [
    "\n",
    "## The `operator` module\n",
    "\n",
    "The `operator` module is a builtin suits shipped with standard python installation. Its main purpose is to construct functional equivalents to arithmetic operation.\n"
   ]
  },
  {
   "cell_type": "markdown",
   "metadata": {},
   "source": [
    "\n",
    "```py\n",
    "from functools import reduced\n",
    "from operator import mul\n",
    "\n",
    "# we have seen how we can use lambda expression together with reduce to create recursive functions on sequences\n",
    "reduce(lambda x, y: x*y, [1,2,3,4]) # return the product of the elements of the list\n",
    "# the same can be achieved with the operator.mul\n",
    "reduce(mul, [1,2,3,4])\n",
    "```\n",
    "\n"
   ]
  },
  {
   "cell_type": "markdown",
   "metadata": {},
   "source": [
    "\n",
    "There is a variety of different methods in the operator module, for arithmetic/boolean operations (`mul()`, `add()`, `le()`, `is_()` ..), for sequences handling (`getitem()`, `setitem()`, `delitem()` ...) and for handling functions (`itemgetter()`, `attrgetter()`, `methodgetter()`...). These last ones don't return values but instances of the method called; they become an operator thyself (a function essentially) to be call on another objects.\n"
   ]
  },
  {
   "cell_type": "markdown",
   "metadata": {},
   "source": [
    "\n",
    "```py\n",
    "from operator import itemgetter\n",
    "l = [5, 8, 6, 10, 9]\n",
    "f = itemgetter(1, 3) # create a function that return the item at index 1 and 3\n",
    "f(l) # -> (8, 10)\n",
    "\n",
    "```\n"
   ]
  },
  {
   "cell_type": "markdown",
   "metadata": {},
   "source": [
    "\n",
    "# Scopes and Namespaces\n",
    "\n",
    "The `Scope` is the portion of the code in which a variable name is defined; it has an associated `namespace`, essentially a table that lists all the variables in the Scope and the associated memory addresses. There are different `Scope` in python and are defined in a nested structure. At the top, we have the `built-in` scope, the only truly global scopes that exists across each modules of Python, which contains the definitions of core elements such as `True`, `None`, `dict` etc. Nested inside the built-in scope there is the so called `Global` scope (even if it is not global in the sense that exist only inside a single file). Moreover, each function has its own scope, named `Local`, that is created each time the function is called (until the function is not called, the variables defined in its own scope are not compiled, therefore does not exist in the Global scope, where the function is defined).\n"
   ]
  },
  {
   "cell_type": "markdown",
   "metadata": {},
   "source": [
    "\n",
    "\n",
    "```py\n",
    "# module1.py\n",
    "print(True)\n",
    "# both print and True are not defined in the module1 scope, therefore python automatically goes up one level and look up for their definition in the builtin-scope\n",
    "print(a)\n",
    "# Error! 'a' has not been defined in the module scope and neither is in the built-in scope, therefore Python trows an error `run -time Name Error`\n",
    "```\n"
   ]
  },
  {
   "cell_type": "markdown",
   "metadata": {},
   "source": [
    "\n",
    "We can summarize that at `compile time` python looks at the code and predetermine which variables will eventually be in the local or global scope. When it encounter a `def` (function), it will look inside of it; if there are assignations (e.g. a = 100), it will understand that that variable will be part of the global scope only, unless the `global a` keyword is specified; if a variable is called but not assigned inside the function (e.g. print(a)), the compiler will determine that it is a non-local reference.\n"
   ]
  },
  {
   "cell_type": "markdown",
   "metadata": {},
   "source": [
    "\n",
    "```py\n",
    "a = 0 # global scope/namespace\n",
    "\n",
    "def func1():\n",
    "  print(a) # the compiler understand it is a non-local variable since there is no assignment inside the local scope\n",
    "\n",
    "def func2():\n",
    "  a = 100 # the compiler knows that this will be a local variable\n",
    "\n",
    "def func3():\n",
    "  global a # the compiler knows that this will refer to a global variable\n",
    "  a = 100 \n"
   ]
  },
  {
   "cell_type": "markdown",
   "metadata": {},
   "source": [
    "\n",
    "\n",
    "## Masking\n",
    "\n",
    "It is defined masking, and should be avoided, when we overwrite a keyword from the built-in scope. Since Python first look at the module scope, if we have assigned a variable to an existing element in the built-in namespace, we will modify its standard behavior.\n"
   ]
  },
  {
   "cell_type": "markdown",
   "metadata": {},
   "source": [
    "\n",
    "```py\n",
    "# module1.py\n",
    "print = lambda x: f'Hello {x}'\n",
    "# we are redefining locally the 'meaning' of the variable print so now:\n",
    "print('world') # -> 'Hello world'\n",
    "# python is invoking the local definition of print e not the built-in one\n",
    "```\n"
   ]
  },
  {
   "cell_type": "markdown",
   "metadata": {},
   "source": [
    "\n",
    "The same behavior is applied between Global and Local scopes. When assigning a variable inside a functional scope, python sees it at compilation time and stores it (it will be created only when the function is called but the compiler is already aware that it exists).\n",
    "Therefore, if the same variable exist in the Global scope, when the function is called, it will be masked by the assignation in the local scope.\n"
   ]
  },
  {
   "cell_type": "markdown",
   "metadata": {},
   "source": [
    "\n",
    "```py\n",
    "a = 0 # global scope/namespace\n",
    "\n",
    "def my_func():\n",
    "  a = 100 # local scope/namespace\n",
    "  print(a)\n",
    "\n",
    "my_func() # a = 100, the global scope 'a' has been masked \n",
    "\n",
    "print(a) # a = 0, the global scope hasn't been modified, and the local scope of `my_func` has been destroyed after its execution.\n",
    "```\n"
   ]
  },
  {
   "cell_type": "markdown",
   "metadata": {},
   "source": [
    "\n",
    "There is also the possibility to avoid masking by explicitly tell python that the variable assigned in the local spaces are actually owned in the global space. This is done by declaring the `global` keyword at the beginning of a local scope. This is telling the compiler to look first in the global scope for that particular variable and, if not found, to create a new one.\n"
   ]
  },
  {
   "cell_type": "markdown",
   "metadata": {},
   "source": [
    "\n",
    "```py\n",
    "a = 0\n",
    "\n",
    "def my_func():\n",
    "  global a\n",
    "  a = 100 # local scope/namespace\n",
    "  print(a)\n",
    "\n",
    "my_func() # a = 100, since `global a` has been declared, the variable `a` in the global scope has been modified\n",
    "\n",
    "print(a) # a = 100\n",
    "```\n"
   ]
  },
  {
   "cell_type": "markdown",
   "metadata": {},
   "source": [
    "\n",
    "## Nonlocal scope\n",
    "\n",
    "When we define a function inside another function, a new scope is created which is not the global (module level) scope, nor the local (function level) scope. It is a middle scope called `non-local scope`. Variables belonging to the nonlocal scope are called `free variables`.\n"
   ]
  },
  {
   "cell_type": "markdown",
   "metadata": {},
   "source": [
    "\n",
    "```py\n",
    "def outer_func():\n",
    "  x = 10 # local scope of outer_func == non-local scope of inner_func\n",
    "  \n",
    "  def inner_func():\n",
    "    x = 20 # local scope of inner_func\n",
    "  \n",
    "  inner_func()\n",
    "\n",
    "  print(x)\n",
    "\n",
    "# if we call outer_func:\n",
    "outer_func() # x = 10 since the local scope of inner func has not modified the non-local scope (local scope of outer_func)\n",
    "```\n"
   ]
  },
  {
   "cell_type": "markdown",
   "metadata": {},
   "source": [
    "\n",
    "In the same way as we tell python that a variable in a local scope is `global`, we can specify a variable to be `non-local` (i.e. with the same reference of the one in the outer_func scope). \n"
   ]
  },
  {
   "cell_type": "markdown",
   "metadata": {},
   "source": [
    "\n",
    "```py\n",
    "def outer_func():\n",
    "  x = 10 # local scope of outer_func == non-local scope of inner_func\n",
    "  \n",
    "  def inner_func():\n",
    "    nonlocal x # now the reference of x is shared with the non-local (outer_func) scope\n",
    "    x = 20 # local scope of inner_func\n",
    "  \n",
    "  inner_func()\n",
    "\n",
    "  print(x)\n",
    "\n",
    "# if we call outer_func:\n",
    "outer_func() # x = 20 since the local scope of inner func has modified the non-local scope (local scope of outer_func)\n",
    "```\n"
   ]
  },
  {
   "cell_type": "markdown",
   "metadata": {},
   "source": [
    "\n",
    "N.B. if in a local scope we define a `global` variable, python will look in global scope for a match, otherwise it will create the global variable. Instead, when defining a `nonlocal` variable, python will look only in the non-local scope (the local scope of the parent function).\n"
   ]
  },
  {
   "cell_type": "markdown",
   "metadata": {},
   "source": [
    "\n",
    "```py\n",
    "def outer():\n",
    "  x = 0 # local scope of outer\n",
    "  \n",
    "  def inner1():\n",
    "    # local scope of inner1 == nonlocal scope of inner2\n",
    "    def inner2():\n",
    "      nonlocal x\n",
    "      x = 10 \n",
    "    inner2()\n",
    "\n",
    "  inner1()\n",
    "  print(x) # x = 0 because inner2 looked only in its nonlocal scope\n",
    "```\n"
   ]
  },
  {
   "cell_type": "markdown",
   "metadata": {},
   "source": [
    "\n",
    "# Closure\n",
    "\n",
    "A `Closure` is a special python constructor that is composed by a function and an extended scope (nonlocal scope) that contains free variables (nonlocal variables). This means that both the functions and the extended scope point to the same object, but python don't do this directly. Instead a `cell object` is created, pointing to the value of the free variable, while the free variable, in both the extended scope and the function scope, point to the cell object."
   ]
  },
  {
   "cell_type": "markdown",
   "metadata": {},
   "source": [
    "\n",
    "```py\n",
    "def outer():\n",
    "  a = 10\n",
    "\n",
    "  x = 'python'  #----------\n",
    "                # THIS IS A\n",
    "  def inner():  # CLOSURE\n",
    "    print(x)    #----------\n",
    "  \n",
    "  return inner\n",
    "\n",
    "fn = outer() \n",
    "'''\n",
    "now outer has returned the function inner which should print x without directly containing a reference to the variable.\n",
    "Therefore, since the scope of the function outer is exhausted after it is called, we should expect that the variable x=python is lost and can't be referenced by fn. Instead, it is possible since python, during compilation, sees a Closure and create an intermediate cell object that share the reference to x both from inner and outer functions.\n",
    "'''\n",
    "\n",
    "x = python #--|\n",
    "             #|--> cell object --> str object `python`\n",
    "  print(x) #--|              \n",
    "```\n"
   ]
  },
  {
   "cell_type": "markdown",
   "metadata": {},
   "source": [
    "\n",
    "Both `x` in outer and inner functions point to a `cell object` which contains a reference to another object in memory containing the string `python`. This lets us be able to call the function inner, returned from the function outer, even if the scope of outer is already exhausted. We can inspect the closure and free variables of an object:\n",
    "\n"
   ]
  },
  {
   "cell_type": "markdown",
   "metadata": {},
   "source": [
    "\n",
    "```py\n",
    "# from previous example\n",
    "fn = outer()\n",
    "\n",
    "fn.__code__.co_freevars # (x) while a is not a \n",
    "fn.__closure__ # cell object at address xxx containing a str object ('python') at address yyy\n",
    "# the memory address of both the `x` (local and free) is the same and pointing to yyy\n",
    "```\n"
   ]
  },
  {
   "cell_type": "markdown",
   "metadata": {},
   "source": [
    "\n",
    "We can have multiple instance of the same closure, this means che each time a cell object is created, leaving the behavior of the different instance of the closure independent.\n"
   ]
  },
  {
   "cell_type": "markdown",
   "metadata": {},
   "source": [
    "\n",
    "```py\n",
    "def counter():\n",
    "  # beginning of Closure\n",
    "  count = 0\n",
    "\n",
    "  def inc():\n",
    "    nonlocal count\n",
    "    count += 1\n",
    "    return count\n",
    "  # end of Closure\n",
    "\n",
    "  return inc\n",
    "\n",
    "  f1 = counter()\n",
    "  f2 = counter()\n",
    "  # f1 and f2 behavior is independent\n"
   ]
  },
  {
   "cell_type": "markdown",
   "metadata": {},
   "source": [
    "\n",
    "## Shared extend scope\n",
    "\n",
    "At the same time we can have `shared extended scope` of two different closures.\n"
   ]
  },
  {
   "cell_type": "markdown",
   "metadata": {},
   "source": [
    "\n",
    "```py\n",
    "def outer():\n",
    "  count = 0\n",
    "\n",
    "  def inc1():\n",
    "    nonlocal count\n",
    "    count += 1\n",
    "    return count\n",
    "\n",
    "  def inc2():\n",
    "    nonlocal count\n",
    "    count += 1\n",
    "    return count\n",
    "\n",
    "  return inc1, inc2\n",
    "\n",
    "f1, f2 = outer() \n",
    "```\n"
   ]
  },
  {
   "cell_type": "markdown",
   "metadata": {},
   "source": [
    "\n",
    "`f1` and `f2` are two closure that share the free variable `count` therefore both the functions, when called, will increment the value of count. If this behavior is wanted, then no problem, but often happens to share the same free variable without knowing it.\n"
   ]
  },
  {
   "cell_type": "markdown",
   "metadata": {},
   "source": [
    "\n",
    "```py\n",
    "# create a list of functions that add a two values\n",
    "adders = []\n",
    "for n in range(1, 4):\n",
    "  adders.append(lambda x: x + n)\n",
    "\n",
    "# what we expect to have is a list of functions\n",
    "adders = [f1(n=1), f2(n=2), f3(n=3)]\n",
    "# therefore calling \n",
    "adders[2](10) # should return 12 = 10 + 2 \n",
    "# instead all the three functions will add 3, i.e. the last value at which n was pointing to\n",
    "```\n"
   ]
  },
  {
   "cell_type": "markdown",
   "metadata": {},
   "source": [
    "\n",
    "`n` is a global variable, and it doesn't get evaluated until the function is called, and at that time, after the for loop is executed is equal to 3. As a matter of fact we don't have a closure since `n` is a global variable. The correct way to achieve this would be:\n"
   ]
  },
  {
   "cell_type": "markdown",
   "metadata": {},
   "source": [
    "\n",
    "```py\n",
    "def create_adders():\n",
    "  adders = []\n",
    "  for n in range(1, 4):\n",
    "    adders.append(lambda x, y=n: x + y) # in this way we are saving the value of n at each iteration \n",
    "  return adders\n",
    "\n",
    "# since we have specified a default value for `y`, this will be evaluated at creation time, not at runtime (i.e. when the function is called). `y` won't point to the object `n` itself but to its value at each iteration. Therefore, `y=n` belong to the local scope of the `create_adders` function, therefore, the functions appended to adders are actually closures\n",
    "```\n"
   ]
  },
  {
   "cell_type": "markdown",
   "metadata": {},
   "source": [
    "\n",
    "## Nested Closure\n",
    "\n",
    "It is common, e.g. in decorators, to have nested closures:\n"
   ]
  },
  {
   "cell_type": "markdown",
   "metadata": {},
   "source": [
    "\n",
    "```py\n",
    "# define a function that takes an increment and a starting values and return a function that add the increment each time is called. The\n",
    "def increment(n):\n",
    "\n",
    "  def inner(start):\n",
    "    current = start\n",
    "    \n",
    "    def inc():\n",
    "      nonlocal current\n",
    "      current += n\n",
    "      return current\n",
    "\n",
    "    return inc\n",
    "  return inner\n",
    "\n",
    "# Now inc has two free variables (current, n) one that lives in the `inner` scope and one in the `increment` scope.\n",
    "# if we call:\n",
    "fn = increment(2) # we will return the inner function with the variable n = 2\n",
    "fn.__code__.co_freevars # `n` is the free variable of the closure containing the `inner` function\n",
    "# if we than call:\n",
    "inc_2 = fn(100) # we will return the `inc` function with the variable n = 2 and current = 100\n",
    "inc.__code__.co_freevars # `n` and `current` are the free variables of the closure containing the `inc` function\n",
    "# now if we call:\n",
    "inc_2() # -> 102\n",
    "inc_2() # -> 104\n",
    ".\n",
    ".\n",
    "```\n"
   ]
  },
  {
   "cell_type": "markdown",
   "metadata": {},
   "source": [
    "\n",
    "## Application\n",
    "\n",
    "*hold*\n"
   ]
  }
 ],
 "metadata": {
  "interpreter": {
   "hash": "b66e1d652d26545cf719f53d79fc7f17380815b403cf9c9ba2b908f3efa6c6a8"
  },
  "kernelspec": {
   "display_name": "Python 3.8.10 64-bit ('venv': venv)",
   "language": "python",
   "name": "python3"
  },
  "language_info": {
   "codemirror_mode": {
    "name": "ipython",
    "version": 3
   },
   "file_extension": ".py",
   "mimetype": "text/x-python",
   "name": "python",
   "nbconvert_exporter": "python",
   "pygments_lexer": "ipython3",
   "version": "3.8.10"
  },
  "orig_nbformat": 4
 },
 "nbformat": 4,
 "nbformat_minor": 2
}
