{
 "cells": [
  {
   "cell_type": "markdown",
   "metadata": {},
   "source": [
    "<h1>My Personal Python Bible</h1>"
   ]
  },
  {
   "cell_type": "markdown",
   "metadata": {},
   "source": [
    "# Table of Contents"
   ]
  },
  {
   "cell_type": "markdown",
   "metadata": {},
   "source": [
    "- [PEP8 - Naming conventions](#pep8---naming-conventions)\n",
    "- [Everything is an Object](#everything-is-an-object)\n",
    "- [Variables and Memory](#variables-and-memory)\n",
    "  - [`id` function](#id-function)\n",
    "  - [Reference Counting](#reference-counting)\n",
    "  - [Shared Reference](#shared-reference)\n",
    "  - [Garbage Collection](#garbage-collection)\n",
    "  - [Object Mutability](#object-mutability)\n",
    "  - [Variable Equality](#variable-equality)\n",
    "- [Built-in methods](#built-in-methods)\n",
    "  - [`isinstance(object, class)`](#isinstanceobject-class)\n",
    "  - [`issubclass(subclass, class)`](#issubclasssubclass-class)\n",
    "- [Loops](#loops)\n",
    "  - [While loop](#while-loop)\n",
    "  - [Try statement](#try-statement)\n",
    "    - [Common exceptions](#common-exceptions)\n",
    "- [Strings](#strings)\n",
    "  - [Common methods](#common-methods)\n",
    "- [Classes](#classes)\n",
    "  - [Getters and Setters](#getters-and-setters)\n",
    "  - [Overload methods](#overload-methods)\n",
    "    - [`str` method](#str-method)\n",
    "    - [`repr` method](#repr-method)\n",
    "    - [`eq` method](#eq-method)\n",
    "- [Functions](#functions)\n",
    "  - [Docstrings and annotations (PEP 257)](#docstrings-and-annotations-pep-257)\n",
    "  - [`lambda` expression](#lambda-expression)\n",
    "  - [Function Intorspection](#function-intorspection)\n",
    "  - [Unpacking iterables](#unpacking-iterables)\n",
    "  - [Unpacking with *](#unpacking-with-)\n",
    "  - [Nested unpacking](#nested-unpacking)\n",
    "  - [*args and **kwargs](#args-and-kwargs)\n",
    "  - [Parameters default](#parameters-default)\n",
    "  - [Map, Filter and Zip functions](#map-filter-and-zip-functions)\n",
    "  - [Reducing Functions](#reducing-functions)\n",
    "  - [Partial functions](#partial-functions)\n",
    "  - [The `operator` module](#the-operator-module)\n",
    "- [Scopes and Namespaces](#scopes-and-namespaces)\n",
    "  - [Masking](#masking)\n",
    "  - [Nonlocal scope](#nonlocal-scope)\n",
    "- [Closure](#closure)\n",
    "  - [Shared extend scope](#shared-extend-scope)\n",
    "  - [Nested Closure](#nested-closure)\n",
    "  - [Application](#application)\n",
    "- [Decorators](#decorators)\n",
    "  - [Multiple decorators](#multiple-decorators)\n",
    "  - [Memoization](#memoization)\n",
    "  - [Parametrized decorators](#parametrized-decorators)\n",
    "  - [Decorator class](#decorator-class)\n",
    "  - [Monkey Patching and Decorating classes](#monkey-patching-and-decorating-classes)\n",
    "  - [Single Dispatch Generic Functions](#single-dispatch-generic-functions)\n",
    "    - [Application - Htmlizer](#application---htmlizer)\n",
    "- [Python optimizations](#python-optimizations)\n",
    "  - [Interning](#interning)\n",
    "  - [Peephole](#peephole)\n",
    "- [Numeric Types](#numeric-types)\n",
    "  - [Integers](#integers)\n",
    "    - [Operations](#operations)\n",
    "    - [Base](#base)\n",
    "  - [Rational Numbers](#rational-numbers)\n",
    "  - [Floats (Real Numbers)](#floats-real-numbers)\n",
    "    - [equality](#equality)\n",
    "  - [Booleans (PEP 285)](#booleans-pep-285)\n",
    "    - [Booleans operators](#booleans-operators)\n",
    "    - [Short-Circuiting](#short-circuiting)\n",
    "- [Common Modules](#common-modules)\n",
    "  - [`string`](#string)\n",
    "  - [`functools`](#functools)\n",
    "\n"
   ]
  },
  {
   "cell_type": "markdown",
   "metadata": {},
   "source": [
    "# PEP8 - Naming conventions\n",
    "---\n",
    "\n",
    "- `packages`: short lowercase and without underscore es. `utilities`\n",
    "- `modules`: short lowercase and with underscore es. `db_utils`\n",
    "- `classes`: first letter of each word are uppercase, no spaces and no underscore es. `MyClass`\n",
    "- `functions` lowercase and with underscore es. `open_account`\n",
    "- `variables` lowercase and with underscore es. `account_id`\n",
    "- `constants` all uppercase with underscore es `MIN_VAL`"
   ]
  },
  {
   "cell_type": "markdown",
   "metadata": {},
   "source": [
    "# Everything is an Object\n",
    "---\n",
    "In python everything is an object. Functions for example, inherit from the built-in function class; the same happen for classes which inherit from class function. This implies that every objects has a memory address (yes, even function and classes). In the same way every object che by assigned to a variable, passed as argument to a function or returned by a function. We can look at the object type of any variable with the `type` built-in function."
   ]
  },
  {
   "cell_type": "code",
   "execution_count": null,
   "metadata": {},
   "outputs": [],
   "source": []
  },
  {
   "cell_type": "code",
   "execution_count": null,
   "metadata": {},
   "outputs": [],
   "source": []
  },
  {
   "cell_type": "code",
   "execution_count": null,
   "metadata": {},
   "outputs": [],
   "source": []
  },
  {
   "cell_type": "code",
   "execution_count": null,
   "metadata": {},
   "outputs": [],
   "source": []
  },
  {
   "cell_type": "code",
   "execution_count": null,
   "metadata": {},
   "outputs": [],
   "source": []
  },
  {
   "cell_type": "code",
   "execution_count": null,
   "metadata": {},
   "outputs": [],
   "source": []
  },
  {
   "cell_type": "markdown",
   "metadata": {},
   "source": [
    "# Variables and Memory\n",
    "---\n",
    "When a variable is created, what python is doing under the hood is to link the variable name to the memory slot (slots) which contains the element assign to the variable. Therefore the name is nothing more than a reference to the memory slot.\n",
    "\n",
    "## `id` function\n",
    "`id` is the function that returns the memory address of a variable in base-10 ( can be converted with `hex` to see the hexadecimal representation).\n",
    "\n",
    "## Reference Counting\n",
    "Reference counting is a process carried out by the python memory manager internally. Each time we create a new variable, we are creating a reference to a memory slot. If we create a new variable that is equal to an existing one, we are adding a reference to the same memory slot (which now has a reference count equal to two)."
   ]
  },
  {
   "cell_type": "code",
   "execution_count": 156,
   "metadata": {},
   "outputs": [
    {
     "name": "stdout",
     "output_type": "stream",
     "text": [
      "sys.refcount returns: 3\n",
      "ctypes returns: 2\n"
     ]
    }
   ],
   "source": [
    "import ctypes\n",
    "import sys\n",
    "\n",
    "my_var_1 = list() # my_var is pointing to the memory slot id(my_var)\n",
    "\n",
    "other_var = my_var_1  # other var is pointing to the same memory slot of my_var\n",
    "# at this point, the ref count of id(my_var) is equal to 2\n",
    "\n",
    "print('sys.refcount returns:' , sys.getrefcount(my_var_1))\n",
    "# return the ref count of the variable + 1 far the call of sys itself\n",
    "\n",
    "print('ctypes returns:' , ctypes.c_long.from_address(id(my_var_1)).value)\n",
    "# is a lower level way to find the ref count of a memory slot"
   ]
  },
  {
   "cell_type": "markdown",
   "metadata": {},
   "source": [
    "## Shared Reference\n",
    "When python variables share memory references?"
   ]
  },
  {
   "cell_type": "code",
   "execution_count": 2,
   "metadata": {},
   "outputs": [
    {
     "data": {
      "text/plain": [
       "(10, 10, True, True)"
      ]
     },
     "execution_count": 2,
     "metadata": {},
     "output_type": "execute_result"
    }
   ],
   "source": [
    "a = 10\n",
    "b = a\n",
    "# b is not copying the content of a, it is pointing to the same memory address\n",
    "\n",
    "a, b, a == b, a is b"
   ]
  },
  {
   "cell_type": "code",
   "execution_count": 3,
   "metadata": {},
   "outputs": [
    {
     "data": {
      "text/plain": [
       "(10, 10, True, True)"
      ]
     },
     "execution_count": 3,
     "metadata": {},
     "output_type": "execute_result"
    }
   ],
   "source": [
    "\n",
    "a = 10\n",
    "b = 10\n",
    "# since the number 10 is immutable, both a and b are pointing to the same memory address\n",
    "\n",
    "a, b, a == b, a is b"
   ]
  },
  {
   "cell_type": "code",
   "execution_count": 4,
   "metadata": {},
   "outputs": [
    {
     "data": {
      "text/plain": [
       "([1, 2, 3, 4], [1, 2, 3, 4], True, True)"
      ]
     },
     "execution_count": 4,
     "metadata": {},
     "output_type": "execute_result"
    }
   ],
   "source": [
    "\n",
    "a = [1,2,3]\n",
    "b = a\n",
    "b.append(4)\n",
    "# now both b and a are equal to [1,2,3,4] since a list is mutable object and appending an element modify only its internal state with the same memory address\n",
    "\n",
    "a, b, a == b, a is b"
   ]
  },
  {
   "cell_type": "code",
   "execution_count": 5,
   "metadata": {},
   "outputs": [
    {
     "data": {
      "text/plain": [
       "([1, 2, 3], [1, 2, 3], True, False)"
      ]
     },
     "execution_count": 5,
     "metadata": {},
     "output_type": "execute_result"
    }
   ],
   "source": [
    "\n",
    "a = [1,2,3]\n",
    "b = [1,2,3]\n",
    "# in this case python doesn't create shared references, so a and b are pointing to different objects, this to prevent that modifying b affects also a\n",
    "\n",
    "a, b, a == b, a is b"
   ]
  },
  {
   "cell_type": "markdown",
   "metadata": {},
   "source": [
    "N.b. There will be always a shared reference to `None` object, created automatically by python."
   ]
  },
  {
   "cell_type": "markdown",
   "metadata": {},
   "source": [
    "## Garbage Collection\n",
    "It is the way python use to avoid memory leaks such that generated by circular references (objects pointing one to the other). Garbage collection can be controlled using the `gc` method. It can be turned off (only if we are super-sure that there are not circular reference in the code, in order to improve performance). The gc runs periodically on its own but can also be called manually to program a specific cleanup of the code."
   ]
  },
  {
   "cell_type": "markdown",
   "metadata": {},
   "source": [
    "## Object Mutability\n",
    "Changing the data inside an object is called `modifying the internal state` since the memory address is not changed but only its content (es. appending an element to a list). So we can distinguish between `Mutable` and `Immutable` object depending on the possibility of changing the internal state.\n",
    "\n",
    "`Immutable objects:`\n",
    "\n",
    "- Numbers\n",
    "- Strings\n",
    "- Tuples (if contains mutable elements, es. lists, those remain mutable)\n",
    "- Frozen Sets\n",
    "- User_Defined Classes (if so defined)\n",
    "\n",
    "`Mutable objects:`\n",
    "\n",
    "- Lists\n",
    "- Sets\n",
    "- Dictionaries\n",
    "- User_Defined Classes (if so defined)\n",
    "\n",
    "Care must be taken when we talk about immutability of an object that is given to a function as an argument. We have to distinguish between the `module scope` and the `function scope`.\n",
    "When we pass an object to a function we are in reality passing the `reference` of the object itself. So if we are passing to a function an immutable object, say a string, at the beginning both the module scope and the function scope point to the same memory reference, but as soon as the function modify the string (es. concatenating another string), then a new object with a new reference is created. If the object is mutable, say a list, and the function modify the list (es. appending an element), then python doesn't create a new object but simply modify the internal state of the existing memory reference"
   ]
  },
  {
   "cell_type": "code",
   "execution_count": 6,
   "metadata": {},
   "outputs": [
    {
     "data": {
      "text/plain": [
       "('world', 'helloworld', 140552339051376, 140552339047344)"
      ]
     },
     "execution_count": 6,
     "metadata": {},
     "output_type": "execute_result"
    }
   ],
   "source": [
    "# IMMUTABLE\n",
    "def process_str(s):\n",
    "  # s has still the same memory reference as my_string\n",
    "  s = 'hello' + s\n",
    "  # now s has been modified, and since it was an immutable object, a new object with a new reference is created.\n",
    "  return s\n",
    "\n",
    "my_string = 'world'\n",
    "\n",
    "my_string, process_str(my_string), id(my_string), id(process_str(my_string))"
   ]
  },
  {
   "cell_type": "code",
   "execution_count": 7,
   "metadata": {},
   "outputs": [
    {
     "data": {
      "text/plain": [
       "([1, 2, 3, 5, 5], [1, 2, 3, 5, 5], 140552338863744, 140552338863744)"
      ]
     },
     "execution_count": 7,
     "metadata": {},
     "output_type": "execute_result"
    }
   ],
   "source": [
    "# MUTABLE\n",
    "def process_lst(lst):\n",
    "  # lst has the same memory reference as my_list\n",
    "  lst.append(5)\n",
    "  # since lst is a mutable object, only the internal state is changed but the memory reference is still the same.\n",
    "  return lst\n",
    "\n",
    "my_list = [1,2,3]\n",
    "\n",
    "my_list, process_lst(my_list), id(my_list), id(process_lst(my_list))"
   ]
  },
  {
   "cell_type": "markdown",
   "metadata": {},
   "source": [
    "## Variable Equality\n",
    "There are two ways to verify the equality of two variables in python: the `is` and the `==` operators, respectively the identity and equality operators. While the identity operator compares the memory reference of two objects, the equality operator compares their internal state (data). Their negation are `is not` and `!=`."
   ]
  },
  {
   "cell_type": "code",
   "execution_count": 8,
   "metadata": {},
   "outputs": [
    {
     "name": "stdout",
     "output_type": "stream",
     "text": [
      "True\n",
      "True\n"
     ]
    }
   ],
   "source": [
    "a = 10\n",
    "b = a\n",
    "print(a is b) # True since the memory address is the same (int are immutable objects)\n",
    "print(a == b) # True"
   ]
  },
  {
   "cell_type": "code",
   "execution_count": 9,
   "metadata": {},
   "outputs": [
    {
     "name": "stdout",
     "output_type": "stream",
     "text": [
      "False\n",
      "True\n"
     ]
    }
   ],
   "source": [
    "a = 500\n",
    "b = 500\n",
    "\n",
    "print(a is b) # False, preloaded integers are in the range [-5, 256] see Interning\n",
    "print(a == b) # True"
   ]
  },
  {
   "cell_type": "code",
   "execution_count": 10,
   "metadata": {},
   "outputs": [
    {
     "name": "stdout",
     "output_type": "stream",
     "text": [
      "False\n",
      "True\n"
     ]
    }
   ],
   "source": [
    "a = [1,2,3]\n",
    "b = [1,2,3]\n",
    "\n",
    "print(a is b) # False, different memory address\n",
    "print(a == b) # True"
   ]
  },
  {
   "cell_type": "code",
   "execution_count": 11,
   "metadata": {},
   "outputs": [
    {
     "name": "stdout",
     "output_type": "stream",
     "text": [
      "True\n",
      "True\n"
     ]
    }
   ],
   "source": [
    "a = 'hello'\n",
    "b = 'hello'\n",
    "\n",
    "print(a is b) # True, but not always! only if strings are stored as Singleton\n",
    "print(a == b) # True"
   ]
  },
  {
   "cell_type": "code",
   "execution_count": 12,
   "metadata": {},
   "outputs": [
    {
     "name": "stdout",
     "output_type": "stream",
     "text": [
      "False\n",
      "True\n"
     ]
    }
   ],
   "source": [
    "a = 10.0\n",
    "b = 10\n",
    "\n",
    "print(a is b) # False, float and int are different objects\n",
    "print(a == b) # True, python recognize the have the same value"
   ]
  },
  {
   "cell_type": "markdown",
   "metadata": {},
   "source": [
    "# Built-in methods\n",
    "---\n",
    "\n",
    "## `isinstance(object, class)`\n",
    "Return `True` if an object is an instance of a particular class, `False` otherwise.\n",
    "\n",
    "## `issubclass(subclass, class)`\n",
    "Return `True` if class inherits from another upper class, `False` otherwise.\n"
   ]
  },
  {
   "cell_type": "markdown",
   "metadata": {},
   "source": [
    "# Loops\n",
    "---"
   ]
  },
  {
   "cell_type": "markdown",
   "metadata": {},
   "source": [
    "## While loop\n",
    "to generate an infinite loop:"
   ]
  },
  {
   "cell_type": "code",
   "execution_count": 13,
   "metadata": {},
   "outputs": [
    {
     "name": "stdout",
     "output_type": "stream",
     "text": [
      "Infinite Loop\n"
     ]
    }
   ],
   "source": [
    "while True:\n",
    "    print('Infinite Loop')\n",
    "    break # to stop infinite loop"
   ]
  },
  {
   "cell_type": "markdown",
   "metadata": {},
   "source": [
    "`else` statement is executed after a while loop only if it terminates without a `break`\n",
    "\n",
    "`continue` is used to interrupt the execution of the current iteration are restart the loop with the next iteration. Only `finally` statement is executed after a continue statement."
   ]
  },
  {
   "cell_type": "markdown",
   "metadata": {},
   "source": [
    "## Try statement\n",
    "test a code block.\n",
    "\n",
    "`except` is used to captures errors and handle exceptions\n",
    "\n",
    "`finally` is a code block that is always executed, whether an exception or a break are invoked"
   ]
  },
  {
   "cell_type": "markdown",
   "metadata": {},
   "source": [
    "### Common exceptions\n",
    "\n",
    "- ZeroDivisionError\n",
    "\n",
    "-"
   ]
  },
  {
   "cell_type": "markdown",
   "metadata": {},
   "source": [
    "# Strings\n",
    "---\n",
    "\n",
    "Strings are immutable object of the sequence type, therefore they have indices and can be used as an iterator. String are an homogeneous containers with fixed length and order."
   ]
  },
  {
   "cell_type": "markdown",
   "metadata": {},
   "source": [
    "## Common methods\n",
    "- isalpha() -> check if is alphanumeric\n",
    "- isprintable() -> check if is printable"
   ]
  },
  {
   "cell_type": "markdown",
   "metadata": {},
   "source": [
    "# Tuples\n",
    "---\n",
    "Tuple are known as immutable list, they are object of the sequence type, therefore they have indices and can be used as an iterator. Tuples can be homogeneous or heterogeneous containers. Together with immutability, in comparison with lists, the main difference are that tuples have a fixed length and a fixed order (cannot be im-placed sorted or reversed like lists).\n",
    "\n",
    "Due to this property, we can think of tuples as data records, where the position of the data, one define have a precise meaning:\n",
    "\n",
    "```py\n",
    "# Circle(x, y, radius)\n",
    "circ1 = (0, 0, 10)\n",
    "```\n",
    "Once we have define the structure of our container, tuples can be used to store data efficiently, since once created we are sure that nobody will be able to accidentally modify it."
   ]
  },
  {
   "cell_type": "markdown",
   "metadata": {},
   "source": [
    "## Named Tuples\n",
    "Sometimes, defining a custom class can be an excessive effort if what we want to achieve is simply storing data in a custom data structure. Classes require at least some methods to be implemented to be property employed in our code (such the `__eq__` and `__repr__` method for example); moreover the instance of a class is not immutable and can lead to potential errors. On the opposite, plain tuples are immutable and well opt to store data, but accessing properties with indices can be troublesome for the user or even for other developer to read. \n",
    "\n",
    "```py\n",
    "# Class vs tuple approach\n",
    "class Person:\n",
    "\n",
    "    def __init__(self, name, age)\n",
    "    self.name = name\n",
    "    self.age = age\n",
    "\n",
    "p1 = Person('Luca', 44)\n",
    "p1.name, p1.age # 'Luca', 44\n",
    "\n",
    "p1 = ('Luca', 44)\n",
    "name = p1[0]\n",
    "age = p1[1]\n",
    "```\n",
    "\n",
    "Of course, python as a perfect solution to this kind of problem, i.e. named tuples. `namedtuples` are functions that comes shipped in the `collenctions` standard library; they are a subclass of the `tuple` type but they are not a type them self. Instead, namedtuple is a function that generate a new class (`class factory`) which can assign property names to positional elements."
   ]
  },
  {
   "cell_type": "code",
   "execution_count": 9,
   "metadata": {},
   "outputs": [
    {
     "data": {
      "text/plain": [
       "(Point2D(x=10, y=20), 10, 20)"
      ]
     },
     "execution_count": 9,
     "metadata": {},
     "output_type": "execute_result"
    }
   ],
   "source": [
    "from collections import namedtuple\n",
    "\n",
    "Pt2D = namedtuple('Point2D', ['x', 'y'])\n",
    "\n",
    "# Pt2D is a variable alias of the class `Point2D` generated by the class factory namedtuple\n",
    "\n",
    "pt = Pt2D(x=10,y=20)\n",
    "pt, pt.x, pt.y"
   ]
  },
  {
   "cell_type": "markdown",
   "metadata": {},
   "source": [
    "Each time we call the `Pt2D` functions, python is using the `__new__` method of the `Point2D` class to create a new instance of that object and return the tuple.\n",
    "\n",
    "There are several ways in which we can pass the arguments to the namedtuple function:"
   ]
  },
  {
   "cell_type": "code",
   "execution_count": 51,
   "metadata": {},
   "outputs": [
    {
     "data": {
      "text/plain": [
       "True"
      ]
     },
     "execution_count": 51,
     "metadata": {},
     "output_type": "execute_result"
    }
   ],
   "source": [
    "Pt2D = namedtuple('Point2D', ['x', 'y']) # list\n",
    "Pt2D = namedtuple('Point2D', ('x', 'y')) # tuple\n",
    "Pt2D = namedtuple('Point2D', 'x, y') # comma separated strings\n",
    "Pt2D = namedtuple('Point2D', 'x y') # whitespace separated strings\n",
    "\n",
    "# and remember, namedtuple are subclasse of the tuple type\n",
    "pt = Pt2D(x=10,y=20)\n",
    "isinstance(pt , tuple)"
   ]
  },
  {
   "cell_type": "markdown",
   "metadata": {},
   "source": [
    "Differently from a class instance, since `pt` is a tuple, it is immutable, i.e. we cannot modify its attribute (in a class object we could)."
   ]
  },
  {
   "cell_type": "code",
   "execution_count": 52,
   "metadata": {},
   "outputs": [
    {
     "ename": "AttributeError",
     "evalue": "can't set attribute",
     "output_type": "error",
     "traceback": [
      "\u001b[0;31m---------------------------------------------------------------------------\u001b[0m",
      "\u001b[0;31mAttributeError\u001b[0m                            Traceback (most recent call last)",
      "\u001b[1;32m/home/pyfry/Desktop/Python_Projects/py_deep_dive/Python_Bible.ipynb Cell 39'\u001b[0m in \u001b[0;36m<module>\u001b[0;34m\u001b[0m\n\u001b[0;32m----> <a href='vscode-notebook-cell:/home/pyfry/Desktop/Python_Projects/py_deep_dive/Python_Bible.ipynb#ch0000242?line=0'>1</a>\u001b[0m pt\u001b[39m.\u001b[39mx \u001b[39m=\u001b[39m \u001b[39m100\u001b[39m\n",
      "\u001b[0;31mAttributeError\u001b[0m: can't set attribute"
     ]
    }
   ],
   "source": [
    "pt.x = 100 # cannot do! it is a tuple -> immutable"
   ]
  },
  {
   "cell_type": "markdown",
   "metadata": {},
   "source": [
    "N.B namedtuple arguments name CANNOT contains underscore!"
   ]
  },
  {
   "cell_type": "code",
   "execution_count": 53,
   "metadata": {},
   "outputs": [
    {
     "ename": "ValueError",
     "evalue": "Field names cannot start with an underscore: '_y'",
     "output_type": "error",
     "traceback": [
      "\u001b[0;31m---------------------------------------------------------------------------\u001b[0m",
      "\u001b[0;31mValueError\u001b[0m                                Traceback (most recent call last)",
      "\u001b[1;32m/home/pyfry/Desktop/Python_Projects/py_deep_dive/Python_Bible.ipynb Cell 41'\u001b[0m in \u001b[0;36m<module>\u001b[0;34m\u001b[0m\n\u001b[0;32m----> <a href='vscode-notebook-cell:/home/pyfry/Desktop/Python_Projects/py_deep_dive/Python_Bible.ipynb#ch0000243?line=0'>1</a>\u001b[0m Pt2D \u001b[39m=\u001b[39m namedtuple(\u001b[39m'\u001b[39;49m\u001b[39mPoint2D\u001b[39;49m\u001b[39m'\u001b[39;49m, \u001b[39m'\u001b[39;49m\u001b[39mx _y\u001b[39;49m\u001b[39m'\u001b[39;49m)\n",
      "File \u001b[0;32m/usr/lib/python3.8/collections/__init__.py:367\u001b[0m, in \u001b[0;36mnamedtuple\u001b[0;34m(typename, field_names, rename, defaults, module)\u001b[0m\n\u001b[1;32m    <a href='file:///usr/lib/python3.8/collections/__init__.py?line=364'>365</a>\u001b[0m \u001b[39mfor\u001b[39;00m name \u001b[39min\u001b[39;00m field_names:\n\u001b[1;32m    <a href='file:///usr/lib/python3.8/collections/__init__.py?line=365'>366</a>\u001b[0m     \u001b[39mif\u001b[39;00m name\u001b[39m.\u001b[39mstartswith(\u001b[39m'\u001b[39m\u001b[39m_\u001b[39m\u001b[39m'\u001b[39m) \u001b[39mand\u001b[39;00m \u001b[39mnot\u001b[39;00m rename:\n\u001b[0;32m--> <a href='file:///usr/lib/python3.8/collections/__init__.py?line=366'>367</a>\u001b[0m         \u001b[39mraise\u001b[39;00m \u001b[39mValueError\u001b[39;00m(\u001b[39m'\u001b[39m\u001b[39mField names cannot start with an underscore: \u001b[39m\u001b[39m'\u001b[39m\n\u001b[1;32m    <a href='file:///usr/lib/python3.8/collections/__init__.py?line=367'>368</a>\u001b[0m                          \u001b[39mf\u001b[39m\u001b[39m'\u001b[39m\u001b[39m{\u001b[39;00mname\u001b[39m!r}\u001b[39;00m\u001b[39m'\u001b[39m)\n\u001b[1;32m    <a href='file:///usr/lib/python3.8/collections/__init__.py?line=368'>369</a>\u001b[0m     \u001b[39mif\u001b[39;00m name \u001b[39min\u001b[39;00m seen:\n\u001b[1;32m    <a href='file:///usr/lib/python3.8/collections/__init__.py?line=369'>370</a>\u001b[0m         \u001b[39mraise\u001b[39;00m \u001b[39mValueError\u001b[39;00m(\u001b[39mf\u001b[39m\u001b[39m'\u001b[39m\u001b[39mEncountered duplicate field name: \u001b[39m\u001b[39m{\u001b[39;00mname\u001b[39m!r}\u001b[39;00m\u001b[39m'\u001b[39m)\n",
      "\u001b[0;31mValueError\u001b[0m: Field names cannot start with an underscore: '_y'"
     ]
    }
   ],
   "source": [
    "Pt2D = namedtuple('Point2D', 'x _y') # ERROR!!"
   ]
  },
  {
   "cell_type": "markdown",
   "metadata": {},
   "source": [
    "unless we provide the keyword `rename=True`, in which case the namedtuple will convert the erroneous name into the positional number of the argument preceded by an underscore"
   ]
  },
  {
   "cell_type": "code",
   "execution_count": 54,
   "metadata": {},
   "outputs": [
    {
     "data": {
      "text/plain": [
       "Point2D(x=10, _1=20)"
      ]
     },
     "execution_count": 54,
     "metadata": {},
     "output_type": "execute_result"
    }
   ],
   "source": [
    "Pt2D = namedtuple('Point2D', 'x _y', rename=True)\n",
    "pt = Pt2D(10, 20)\n",
    "pt"
   ]
  },
  {
   "cell_type": "markdown",
   "metadata": {},
   "source": [
    "### Introspection\n",
    "The namedtuple generated classes that are shipped with some methods that can help ud in the introspection of our code:"
   ]
  },
  {
   "cell_type": "code",
   "execution_count": 55,
   "metadata": {},
   "outputs": [
    {
     "data": {
      "text/plain": [
       "('x', '_1')"
      ]
     },
     "execution_count": 55,
     "metadata": {},
     "output_type": "execute_result"
    }
   ],
   "source": [
    "Pt2D._fields"
   ]
  },
  {
   "cell_type": "code",
   "execution_count": 56,
   "metadata": {},
   "outputs": [
    {
     "data": {
      "text/plain": [
       "{'x': 10, '_1': 20}"
      ]
     },
     "execution_count": 56,
     "metadata": {},
     "output_type": "execute_result"
    }
   ],
   "source": [
    "pt._asdict()"
   ]
  },
  {
   "cell_type": "markdown",
   "metadata": {},
   "source": [
    "### Modify and Extending\n",
    "Namedtuple are immutable in essence but they come shipped with some methods that helps us handling arguments substitutions and extending. Basically the original tuple is overwritten and associated to a new memory address. Looking to Pt2D as example, we can modify its parameters with the method `_replace()`:"
   ]
  },
  {
   "cell_type": "code",
   "execution_count": 42,
   "metadata": {},
   "outputs": [
    {
     "data": {
      "text/plain": [
       "Point2D(x=50, _1=20)"
      ]
     },
     "execution_count": 42,
     "metadata": {},
     "output_type": "execute_result"
    }
   ],
   "source": [
    "# pt right now is Point2D(x=10, _1=20)\n",
    "pt = pt._replace(x=50)\n",
    "pt"
   ]
  },
  {
   "cell_type": "markdown",
   "metadata": {},
   "source": [
    "Instead, if we want to extend the namedtuple, adding more argument we can use the the `_fields` property of the existing namedtuple (which is a tuple), adding the element/s we want and create the new namedtuple with extended fields:"
   ]
  },
  {
   "cell_type": "code",
   "execution_count": 45,
   "metadata": {},
   "outputs": [
    {
     "data": {
      "text/plain": [
       "Point3D(x=10, y=20, z=30)"
      ]
     },
     "execution_count": 45,
     "metadata": {},
     "output_type": "execute_result"
    }
   ],
   "source": [
    "Pt2D = namedtuple('Point2D', 'x, y')\n",
    "old_fields = Pt2D._fields # is a tuple\n",
    "new_fields = old_fields + ('z', ) # concatenation of two tuple\n",
    "Pt3D = namedtuple('Point3D', new_fields) # equal to say Pt3D = namedtuple('Point3D', (x,y,z)) \n",
    "pt = Pt3D(10, 20, 30)\n",
    "pt"
   ]
  },
  {
   "cell_type": "markdown",
   "metadata": {},
   "source": [
    "### Docstring\n",
    "The namedtuple is shipped with a set of precompiled docstrings that can be access as always with the `help()` or the `__doc__` method."
   ]
  },
  {
   "cell_type": "code",
   "execution_count": 50,
   "metadata": {},
   "outputs": [
    {
     "name": "stdout",
     "output_type": "stream",
     "text": [
      "Help on class Point3D in module __main__:\n",
      "\n",
      "class Point3D(builtins.tuple)\n",
      " |  Point3D(x, y, z)\n",
      " |  \n",
      " |  Point3D(x, y, z)\n",
      " |  \n",
      " |  Method resolution order:\n",
      " |      Point3D\n",
      " |      builtins.tuple\n",
      " |      builtins.object\n",
      " |  \n",
      " |  Methods defined here:\n",
      " |  \n",
      " |  __getnewargs__(self)\n",
      " |      Return self as a plain tuple.  Used by copy and pickle.\n",
      " |  \n",
      " |  __repr__(self)\n",
      " |      Return a nicely formatted representation string\n",
      " |  \n",
      " |  _asdict(self)\n",
      " |      Return a new dict which maps field names to their values.\n",
      " |  \n",
      " |  _replace(self, /, **kwds)\n",
      " |      Return a new Point3D object replacing specified fields with new values\n",
      " |  \n",
      " |  ----------------------------------------------------------------------\n",
      " |  Class methods defined here:\n",
      " |  \n",
      " |  _make(iterable) from builtins.type\n",
      " |      Make a new Point3D object from a sequence or iterable\n",
      " |  \n",
      " |  ----------------------------------------------------------------------\n",
      " |  Static methods defined here:\n",
      " |  \n",
      " |  __new__(_cls, x, y, z)\n",
      " |      Create new instance of Point3D(x, y, z)\n",
      " |  \n",
      " |  ----------------------------------------------------------------------\n",
      " |  Data descriptors defined here:\n",
      " |  \n",
      " |  x\n",
      " |      Alias for field number 0\n",
      " |  \n",
      " |  y\n",
      " |      Alias for field number 1\n",
      " |  \n",
      " |  z\n",
      " |      Alias for field number 2\n",
      " |  \n",
      " |  ----------------------------------------------------------------------\n",
      " |  Data and other attributes defined here:\n",
      " |  \n",
      " |  _field_defaults = {}\n",
      " |  \n",
      " |  _fields = ('x', 'y', 'z')\n",
      " |  \n",
      " |  _fields_defaults = {}\n",
      " |  \n",
      " |  ----------------------------------------------------------------------\n",
      " |  Methods inherited from builtins.tuple:\n",
      " |  \n",
      " |  __add__(self, value, /)\n",
      " |      Return self+value.\n",
      " |  \n",
      " |  __contains__(self, key, /)\n",
      " |      Return key in self.\n",
      " |  \n",
      " |  __eq__(self, value, /)\n",
      " |      Return self==value.\n",
      " |  \n",
      " |  __ge__(self, value, /)\n",
      " |      Return self>=value.\n",
      " |  \n",
      " |  __getattribute__(self, name, /)\n",
      " |      Return getattr(self, name).\n",
      " |  \n",
      " |  __getitem__(self, key, /)\n",
      " |      Return self[key].\n",
      " |  \n",
      " |  __gt__(self, value, /)\n",
      " |      Return self>value.\n",
      " |  \n",
      " |  __hash__(self, /)\n",
      " |      Return hash(self).\n",
      " |  \n",
      " |  __iter__(self, /)\n",
      " |      Implement iter(self).\n",
      " |  \n",
      " |  __le__(self, value, /)\n",
      " |      Return self<=value.\n",
      " |  \n",
      " |  __len__(self, /)\n",
      " |      Return len(self).\n",
      " |  \n",
      " |  __lt__(self, value, /)\n",
      " |      Return self<value.\n",
      " |  \n",
      " |  __mul__(self, value, /)\n",
      " |      Return self*value.\n",
      " |  \n",
      " |  __ne__(self, value, /)\n",
      " |      Return self!=value.\n",
      " |  \n",
      " |  __rmul__(self, value, /)\n",
      " |      Return value*self.\n",
      " |  \n",
      " |  count(self, value, /)\n",
      " |      Return number of occurrences of value.\n",
      " |  \n",
      " |  index(self, value, start=0, stop=9223372036854775807, /)\n",
      " |      Return first index of value.\n",
      " |      \n",
      " |      Raises ValueError if the value is not present.\n",
      "\n"
     ]
    }
   ],
   "source": [
    "help(Pt3D)"
   ]
  },
  {
   "cell_type": "markdown",
   "metadata": {},
   "source": [
    "### Defaults values\n",
    "When we create a namedtuple, we cannot specify default arguments. One way to circumvent this would be to define an instance of the namedtuple (e.g. setting all parameters to 0) and then use the `._replace()` method to specify only those arguments that we want to have a default value. Alternatively we can use the `__defaults__` method (it can be use in the same way on any function). To use this last approach on the namedtuple we first need to create a new instance of the class using the `__new__` method and then call the `__defaults__`:"
   ]
  },
  {
   "cell_type": "code",
   "execution_count": 73,
   "metadata": {},
   "outputs": [
    {
     "name": "stdout",
     "output_type": "stream",
     "text": [
      "0 10 20\n"
     ]
    }
   ],
   "source": [
    "# `__defaults__` on a generic function\n",
    "def func(x, y, z):\n",
    "    print(x, y, z)\n",
    "\n",
    "func.__defaults__ = (10, 20) # N.B. The replacement starts from the last parameter\n",
    "func(x=0)"
   ]
  },
  {
   "cell_type": "code",
   "execution_count": 74,
   "metadata": {},
   "outputs": [
    {
     "data": {
      "text/plain": [
       "Point3D(x=10, y=10, z=0)"
      ]
     },
     "execution_count": 74,
     "metadata": {},
     "output_type": "execute_result"
    }
   ],
   "source": [
    "# Create a new instance of the Pt3D function setting a default values fro the argument z\n",
    "Pt3D.__new__.__defaults__ = (0,)\n",
    "pt = Pt3D(x=10, y=10)\n",
    "pt"
   ]
  },
  {
   "cell_type": "markdown",
   "metadata": {},
   "source": [
    "# Classes\n",
    "---"
   ]
  },
  {
   "cell_type": "markdown",
   "metadata": {},
   "source": [
    "\n",
    "`__init__` is the default method that is called after the class object is created. The first argument is always `self`, i.e. the instance of the object created calling the class object."
   ]
  },
  {
   "cell_type": "code",
   "execution_count": 14,
   "metadata": {},
   "outputs": [
    {
     "data": {
      "text/plain": [
       "(__main__.Rectangle, True)"
      ]
     },
     "execution_count": 14,
     "metadata": {},
     "output_type": "execute_result"
    }
   ],
   "source": [
    "class Rectangle:\n",
    "  def __init__(self, width, height):\n",
    "    self.width = width\n",
    "    self.height = height\n",
    "\n",
    "r1 = Rectangle(10,20)\n",
    "# r1 is a instance of the class Rectangle, referred as `self` inside the class constructor    \n",
    "\n",
    "r1.__class__, isinstance(r1, Rectangle)"
   ]
  },
  {
   "cell_type": "markdown",
   "metadata": {},
   "source": [
    "## Getters and Setters\n",
    "Getter and setter methods are implemented to impose some dynamics in the class structure. In python there are no private attributes (even if we can specify to the reader that a variable is private beginning its name with _). Setter and getter methods impose to the user some constrains"
   ]
  },
  {
   "cell_type": "markdown",
   "metadata": {},
   "source": [
    "## Overload methods\n",
    "There are some special methods that are built into the `class` constructor and are passed automatically to any instance of the class even if they are not defined explicitly. For example if we call the python method `str` on an instance of the class we will receive a standard output specifying the memory address of the instance. Unless we overwrite or `overload` this method explicitly inside the class definition."
   ]
  },
  {
   "cell_type": "markdown",
   "metadata": {},
   "source": [
    "### `str` method"
   ]
  },
  {
   "cell_type": "code",
   "execution_count": 15,
   "metadata": {},
   "outputs": [
    {
     "data": {
      "text/plain": [
       "'Rectangle: width:10, height:20'"
      ]
     },
     "execution_count": 15,
     "metadata": {},
     "output_type": "execute_result"
    }
   ],
   "source": [
    "class Rectangle:\n",
    "  def __init__(self, width, height):\n",
    "    self.width = width\n",
    "    self.height = height\n",
    "\n",
    "  def __str__(self):\n",
    "    return f'Rectangle: width:{self.width}, height:{self.height}'\n",
    "\n",
    "r1 = Rectangle(10,20)\n",
    "\n",
    "str(r1) # will print what inside the __str__ method\n",
    "# if __str__ is not defined than the output will be:\n",
    "# <__main__.Rectangle object at \"some memory address\">"
   ]
  },
  {
   "cell_type": "markdown",
   "metadata": {},
   "source": [
    "### `repr` method\n",
    "It is similar to `__str__` method but its use is more developer-oriented. The repr method should return the string representation of the class instance called"
   ]
  },
  {
   "cell_type": "code",
   "execution_count": 16,
   "metadata": {},
   "outputs": [
    {
     "data": {
      "text/plain": [
       "'Rectangle(10, 20)'"
      ]
     },
     "execution_count": 16,
     "metadata": {},
     "output_type": "execute_result"
    }
   ],
   "source": [
    "class Rectangle:\n",
    "  def __init__(self, width, height):\n",
    "    self.width = width\n",
    "    self.height = height\n",
    "\n",
    "  def __repr__(self):\n",
    "    return f'Rectangle({self.width}, {self.height})'\n",
    "\n",
    "r1 = Rectangle(10,20)\n",
    "\n",
    "repr(r1) # will print what inside the __repr__ method that is exactly Rectangle(10,20), how the object r1 has been created in the first place"
   ]
  },
  {
   "cell_type": "markdown",
   "metadata": {},
   "source": [
    "### `eq` method\n",
    "Is the method needed to compare two objects generated by the same class with the `==` operator."
   ]
  },
  {
   "cell_type": "markdown",
   "metadata": {},
   "source": [
    "# Functions\n",
    "---"
   ]
  },
  {
   "cell_type": "markdown",
   "metadata": {},
   "source": [
    "\n",
    "A first semantic difference in functions is the definition of `parameters` and `arguments`; the first is referred to the variables in the function definition while the second is refereed to the variables passed to the instance of the function.\n"
   ]
  },
  {
   "cell_type": "code",
   "execution_count": 17,
   "metadata": {},
   "outputs": [
    {
     "data": {
      "text/plain": [
       "<function __main__.my_func(a, b)>"
      ]
     },
     "execution_count": 17,
     "metadata": {},
     "output_type": "execute_result"
    }
   ],
   "source": [
    "def my_func(a, b): # a and b are the parameters of the function\n",
    "  pass\n",
    "\n",
    "x = 10\n",
    "y = 'a'\n",
    "\n",
    "my_func(x, y) # x and y are the arguments of the function\n",
    "\n",
    "my_func"
   ]
  },
  {
   "cell_type": "markdown",
   "metadata": {},
   "source": [
    "To be noted that x and y are passed by `reference` to `my_func`, i.e. the memory addresses of x and y are stored into a and b.\n",
    "Therefore, the `Function Scope` contains the memory addresses of the variables that are passed to the function (x and y in the example).\n",
    "\n",
    "Another pythonic difference is the definition of `functions` and `methods`. They are defined in the same way but a method is bound to a class, it is an attribute of the class that is callable."
   ]
  },
  {
   "cell_type": "code",
   "execution_count": 18,
   "metadata": {},
   "outputs": [
    {
     "data": {
      "text/plain": [
       "(<function inspect.ismethod(object)>, <function inspect.isfunction(object)>)"
      ]
     },
     "execution_count": 18,
     "metadata": {},
     "output_type": "execute_result"
    }
   ],
   "source": [
    "from inspect import ismethod, isfunction\n",
    "\n",
    "ismethod, isfunction"
   ]
  },
  {
   "cell_type": "markdown",
   "metadata": {},
   "source": [
    "## Docstrings and annotations (PEP 257)\n",
    "N.B. Docstring has to the first line of code in the function/class definition, otherwise it won't be inserted into the `__doc__` method and won't be displayed with the `help()` function.\n",
    "\n",
    "Docstrings (single quote or triple quote) are the way to generate documentation inside the python code. They are different from comments (#) since the former are actually compiled by the interpreter and stored in the `__doc__` property of functions and classes. The `__doc__` property can be invoked with the `help()` function on any object that implements it."
   ]
  },
  {
   "cell_type": "code",
   "execution_count": 19,
   "metadata": {},
   "outputs": [
    {
     "name": "stdout",
     "output_type": "stream",
     "text": [
      "Help on function my_func in module __main__:\n",
      "\n",
      "my_func()\n",
      "    Here it goes the doctring that contains\n",
      "    the instruction on function usage and arguments types and boundaries.\n",
      "    This will be displayed invocking the `__doc__` method\n",
      "    with the `help()` function.\n",
      "\n"
     ]
    }
   ],
   "source": [
    "def my_func():\n",
    "  '''\n",
    "  Here it goes the doctring that contains\n",
    "  the instruction on function usage and arguments types and boundaries.\n",
    "  This will be displayed invocking the `__doc__` method\n",
    "  with the `help()` function.\n",
    "  '''\n",
    "  pass\n",
    "\n",
    "help(my_func)"
   ]
  },
  {
   "cell_type": "markdown",
   "metadata": {},
   "source": [
    "Another way to document our code is to use annotations. These are not stored in the `__doc__` method but can be invoked by the `help()` function. Annotations can be also functions that are evaluated as constant during first compilation; however they don't bind the code to a specific behavior (a: int -> doesn't bind a to be an int), they are only metadata stored in teh `__annotations__` method which is a dictionary with parameters as key and annotations as values. These can be used by external modules like `Sphinx` to automatically generate documentation for our code."
   ]
  },
  {
   "cell_type": "code",
   "execution_count": 20,
   "metadata": {},
   "outputs": [
    {
     "data": {
      "text/plain": [
       "{'a': 'string', 'b': 'integer', 'return': 'a string'}"
      ]
     },
     "execution_count": 20,
     "metadata": {},
     "output_type": "execute_result"
    }
   ],
   "source": [
    "def my_func(a: 'string', b: 'integer') -> 'a string':\n",
    "  return a*b\n",
    "  \n",
    "my_func.__annotations__"
   ]
  },
  {
   "cell_type": "markdown",
   "metadata": {},
   "source": [
    "## `lambda` expression\n",
    "`lambda` expressions are another way to create function without the `def` statement. They are also referred as to `anonymous functions`. It has to be a single expression, therefore no assignment is allowed aswell as no type hinting (annotations)"
   ]
  },
  {
   "cell_type": "code",
   "execution_count": 21,
   "metadata": {},
   "outputs": [
    {
     "data": {
      "text/plain": [
       "(function, 9)"
      ]
     },
     "execution_count": 21,
     "metadata": {},
     "output_type": "execute_result"
    }
   ],
   "source": [
    "# lambda [parameters list]: expression\n",
    "lambda x: x**2\n",
    "lambda x, y: x + y\n",
    "lambda : 'hello' # we can assign 0 parameters and just return a constant\n",
    "\n",
    "# we can assign lambda function to variable and later call it\n",
    "my_func = lambda x: x**2\n",
    "\n",
    "type(my_func), my_func(3)"
   ]
  },
  {
   "cell_type": "markdown",
   "metadata": {},
   "source": [
    "The lambda expression generates a `function object` that returns the expression when called."
   ]
  },
  {
   "cell_type": "markdown",
   "metadata": {},
   "source": [
    "## Function Intorspection\n",
    "Function are first-class objects that, when created are shipped with a series of default dunder methods in additions to the ones that we implemented. To look at all the function attributes we can use the built-in function `dir()`. Among the dunders method we have:"
   ]
  },
  {
   "cell_type": "code",
   "execution_count": 22,
   "metadata": {},
   "outputs": [
    {
     "name": "stdout",
     "output_type": "stream",
     "text": [
      "name : func\n",
      "default args : ('hello',)\n",
      "deafult kwargs : None\n",
      "code object : <code object func at 0x7fd4e9bfc7c0, file \"/tmp/ipykernel_5027/3242595406.py\", line 3>\n",
      "variables names : ('a', 'b', 'c')\n",
      "num of arguments : 3\n"
     ]
    }
   ],
   "source": [
    "# this will be shown with the module\n",
    "# inspect.getcomments()\n",
    "def func(a, b, c='hello'):\n",
    "  pass\n",
    "\n",
    "introspection = {\n",
    "'name' : func.__name__, # the name of the function\n",
    "'default args' : func.__defaults__, # tuple containing default positional parameters\n",
    "'deafult kwargs' : func.__kwdefaults__, # dictionary containing default keyword parameters\n",
    "'code object' : func.__code__, # return a code object which has its own methods:\n",
    "'variables names' : func.__code__.co_varnames, # return the paramters and then the local variables (defined inside the function scope) of the function\n",
    "'num of arguments' : func.__code__.co_argcount, # return the number of parameters except *args and **kwargs\n",
    "}\n",
    "\n",
    "for key, arg in introspection.items():\n",
    "  print(f'{key} : {arg}')"
   ]
  },
  {
   "cell_type": "markdown",
   "metadata": {},
   "source": [
    "Also the module `inspect` can be used to retrieve information about the function:"
   ]
  },
  {
   "cell_type": "code",
   "execution_count": 23,
   "metadata": {},
   "outputs": [
    {
     "data": {
      "text/plain": [
       "'# this will be shown with the module\\n# inspect.getcomments()\\n'"
      ]
     },
     "execution_count": 23,
     "metadata": {},
     "output_type": "execute_result"
    }
   ],
   "source": [
    "import inspect\n",
    "\n",
    "inspect.getcomments(func) # returns the comment just above the function definition"
   ]
  },
  {
   "cell_type": "markdown",
   "metadata": {},
   "source": [
    "## Unpacking iterables\n",
    "Iterables are `packed` structures that bundle values together (list, tuple, strings, set, dictionary..). As per the world meaning, `unpacking` is an operation that assigned the packed values to variables:"
   ]
  },
  {
   "cell_type": "code",
   "execution_count": 24,
   "metadata": {},
   "outputs": [
    {
     "data": {
      "text/plain": [
       "(1, 2, 3)"
      ]
     },
     "execution_count": 24,
     "metadata": {},
     "output_type": "execute_result"
    }
   ],
   "source": [
    "a, b, c = [1,2,3]\n",
    "\n",
    "a,b,c"
   ]
  },
  {
   "cell_type": "code",
   "execution_count": 25,
   "metadata": {},
   "outputs": [
    {
     "data": {
      "text/plain": [
       "('c', 'i', 'a', 'o')"
      ]
     },
     "execution_count": 25,
     "metadata": {},
     "output_type": "execute_result"
    }
   ],
   "source": [
    "a, b, c, d = 'ciao'\n",
    "\n",
    "a, b, c, d\n",
    "# N.B. we can unpack in the same way a dictionary or a set but in that case the order of assignment will be casual because these are unordered types of objects."
   ]
  },
  {
   "cell_type": "markdown",
   "metadata": {},
   "source": [
    "\n",
    "It comes handy when we want to swap values between variables:\n"
   ]
  },
  {
   "cell_type": "code",
   "execution_count": 26,
   "metadata": {},
   "outputs": [
    {
     "data": {
      "text/plain": [
       "(20, 10)"
      ]
     },
     "execution_count": 26,
     "metadata": {},
     "output_type": "execute_result"
    }
   ],
   "source": [
    "a = 10\n",
    "b = 20\n",
    "\n",
    "a, b = b, a\n",
    "\n",
    "a, b\n",
    "# this works in python because the RHS is evaluated first, where the memory address of \"b\" and \"a\" is copied in a tuple and only after assigned to the new swap) variables \"a\" and \"b\"."
   ]
  },
  {
   "cell_type": "markdown",
   "metadata": {},
   "source": [
    "## Unpacking with *\n",
    "We may want to unpack an iterable in more than one variable, and in this case it comes handy the `*` operator:"
   ]
  },
  {
   "cell_type": "code",
   "execution_count": 27,
   "metadata": {},
   "outputs": [
    {
     "data": {
      "text/plain": [
       "(1, [2, 3], 4)"
      ]
     },
     "execution_count": 27,
     "metadata": {},
     "output_type": "execute_result"
    }
   ],
   "source": [
    "l = [1,2,3,4]\n",
    "# we want to unpack the first element of l and the others apart\n",
    "#we could do it simply with list slicing and unpacking the\n",
    "a, b = l[0], l[1:]\n",
    "\n",
    "# or in a more elegant way with the * operator\n",
    "a, *b = l # a=1, b =[2,3,4] \n",
    "\n",
    "a, *b, c = l # a=1, b=[2,3], c=4\n",
    "\n",
    "a, b, c"
   ]
  },
  {
   "cell_type": "code",
   "execution_count": 28,
   "metadata": {},
   "outputs": [
    {
     "ename": "SyntaxError",
     "evalue": "two starred expressions in assignment (2746844977.py, line 1)",
     "output_type": "error",
     "traceback": [
      "\u001b[0;36m  Input \u001b[0;32mIn [28]\u001b[0;36m\u001b[0m\n\u001b[0;31m    a, *b, *c = l # ERROR we can unpack with only one *, otherwise python won't understand who assign to whom\u001b[0m\n\u001b[0m    ^\u001b[0m\n\u001b[0;31mSyntaxError\u001b[0m\u001b[0;31m:\u001b[0m two starred expressions in assignment\n"
     ]
    }
   ],
   "source": [
    "a, *b, *c = l # ERROR we can unpack with only one *, otherwise python won't understand who assign to whom"
   ]
  },
  {
   "cell_type": "markdown",
   "metadata": {},
   "source": [
    "Another advantage of the `*` operator is that can be used also with objects that don't support slicing (like sets or dictionaries, since they have no ordering). N.B. if more than one element is unpacked with *, it will always end up in a list (even if, for example, the item unpacked is a tuple).\n",
    "\n",
    "The `*` operator can be used also for unpacking objects on the RHS:"
   ]
  },
  {
   "cell_type": "code",
   "execution_count": null,
   "metadata": {},
   "outputs": [
    {
     "data": {
      "text/plain": [
       "[1, 2, 3, 4]"
      ]
     },
     "execution_count": 13,
     "metadata": {},
     "output_type": "execute_result"
    }
   ],
   "source": [
    "l1 = [1,2]\n",
    "l2 = [3,4]\n",
    "l = [*l1, *l2] # l=[1,2,3,4]\n",
    "\n",
    "l"
   ]
  },
  {
   "cell_type": "markdown",
   "metadata": {},
   "source": [
    "With dictionaries we have both keys and values that can be unpacked (unordered unpacking since there is no order!). With the `*` operator we unpack the keys of the dict only, while with the `**` we can unpack both keys and values (N.B. `**` can be used only on the RHS)."
   ]
  },
  {
   "cell_type": "code",
   "execution_count": null,
   "metadata": {},
   "outputs": [
    {
     "data": {
      "text/plain": [
       "{'a', 'b', 'c'}"
      ]
     },
     "execution_count": 14,
     "metadata": {},
     "output_type": "execute_result"
    }
   ],
   "source": [
    "d1 = {'a': 1, 'b': 2}\n",
    "d2 = {'b': 3, 'c': 4}\n",
    "d = {*d1, *d2} # d={'a','b','c'} -> n.b. b was not repeated because keys are unique in sets and dictionaries.\n",
    "\n",
    "d"
   ]
  },
  {
   "cell_type": "code",
   "execution_count": null,
   "metadata": {},
   "outputs": [
    {
     "data": {
      "text/plain": [
       "{'a': 1, 'b': 3, 'c': 4}"
      ]
     },
     "execution_count": 15,
     "metadata": {},
     "output_type": "execute_result"
    }
   ],
   "source": [
    "d = {**d1, **d2} # d={'a': 1, 'b': 3, 'c': 4} -> n.b. b has the values contained in d2 since it was unpacked for second and overwrite the keys from d1.\n",
    "\n",
    "d"
   ]
  },
  {
   "cell_type": "markdown",
   "metadata": {},
   "source": [
    "## Nested unpacking\n",
    "We can unpack also nested structures, such as list of lists, with the same operators."
   ]
  },
  {
   "cell_type": "code",
   "execution_count": null,
   "metadata": {},
   "outputs": [
    {
     "data": {
      "text/plain": [
       "(1, [2, 3], 'p', ['y', 't', 'h', 'o', 'n'])"
      ]
     },
     "execution_count": 20,
     "metadata": {},
     "output_type": "execute_result"
    }
   ],
   "source": [
    "a, *b, (c, *d) = [1, 2, 3, 'python']\n",
    "\n",
    "a, b, c, d"
   ]
  },
  {
   "cell_type": "markdown",
   "metadata": {},
   "source": [
    "## *args and **kwargs\n",
    "Unpacking can be done also in functions parameters in order to specify a variable number of arguments as input:"
   ]
  },
  {
   "cell_type": "code",
   "execution_count": null,
   "metadata": {},
   "outputs": [
    {
     "data": {
      "text/plain": [
       "(1, 2, (3, 4))"
      ]
     },
     "execution_count": 27,
     "metadata": {},
     "output_type": "execute_result"
    }
   ],
   "source": [
    "def my_func(a, b, *args): # N.B. the name 'args' is just a conventions\n",
    "  return a, b, args\n",
    "\n",
    "a, b, c = my_func(1,2,3,4) # a=1, b=2, c=(3,4)\n",
    "# note that inside function scope, arguments are unpacked into tuples e not lists\n",
    "\n",
    "a, b, c"
   ]
  },
  {
   "cell_type": "markdown",
   "metadata": {},
   "source": [
    "The positional argument constructor `*args` has to be the last positional argument in the function since it exhaust all the non-assigned positional arguments; after that only keyword arguments are allowed and these can be unpacked with the `**kwargs` parameter. The `*` and `**` operators can be used to limit the use of positional or keyword arguments."
   ]
  },
  {
   "cell_type": "code",
   "execution_count": null,
   "metadata": {},
   "outputs": [],
   "source": [
    "def my_func(*, name):\n",
    "  # in this way my_func doesn't allow positional arguments.\n",
    "  # name is automatically a keyword argument.\n",
    "  pass\n",
    "\n",
    "def my_func(a, *, name):\n",
    "  # in this way my_func allow only one positional argument `a` and one keyword argument `name'.\n",
    "  # since 'name' is placed after * it means it is a keyword argument\n",
    "  pass\n",
    "\n",
    "\n",
    "def my_func(*, name, **kwarg): # OK\n",
    "  pass\n"
   ]
  },
  {
   "cell_type": "code",
   "execution_count": null,
   "metadata": {},
   "outputs": [
    {
     "ename": "SyntaxError",
     "evalue": "named arguments must follow bare * (1713583272.py, line 1)",
     "output_type": "error",
     "traceback": [
      "\u001b[0;36m  Input \u001b[0;32mIn [39]\u001b[0;36m\u001b[0m\n\u001b[0;31m    def my_func(*, **kwarg): # ERROR an explicit keyword argument is required after the `*`\u001b[0m\n\u001b[0m                   ^\u001b[0m\n\u001b[0;31mSyntaxError\u001b[0m\u001b[0;31m:\u001b[0m named arguments must follow bare *\n"
     ]
    }
   ],
   "source": [
    "def my_func(*, **kwarg): # ERROR an explicit keyword argument is required after the `*`\n",
    "  pass\n"
   ]
  },
  {
   "cell_type": "markdown",
   "metadata": {},
   "source": [
    "## Parameters default\n",
    "Care must be taken when assigning default values to functions arguments, in particular if these are mutable objects. Wehn Python compile the script it stores in memory the function definition and any argument with default values. This means that each time that function is called, if the default parameters is left unchanged, it will use the specified values. In some case it may results in unwanted behaviors:"
   ]
  },
  {
   "cell_type": "code",
   "execution_count": null,
   "metadata": {},
   "outputs": [
    {
     "name": "stdout",
     "output_type": "stream",
     "text": [
      "2022-02-09 15:13:23.899525: first log\n",
      "2022-02-09 15:13:23.899525: first log\n"
     ]
    }
   ],
   "source": [
    "# creating a function that store a message in a log file with the datetime\n",
    "from datetime import datetime\n",
    "import time\n",
    "\n",
    "def log(msg, *, dt=datetime.utcnow()):\n",
    "  print(f'{dt}: {msg}')\n",
    "\n",
    "# Now, since the value of dt is stored at runtime, each time we call\n",
    "log('first log')\n",
    "time.sleep(3)\n",
    "log('first log')\n",
    "# we will see that the time printed is alway the same since it has been stored at compilation time as a CONSTANT!"
   ]
  },
  {
   "cell_type": "code",
   "execution_count": null,
   "metadata": {},
   "outputs": [
    {
     "name": "stdout",
     "output_type": "stream",
     "text": [
      "2022-02-09 15:14:05.678508: first log\n",
      "2022-02-09 15:14:08.680566: first log\n"
     ]
    }
   ],
   "source": [
    "# SOLUTION\n",
    "def log(msg, *, dt=None):\n",
    "  dt = dt or datetime.utcnow() # if dt is false (None) the 'or' statement is executed\n",
    "  print(f'{dt}: {msg}')\n",
    "# we can set dt=None and check if the user actually input a values for dt. If not the function will call datetime.utcnow().\n",
    "# Since this call is performed in the function scope, it gets executed each time the function is called. \n",
    "\n",
    "log('first log')\n",
    "time.sleep(3)\n",
    "log('first log')"
   ]
  },
  {
   "cell_type": "markdown",
   "metadata": {},
   "source": [
    "Another example is when we create a mutable object directly as argument of a function. Also in this case, that object is evaluated as a constant at compilation time and reused as reference each time the function is called. This"
   ]
  },
  {
   "cell_type": "code",
   "execution_count": null,
   "metadata": {},
   "outputs": [
    {
     "data": {
      "text/plain": [
       "(['banana', 'coca'], ['banana', 'coca'])"
      ]
     },
     "execution_count": 48,
     "metadata": {},
     "output_type": "execute_result"
    }
   ],
   "source": [
    "# create a function that store values into a list\n",
    "def add_item(item, func_list=[]):\n",
    "  func_list.append(item)\n",
    "  return func_list\n",
    "\n",
    "my_list1 = add_item('banana') # a list is created that references to `func_list`\n",
    "# so if i create another list of items\n",
    "my_list2 = add_item('coca')\n",
    "# now we have:\n",
    "# my_list1 = ['banana', 'coca']\n",
    "# my_list2 = ['banana', 'coca']\n",
    "# because they are both referencing to func_list!\n",
    "\n",
    "my_list1, my_list2"
   ]
  },
  {
   "cell_type": "code",
   "execution_count": null,
   "metadata": {},
   "outputs": [
    {
     "data": {
      "text/plain": [
       "(['banana'], ['coca'])"
      ]
     },
     "execution_count": 50,
     "metadata": {},
     "output_type": "execute_result"
    }
   ],
   "source": [
    "# SOLUTION\n",
    "def add_item(item, func_list=None):\n",
    "  func_list = func_list or list() # short-circuit\n",
    "  func_list.append(item)\n",
    "  return func_list\n",
    "\n",
    "my_list1 = add_item('banana')\n",
    "my_list2 = add_item('coca')\n",
    "\n",
    "my_list1, my_list2"
   ]
  },
  {
   "cell_type": "markdown",
   "metadata": {},
   "source": [
    "`KEY TAKE-AWAY`: Never use mutable objects as `default` arguments. Instead use None and create the object in the function scope. The only time it can come in handy is when using `memoization` to cache values from a function that is executed multiple times."
   ]
  },
  {
   "cell_type": "markdown",
   "metadata": {},
   "source": [
    "## Map, Filter and Zip functions\n",
    "N.B. Map anf Filter have been mostly replaced by list comprehension and generator functions.\n",
    "\n",
    "These are `higher order functions` (i.e. function that takes a function as parameter and/or returns a function), `map` return an `iterator` that applies the function to each element in the iterable.\n"
   ]
  },
  {
   "cell_type": "code",
   "execution_count": null,
   "metadata": {},
   "outputs": [
    {
     "data": {
      "text/plain": [
       "([1, 4, 9], [1, 4, 9])"
      ]
     },
     "execution_count": 55,
     "metadata": {},
     "output_type": "execute_result"
    }
   ],
   "source": [
    "# map(func, *iterables)\n",
    "\n",
    "def sq(x):\n",
    "  return x**2\n",
    "\n",
    "l = [1, 2, 3]\n",
    "\n",
    "list(map(sq, l)), list(map(lambda x: x**2, l))\n",
    "# map returns a generator, therefore we need to pass it to list()"
   ]
  },
  {
   "cell_type": "markdown",
   "metadata": {},
   "source": [
    "The number of iterables that are provided to map() is determined by the function that it is passed; if more than one iterable is provided, only the length of the shortest will be mapped. `filter` is a function that takes a function and a single iterable and returns the elements of the iterable that satisfies the condition given in the function, i.e. it filters the iterable."
   ]
  },
  {
   "cell_type": "code",
   "execution_count": null,
   "metadata": {},
   "outputs": [
    {
     "data": {
      "text/plain": [
       "[0, 2, 4]"
      ]
     },
     "execution_count": 56,
     "metadata": {},
     "output_type": "execute_result"
    }
   ],
   "source": [
    "l = [0,1,2,3,4,5]\n",
    "\n",
    "list(filter(lambda n: n % 2 == 0, l)) # [0, 2, 4]"
   ]
  },
  {
   "cell_type": "markdown",
   "metadata": {},
   "source": [
    "## Reducing Functions\n",
    "Also called, accumulators, aggregators or folding functions; are functions that recombine an iterable recursively, returning a single value (es. finding the max in an array, or summing up its elements)."
   ]
  },
  {
   "cell_type": "code",
   "execution_count": null,
   "metadata": {},
   "outputs": [
    {
     "data": {
      "text/plain": [
       "(10, 5)"
      ]
     },
     "execution_count": 62,
     "metadata": {},
     "output_type": "execute_result"
    }
   ],
   "source": [
    "# write a reducing function to compute max, min and sum of an iterable.\n",
    "l = [5, 8, 6, 10, 9]\n",
    "\n",
    "add = lambda a, b: a+b\n",
    "find_max = lambda a, b: a if a > b else b\n",
    "find_min = lambda a, b: a if a < b else b\n",
    "\n",
    "def _reduce(fn, sequence):\n",
    "  result = sequence[0]\n",
    "  for x in sequence[1:]:\n",
    "    result = fn(result, x)\n",
    "  return result\n",
    "\n",
    "_reduce(find_max, l), _reduce(find_min, l)"
   ]
  },
  {
   "cell_type": "markdown",
   "metadata": {},
   "source": [
    "The function `_reduce` takes two arguments, a function (add, find_max or find_min), and sequence of numbers. It applies the function recursively a return a single value (the sum, the max or the min) depending on the function passed.\n",
    "Python has a builtin modules that contain the function `reduce` similar to the one defined above, but that works on any iterables, also non index ones."
   ]
  },
  {
   "cell_type": "code",
   "execution_count": null,
   "metadata": {},
   "outputs": [
    {
     "data": {
      "text/plain": [
       "(10, 10)"
      ]
     },
     "execution_count": 63,
     "metadata": {},
     "output_type": "execute_result"
    }
   ],
   "source": [
    "from functools import reduce\n",
    "\n",
    "l = [5, 8, 6, 10, 9]\n",
    "\n",
    "reduce(find_max, l), reduce(lambda a, b: a if a > b else b, l) # find max of l\n",
    "\n",
    "#Reduce has a third argument called 'initializer' that serve as first value for the reduced function. This is to avoid runtime error in the case, for example of trying to apply sum-reduce to an empty list.\n"
   ]
  },
  {
   "cell_type": "markdown",
   "metadata": {},
   "source": [
    "Other builtin reducing function in python are:"
   ]
  },
  {
   "cell_type": "code",
   "execution_count": null,
   "metadata": {},
   "outputs": [
    {
     "data": {
      "text/plain": [
       "{'max': 10, 'min': 5, 'sum': 38, 'any': True, 'all': True}"
      ]
     },
     "execution_count": 67,
     "metadata": {},
     "output_type": "execute_result"
    }
   ],
   "source": [
    "red_func = {\n",
    "'max': max(l),\n",
    "'min': min(l),\n",
    "'sum': sum(l),\n",
    "'any': any(l), # return True if at least one element in the sequence evaluates to True\n",
    "'all': all(l), # return True if all the elements in the sequence evaluates to True\n",
    "} \n",
    "\n",
    "red_func"
   ]
  },
  {
   "cell_type": "markdown",
   "metadata": {},
   "source": [
    "## Partial functions\n",
    "Partial functions are a way to reduce the number of argument required by a function, setting some of them as default. We could write ourself a wrapper to a function ore use the builtin `functools.partial` module.\n"
   ]
  },
  {
   "cell_type": "code",
   "execution_count": null,
   "metadata": {},
   "outputs": [
    {
     "data": {
      "text/plain": [
       "25"
      ]
     },
     "execution_count": 72,
     "metadata": {},
     "output_type": "execute_result"
    }
   ],
   "source": [
    "# create a function that compute the power of a number\n",
    "\n",
    "def pow(base, exponent):\n",
    "  return base ** exponent\n",
    "\n",
    "# we can create a partial function that specify the exponent so that it computes alway the square\n",
    "def square(base):\n",
    "  return pow(base, exponent=2)\n",
    "\n",
    "# or we can use the functools.partial module\n",
    "from functools import partial\n",
    "\n",
    "square = partial(pow, exponent=2)\n",
    "\n",
    "'''\n",
    "N.B. if we define a variable prior to the partial definition, and we assign that variable as argument, the argument won't point to the variable but to the values associated with its memory address. therefore even if we change the variable after, the value at which the partial function is pointing will remain the same\n",
    "'''\n",
    "\n",
    "a = 2\n",
    "square = partial(pow, exponent=a)\n",
    "# exponent is pointing at the same memory address of 'a' (the value 2) and not to a itself\n",
    "a = 5\n",
    "\n",
    "square(5) # the value assigned in the square function remain the same (2)"
   ]
  },
  {
   "cell_type": "markdown",
   "metadata": {},
   "source": [
    "## The `operator` module\n",
    "The `operator` module is a builtin suits shipped with standard python installation. Its main purpose is to construct functional equivalents to arithmetic operation."
   ]
  },
  {
   "cell_type": "code",
   "execution_count": null,
   "metadata": {},
   "outputs": [
    {
     "data": {
      "text/plain": [
       "24"
      ]
     },
     "execution_count": 77,
     "metadata": {},
     "output_type": "execute_result"
    }
   ],
   "source": [
    "from functools import reduce\n",
    "from operator import mul\n",
    "\n",
    "# we have seen how we can use lambda expression together with reduce to create recursive functions on sequences\n",
    "reduce(lambda x, y: x*y, [1,2,3,4]) # return the product of the elements of the list\n",
    "# the same can be achieved with the operator.mul\n",
    "multiplication = reduce(mul, [1,2,3,4])\n",
    "\n",
    "multiplication"
   ]
  },
  {
   "cell_type": "markdown",
   "metadata": {},
   "source": [
    "There is a variety of different methods in the operator module, for arithmetic/boolean operations (`mul()`, `add()`, `le()`, `is_()` ..), for sequences handling (`getitem()`, `setitem()`, `delitem()` ...) and for handling functions (`itemgetter()`, `attrgetter()`, `methodgetter()`...). These last ones don't return values but instances of the method called; they become an operator thyself (a function essentially) to be call on another objects."
   ]
  },
  {
   "cell_type": "code",
   "execution_count": null,
   "metadata": {},
   "outputs": [
    {
     "data": {
      "text/plain": [
       "(8, 10)"
      ]
     },
     "execution_count": 79,
     "metadata": {},
     "output_type": "execute_result"
    }
   ],
   "source": [
    "from operator import itemgetter\n",
    "l = [5, 8, 6, 10, 9]\n",
    "f = itemgetter(1, 3) # create a function that return the item at index 1 and 3\n",
    "\n",
    "f(l) # -> (8, 10)"
   ]
  },
  {
   "cell_type": "markdown",
   "metadata": {},
   "source": [
    "# Scopes and Namespaces\n",
    "---"
   ]
  },
  {
   "cell_type": "markdown",
   "metadata": {},
   "source": [
    "The `Scope` is the portion of the code in which a variable name is defined; it has an associated `namespace`, essentially a table that lists all the variables in the Scope and the associated memory addresses. There are different `Scope` in python and are defined in a nested structure. At the top, we have the `built-in` scope, the only truly global scopes that exists across each modules of Python, which contains the definitions of core elements such as `True`, `None`, `dict` etc. Nested inside the built-in scope there is the so called `Global` scope (even if it is not global in the sense that exist only inside a single file). Moreover, each function has its own scope, named `Local`, that is created each time the function is called (until the function is not called, the variables defined in its own scope are not compiled, therefore does not exist in the Global scope, where the function is defined)."
   ]
  },
  {
   "cell_type": "code",
   "execution_count": null,
   "metadata": {},
   "outputs": [
    {
     "name": "stdout",
     "output_type": "stream",
     "text": [
      "True\n"
     ]
    }
   ],
   "source": [
    "# module1.py\n",
    "print(True)\n",
    "# both print and True are not defined in the module1 scope, therefore python automatically goes up one level and look up for their definition in the builtin-scope"
   ]
  },
  {
   "cell_type": "code",
   "execution_count": null,
   "metadata": {},
   "outputs": [
    {
     "ename": "NameError",
     "evalue": "name 'new_var_never_used' is not defined",
     "output_type": "error",
     "traceback": [
      "\u001b[0;31m---------------------------------------------------------------------------\u001b[0m",
      "\u001b[0;31mNameError\u001b[0m                                 Traceback (most recent call last)",
      "Input \u001b[0;32mIn [118]\u001b[0m, in \u001b[0;36m<module>\u001b[0;34m\u001b[0m\n\u001b[0;32m----> 1\u001b[0m \u001b[38;5;28mprint\u001b[39m(\u001b[43mnew_var_never_used\u001b[49m)\n",
      "\u001b[0;31mNameError\u001b[0m: name 'new_var_never_used' is not defined"
     ]
    }
   ],
   "source": [
    "print(new_var_never_used)\n",
    "# Error! 'a' has not been defined in the module scope and neither is in the built-in scope, therefore Python trows an error `NameError`"
   ]
  },
  {
   "cell_type": "markdown",
   "metadata": {},
   "source": [
    "We can summarize that at `compile time` python looks at the code and predetermine which variables will eventually be in the local or global scope. When it encounter a `def` (function), it will look inside of it; if there are assignations (e.g. a = 100), it will understand that that variable will be part of the global scope only, unless the `global a` keyword is specified; if a variable is called but not assigned inside the function (e.g. print(a)), the compiler will determine that it is a non-local reference."
   ]
  },
  {
   "cell_type": "code",
   "execution_count": null,
   "metadata": {},
   "outputs": [
    {
     "name": "stdout",
     "output_type": "stream",
     "text": [
      "0\n",
      "0\n"
     ]
    }
   ],
   "source": [
    "a = 0 # global scope/namespace\n",
    "\n",
    "def func1():\n",
    "  print(a) # the compiler understand it is a non-local variable since there is no assignment inside the local scope\n",
    "\n",
    "func1()\n",
    "print(a)"
   ]
  },
  {
   "cell_type": "code",
   "execution_count": null,
   "metadata": {},
   "outputs": [
    {
     "name": "stdout",
     "output_type": "stream",
     "text": [
      "100\n",
      "0\n"
     ]
    }
   ],
   "source": [
    "def func2():\n",
    "  a = 100 # the compiler knows that this will be a local variable\n",
    "  print(a)\n",
    "\n",
    "func2()\n",
    "print(a)"
   ]
  },
  {
   "cell_type": "code",
   "execution_count": null,
   "metadata": {},
   "outputs": [
    {
     "name": "stdout",
     "output_type": "stream",
     "text": [
      "100\n",
      "100\n"
     ]
    }
   ],
   "source": [
    "def func3():\n",
    "  global a # the compiler knows that this will refer to a global variable\n",
    "  a = 100 \n",
    "  print(a)\n",
    "\n",
    "func3()\n",
    "print(a)"
   ]
  },
  {
   "cell_type": "markdown",
   "metadata": {},
   "source": [
    "## Masking\n",
    "It is defined masking, and should be avoided, when we overwrite a keyword from the built-in scope. Since Python first look at the module scope, if we have assigned a variable to an existing element in the built-in namespace, we will modify its standard behavior."
   ]
  },
  {
   "cell_type": "code",
   "execution_count": null,
   "metadata": {},
   "outputs": [
    {
     "data": {
      "text/plain": [
       "'Hello world'"
      ]
     },
     "execution_count": 122,
     "metadata": {},
     "output_type": "execute_result"
    }
   ],
   "source": [
    "# module1.py\n",
    "print = lambda x: f'Hello {x}'\n",
    "# we are redefining locally the 'meaning' of the variable print so now:\n",
    "print('world') # -> 'Hello world'\n",
    "# python is invoking the local definition of print e not the built-in one"
   ]
  },
  {
   "cell_type": "markdown",
   "metadata": {},
   "source": [
    "The same behavior is applied between Global and Local scopes. When assigning a variable inside a functional scope, python sees it at compilation time and stores it (it will be created only when the function is called but the compiler is already aware that it exists).\n",
    "Therefore, if the same variable exist in the Global scope, when the function is called, it will be masked by the assignation in the local scope."
   ]
  },
  {
   "cell_type": "code",
   "execution_count": null,
   "metadata": {},
   "outputs": [
    {
     "name": "stdout",
     "output_type": "stream",
     "text": [
      "100\n",
      "0\n"
     ]
    }
   ],
   "source": [
    "# del print # remove the previously overwrite of standard print function\n",
    "\n",
    "a = 0 # global scope/namespace\n",
    "\n",
    "def my_func():\n",
    "  a = 100 # local scope/namespace\n",
    "  print(a)\n",
    "\n",
    "my_func() # a = 100, the global scope 'a' has been masked \n",
    "\n",
    "print(a) # a = 0, the global scope hasn't been modified, and the local scope of `my_func` has been destroyed after its execution."
   ]
  },
  {
   "cell_type": "markdown",
   "metadata": {},
   "source": [
    "There is also the possibility to avoid masking by explicitly tell python that the variable assigned in the local spaces are actually owned in the global space. This is done by declaring the `global` keyword at the beginning of a local scope. This is telling the compiler to look first in the global scope for that particular variable and, if not found, to create a new one."
   ]
  },
  {
   "cell_type": "code",
   "execution_count": null,
   "metadata": {},
   "outputs": [
    {
     "name": "stdout",
     "output_type": "stream",
     "text": [
      "100\n",
      "100\n"
     ]
    }
   ],
   "source": [
    "a = 0\n",
    "\n",
    "def my_func():\n",
    "  global a\n",
    "  a = 100 # local scope/namespace\n",
    "  print(a)\n",
    "\n",
    "my_func() # a = 100, since `global a` has been declared, the variable `a` in the global scope has been modified\n",
    "\n",
    "print(a) # a = 100"
   ]
  },
  {
   "cell_type": "markdown",
   "metadata": {},
   "source": [
    "## Nonlocal scope\n",
    "When we define a function inside another function, a new scope is created which is not the global (module level) scope, nor the local (function level) scope. It is a middle scope called `non-local scope`. Variables belonging to the nonlocal scope are called `free variables`."
   ]
  },
  {
   "cell_type": "code",
   "execution_count": null,
   "metadata": {},
   "outputs": [
    {
     "name": "stdout",
     "output_type": "stream",
     "text": [
      "10\n"
     ]
    }
   ],
   "source": [
    "def outer_func():\n",
    "  x = 10 # local scope of outer_func == non-local scope of inner_func\n",
    "  \n",
    "  def inner_func():\n",
    "    x = 20 # local scope of inner_func\n",
    "  \n",
    "  inner_func()\n",
    "\n",
    "  print(x)\n",
    "\n",
    "# if we call outer_func:\n",
    "outer_func() # x = 10 since the local scope of inner func has not modified the non-local scope (local scope of outer_func)"
   ]
  },
  {
   "cell_type": "markdown",
   "metadata": {},
   "source": [
    "In the same way as we tell python that a variable in a local scope is `global`, we can specify a variable to be `non-local` (i.e. with the same reference of the one in the outer_func scope). "
   ]
  },
  {
   "cell_type": "code",
   "execution_count": null,
   "metadata": {},
   "outputs": [
    {
     "name": "stdout",
     "output_type": "stream",
     "text": [
      "20\n"
     ]
    }
   ],
   "source": [
    "def outer_func():\n",
    "  x = 10 # local scope of outer_func == non-local scope of inner_func\n",
    "  \n",
    "  def inner_func():\n",
    "    nonlocal x # now the reference of x is shared with the non-local (outer_func) scope\n",
    "    x = 20 # local scope of inner_func\n",
    "  \n",
    "  inner_func()\n",
    "\n",
    "  print(x)\n",
    "\n",
    "# if we call outer_func:\n",
    "outer_func() # x = 20 since the local scope of inner func has modified the non-local scope (local scope of outer_func)"
   ]
  },
  {
   "cell_type": "markdown",
   "metadata": {},
   "source": [
    "N.B. if in a local scope we define a `global` variable, python will look in global scope for a match, otherwise it will create the global variable. Instead, when defining a `nonlocal` variable, python will look only in the non-local scope (the local scope of the parent function)."
   ]
  },
  {
   "cell_type": "code",
   "execution_count": null,
   "metadata": {},
   "outputs": [
    {
     "name": "stdout",
     "output_type": "stream",
     "text": [
      "10\n"
     ]
    }
   ],
   "source": [
    "\n",
    "def outer():\n",
    "  x = 0 # local scope of outer\n",
    "  \n",
    "  def inner1():\n",
    "    # local scope of inner1 == nonlocal scope of inner2\n",
    "    def inner2():\n",
    "      nonlocal x\n",
    "      x = 10 \n",
    "    inner2()\n",
    "\n",
    "  inner1()\n",
    "  print(x) # x = 0 because inner2 looked only in its nonlocal scope\n",
    "\n",
    "outer()"
   ]
  },
  {
   "cell_type": "markdown",
   "metadata": {},
   "source": [
    "# Closure\n",
    "---"
   ]
  },
  {
   "cell_type": "markdown",
   "metadata": {},
   "source": [
    "A `Closure` is a special python constructor that is composed by a function and an extended scope (nonlocal scope) that contains free variables (nonlocal variables). This means that both the functions and the extended scope point to the same object, but python don't do this directly. Instead a `cell object` is created, pointing to the value of the free variable, while the free variable, in both the extended scope and the function scope, point to the cell object."
   ]
  },
  {
   "cell_type": "code",
   "execution_count": null,
   "metadata": {},
   "outputs": [
    {
     "name": "stdout",
     "output_type": "stream",
     "text": [
      "python\n"
     ]
    }
   ],
   "source": [
    "def outer():\n",
    "  a = 10\n",
    "\n",
    "  x = 'python'  #----------\n",
    "                # THIS IS A\n",
    "  def inner():  # CLOSURE\n",
    "    print(x)    #----------\n",
    "  \n",
    "  return inner\n",
    "\n",
    "fn = outer() \n",
    "'''\n",
    "now outer has returned the function inner which should print x without directly containing a reference to the variable.\n",
    "Therefore, since the scope of the function outer is exhausted after it is called, we should expect that the variable x=python is lost and can't be referenced by fn.\n",
    "Instead, it is possible since python, during compilation, sees a Closure and create an intermediate cell object that share the reference to x both from inner and outer functions.\n",
    "'''\n",
    "\n",
    "# x = 'python' #--|\n",
    "                 #|--> cell object --> str object `python`\n",
    "# print(x)     #--|              \n",
    "\n",
    "fn()"
   ]
  },
  {
   "cell_type": "markdown",
   "metadata": {},
   "source": [
    "Both `x` in outer and inner functions point to a `cell object` which contains a reference to another object in memory containing the string `python`. This lets us be able to call the function inner, returned from the function outer, even if the scope of outer is already exhausted. We can inspect the closure and free variables of an object:"
   ]
  },
  {
   "cell_type": "code",
   "execution_count": null,
   "metadata": {},
   "outputs": [
    {
     "data": {
      "text/plain": [
       "(('x',), (<cell at 0x7f2a00443580: str object at 0x7f2a05b66ab0>,))"
      ]
     },
     "execution_count": 140,
     "metadata": {},
     "output_type": "execute_result"
    }
   ],
   "source": [
    "fn = outer()\n",
    "\n",
    "# fn.__code__.co_freevars # (x) while a is not a \n",
    "# fn.__closure__ # cell object at address xxx containing a str object ('python') at address yyy\n",
    "# the memory address of both the `x` (local and free) is the same and pointing to yyy\n",
    "\n",
    "fn.__code__.co_freevars, fn.__closure__"
   ]
  },
  {
   "cell_type": "markdown",
   "metadata": {},
   "source": [
    "We can have multiple instance of the same closure, this means che each time a cell object is created, leaving the behavior of the different instance of the closure independent."
   ]
  },
  {
   "cell_type": "code",
   "execution_count": null,
   "metadata": {},
   "outputs": [
    {
     "data": {
      "text/plain": [
       "(3, 1)"
      ]
     },
     "execution_count": 146,
     "metadata": {},
     "output_type": "execute_result"
    }
   ],
   "source": [
    "def counter():\n",
    "  # beginning of Closure\n",
    "  count = 0\n",
    "\n",
    "  def inc():\n",
    "    nonlocal count\n",
    "    count += 1\n",
    "    return count\n",
    "  # end of Closure\n",
    "\n",
    "  return inc\n",
    "\n",
    "f1 = counter()\n",
    "f2 = counter()\n",
    "# f1 and f2 behavior is independent\n",
    "\n",
    "f1()\n",
    "f1()\n",
    "f1(), f2()"
   ]
  },
  {
   "cell_type": "markdown",
   "metadata": {},
   "source": [
    "## Shared extend scope\n",
    "At the same time we can have `shared extended scope` of two different closures."
   ]
  },
  {
   "cell_type": "code",
   "execution_count": null,
   "metadata": {},
   "outputs": [
    {
     "data": {
      "text/plain": [
       "2"
      ]
     },
     "execution_count": 151,
     "metadata": {},
     "output_type": "execute_result"
    }
   ],
   "source": [
    "def outer():\n",
    "  count = 0\n",
    "\n",
    "  def inc1():\n",
    "    nonlocal count\n",
    "    count += 1\n",
    "    return count\n",
    "\n",
    "  def inc2():\n",
    "    nonlocal count\n",
    "    count += 1\n",
    "    return count\n",
    "\n",
    "  return inc1, inc2\n",
    "\n",
    "f1, f2 = outer() \n",
    "\n",
    "f1()\n",
    "f2()"
   ]
  },
  {
   "cell_type": "markdown",
   "metadata": {},
   "source": [
    "`f1` and `f2` are two closure that share the free variable `count` therefore both the functions, when called, will increment the value of count. If this behavior is wanted, then no problem, but often happens to share the same free variable without knowing it."
   ]
  },
  {
   "cell_type": "code",
   "execution_count": null,
   "metadata": {},
   "outputs": [
    {
     "data": {
      "text/plain": [
       "[<function __main__.<lambda>(x)>,\n",
       " <function __main__.<lambda>(x)>,\n",
       " <function __main__.<lambda>(x)>]"
      ]
     },
     "execution_count": 161,
     "metadata": {},
     "output_type": "execute_result"
    }
   ],
   "source": [
    "# create a list of functions that add a two values\n",
    "adders = []\n",
    "for n in range(1, 4):\n",
    "  adders.append(lambda x: x + n)\n",
    "\n",
    "# what we expect to have is a list of functions\n",
    "adders\n"
   ]
  },
  {
   "cell_type": "code",
   "execution_count": null,
   "metadata": {},
   "outputs": [
    {
     "data": {
      "text/plain": [
       "13"
      ]
     },
     "execution_count": 162,
     "metadata": {},
     "output_type": "execute_result"
    }
   ],
   "source": [
    "# therefore calling \n",
    "adders[1](10) # should return 12 = 10 + 2 \n",
    "# instead all the three functions will add 3, i.e. the last value at which n was pointing to"
   ]
  },
  {
   "cell_type": "markdown",
   "metadata": {},
   "source": [
    "`n` is a global variable, and it doesn't get evaluated until the function is called, and at that time, after the for loop is executed is equal to 3. As a matter of fact we don't have a closure since `n` is a global variable. The correct way to achieve this would be:"
   ]
  },
  {
   "cell_type": "code",
   "execution_count": null,
   "metadata": {},
   "outputs": [
    {
     "data": {
      "text/plain": [
       "12"
      ]
     },
     "execution_count": 165,
     "metadata": {},
     "output_type": "execute_result"
    }
   ],
   "source": [
    "def create_adders():\n",
    "  adders = []\n",
    "  for n in range(1, 4):\n",
    "    adders.append(lambda x, y=n: x + y) # in this way we are saving the value of n at each iteration \n",
    "  return adders\n",
    "\n",
    "adders = create_adders()\n",
    "\n",
    "adders[1](10)\n",
    "\n",
    "# since we have specified a default value for `y`, this will be evaluated at creation time, not at runtime (i.e. when the function is called).\n",
    "# `y` won't point to the object `n` itself but to its value at each iteration.\n",
    "# Therefore, `y=n` belong to the local scope of the `create_adders` function, therefore, the functions appended to adders are actually closures"
   ]
  },
  {
   "cell_type": "markdown",
   "metadata": {},
   "source": [
    "## Nested Closure\n",
    "It is common, e.g. in decorators, to have nested closures:"
   ]
  },
  {
   "cell_type": "code",
   "execution_count": null,
   "metadata": {},
   "outputs": [
    {
     "data": {
      "text/plain": [
       "104"
      ]
     },
     "execution_count": 168,
     "metadata": {},
     "output_type": "execute_result"
    }
   ],
   "source": [
    "# define a function that takes an increment and a starting values and return a function that add the increment each time is called. The\n",
    "def increment(n):\n",
    "\n",
    "  def inner(start):\n",
    "    current = start\n",
    "    \n",
    "    def inc():\n",
    "      nonlocal current\n",
    "      current += n\n",
    "      return current\n",
    "\n",
    "    return inc\n",
    "  return inner\n",
    "\n",
    "# Now inc has two free variables (current, n) one that lives in the `inner` scope and one in the `increment` scope.\n",
    "# if we call:\n",
    "fn = increment(2) # we will return the inner function with the variable n = 2\n",
    "fn.__code__.co_freevars # `n` is the free variable of the closure containing the `inner` function\n",
    "# if we than call:\n",
    "inc_2 = fn(100) # we will return the `inc` function with the variable n = 2 and current = 100\n",
    "inc_2.__code__.co_freevars # `n` and `current` are the free variables of the closure containing the `inc` function\n",
    "# now if we call:\n",
    "inc_2() # -> 102\n",
    "inc_2() # -> 104"
   ]
  },
  {
   "cell_type": "markdown",
   "metadata": {},
   "source": [
    "\n",
    "## Application\n",
    "\n",
    "*hold*\n"
   ]
  },
  {
   "cell_type": "markdown",
   "metadata": {},
   "source": [
    "# Decorators\n",
    "---"
   ]
  },
  {
   "cell_type": "markdown",
   "metadata": {},
   "source": [
    "A decorator is a function that takes a function as argument and returns a closure (that in general accept any number of arguments *args and **kwargs) that contain that same function passed with the addition of extra functionality. Let's see an example:"
   ]
  },
  {
   "cell_type": "code",
   "execution_count": null,
   "metadata": {},
   "outputs": [
    {
     "name": "stdout",
     "output_type": "stream",
     "text": [
      "Function add was called 1 times\n",
      "Function add was called 2 times\n",
      "Function add was called 3 times\n"
     ]
    },
    {
     "data": {
      "text/plain": [
       "7"
      ]
     },
     "execution_count": 172,
     "metadata": {},
     "output_type": "execute_result"
    }
   ],
   "source": [
    "def counter(fn): # counter takes a function as argument\n",
    "  count = 0\n",
    "  def inner(*args, **kwargs): \n",
    "    nonlocal count\n",
    "    count +=1\n",
    "    print(f'Function {fn.__name__} was called {count} times')\n",
    "    return fn(*args, **kwargs)\n",
    "  return inner\n",
    "\n",
    "def add(a, b):\n",
    "  return a + b\n",
    "\n",
    "add = counter(add) # closure function is returned by counter()\n",
    "# now add is no more referencing to the 'def add' function but to it's decorated version, returned by counter()  \n",
    "\n",
    "result = add(1, 2) # -> 3\n",
    "result = add(1, 3) # -> 4\n",
    "result = add(5, 2) # -> 7\n",
    "\n",
    "result\n"
   ]
  },
  {
   "cell_type": "markdown",
   "metadata": {},
   "source": [
    "In the example above, `counter()` is essentially a `decorator`; it takes an arbitrary function with any arbitrary arguments, and return the same function with the new \"ability\" of taking track of how many times it has been called. We reassigned the name add to the decorated function, to pointing out that the function is still the same but now points to the closure returned by `counter()`. Returning a closure is something pretty common in python, therefore and handy way has been defined to decorate a function using the `@` symbol."
   ]
  },
  {
   "cell_type": "code",
   "execution_count": null,
   "metadata": {},
   "outputs": [
    {
     "name": "stdout",
     "output_type": "stream",
     "text": [
      "Function add was called 1 times\n",
      "Function add was called 2 times\n"
     ]
    },
    {
     "data": {
      "text/plain": [
       "5"
      ]
     },
     "execution_count": 181,
     "metadata": {},
     "output_type": "execute_result"
    }
   ],
   "source": [
    "# once the function counter has been defined from previous example\n",
    "\n",
    "@counter\n",
    "def add(a, b):\n",
    "  '''Documentation'''\n",
    "  return a + b\n",
    "\n",
    "add(1,2)\n",
    "add(3,2)"
   ]
  },
  {
   "cell_type": "markdown",
   "metadata": {},
   "source": [
    "All good so far, but now if we look for the metadata of the function `add` we'll see that these now refers to the closure function `inner` and not to the original definition (`__name__`, `__doc__` etc. point to the closure function). The pythonic solution to this problem is to use the module `functools.wraps`:"
   ]
  },
  {
   "cell_type": "code",
   "execution_count": null,
   "metadata": {},
   "outputs": [
    {
     "data": {
      "text/plain": [
       "('inner', None)"
      ]
     },
     "execution_count": 182,
     "metadata": {},
     "output_type": "execute_result"
    }
   ],
   "source": [
    "add.__name__, add.__doc__"
   ]
  },
  {
   "cell_type": "code",
   "execution_count": null,
   "metadata": {},
   "outputs": [
    {
     "data": {
      "text/plain": [
       "('add', 'Documentation')"
      ]
     },
     "execution_count": 184,
     "metadata": {},
     "output_type": "execute_result"
    }
   ],
   "source": [
    "from functools import wraps\n",
    "\n",
    "def counter(fn):\n",
    "  count = 0\n",
    "  @wraps(fn) # we are decorating the inner function\n",
    "  def inner(*args, **kwargs): \n",
    "    nonlocal count\n",
    "    count +=1\n",
    "    print(f'Function {fn.__name} was called {count} times')\n",
    "    return fn(*args, **kwargs)\n",
    "  return inner\n",
    "\n",
    "@counter\n",
    "def add(a, b):\n",
    "  '''Documentation'''\n",
    "  return a + b\n",
    "\n",
    "add.__name__, add.__doc__"
   ]
  },
  {
   "cell_type": "markdown",
   "metadata": {},
   "source": [
    "## Multiple decorators\n",
    "Multiple decorators can be passed to a function; care must be taken to ensure that the order of execution of the two or more decorators respect what wanted by the coder. For example:"
   ]
  },
  {
   "cell_type": "code",
   "execution_count": null,
   "metadata": {},
   "outputs": [
    {
     "name": "stdout",
     "output_type": "stream",
     "text": [
      "dec_1 called\n",
      "dec_2 called\n",
      "my_func called\n"
     ]
    }
   ],
   "source": [
    "def dec_1(fn):\n",
    "  def inner(*args, **kwargs):\n",
    "    print('dec_1 called')\n",
    "    result = fn() # calling the decorated function\n",
    "    return result\n",
    "  return inner # return the closure\n",
    "\n",
    "def dec_2(fn):\n",
    "  def inner(*args, **kwargs):\n",
    "    print('dec_2 called')\n",
    "    result = fn() # calling the decorated function\n",
    "    return result\n",
    "  return inner # return the closure\n",
    "\n",
    "\n",
    "@dec_1\n",
    "@dec_2\n",
    "def my_func():\n",
    "  print('my_func called')\n",
    "\n",
    "'''\n",
    "Calling my_func, decorated in this order, is equal to do:\n",
    "\n",
    "my_func = dec_1(dec_2(my_func))\n",
    "\n",
    "Therefore, first the closure dec_2(my_func) is evaluated and passed to dec_1(). \n",
    "Since inside the decorators the print() is executed before the function call (result = fn()), the printing output will be:\n",
    "\n",
    "dec_1 called\n",
    "dec_2 called\n",
    "my_func called\n",
    "\n",
    "because first the dec_1 function is called, it prints its output, then call fn passed as argument, which is dec_2(my_func);\n",
    "therefore dec_2 is called, it prints its output, then call the fn passed as argument, i.e. my_func, that prints its output.\n",
    "N.B. if the print() had been placed after the fn() call, the print-out order would had been reversed!\n",
    "This is to say that depending on the functionality we want to implement with our decorators, the order of application matters!\n",
    "'''\n",
    "\n",
    "my_func()"
   ]
  },
  {
   "cell_type": "markdown",
   "metadata": {},
   "source": [
    "## Memoization\n",
    "Another very powerful application of decorators is called `memoization`, i.e. the process of storing data into cache to avoid excessive recursive calculation (like in the fibonacci or factorial function). Let's take as an example a function to compute the fibonacci value at the n position:"
   ]
  },
  {
   "cell_type": "code",
   "execution_count": 35,
   "metadata": {},
   "outputs": [
    {
     "name": "stdout",
     "output_type": "stream",
     "text": [
      "computing fib(4)\n",
      "computing fib(3)\n",
      "computing fib(2)\n",
      "computing fib(1)\n",
      "computing fib(2)\n"
     ]
    },
    {
     "data": {
      "text/plain": [
       "3"
      ]
     },
     "execution_count": 35,
     "metadata": {},
     "output_type": "execute_result"
    }
   ],
   "source": [
    "# with recursion\n",
    "def fib(n):\n",
    "  print(f'computing fib({n})')\n",
    "  return 1 if n < 3 else fib(n-1) + fib(n-2)\n",
    "\n",
    "fib(4)"
   ]
  },
  {
   "cell_type": "markdown",
   "metadata": {},
   "source": [
    "In this way, the function works and it is elegant, but it is not performant since it has to compute each time all the previous numbers in the fibonacci series. A way to solve this problem is to cache the results each time they are computed, and this can be easily implemented creating a class:"
   ]
  },
  {
   "cell_type": "code",
   "execution_count": 36,
   "metadata": {},
   "outputs": [
    {
     "name": "stdout",
     "output_type": "stream",
     "text": [
      "computing fib(4)\n",
      "computing fib(3)\n"
     ]
    },
    {
     "data": {
      "text/plain": [
       "3"
      ]
     },
     "execution_count": 36,
     "metadata": {},
     "output_type": "execute_result"
    }
   ],
   "source": [
    "class Fib:\n",
    "  def __init__(self):\n",
    "    self.cache = {1: 1, 2: 1}\n",
    "\n",
    "  def fib(self, n):\n",
    "    if n not in self.cache:\n",
    "      print(f'computing fib({n})')\n",
    "      self.cache[n] = self.fib(n-1) + self.fib(n-2)\n",
    "    return self.cache[n]\n",
    "\n",
    "f = Fib()\n",
    "f.fib(4)"
   ]
  },
  {
   "cell_type": "markdown",
   "metadata": {},
   "source": [
    "In this way, after creating an instance of Fib(), fibonacci sequence will be stored while computed (n.b. cache won't be shared between instances, each new instance will have its cache empty at the beginning). The same can be accomplished with a closure (i.e. with a decorator):"
   ]
  },
  {
   "cell_type": "code",
   "execution_count": 42,
   "metadata": {},
   "outputs": [
    {
     "name": "stdout",
     "output_type": "stream",
     "text": [
      "computing fib(4)\n",
      "computing fib(3)\n"
     ]
    },
    {
     "data": {
      "text/plain": [
       "3"
      ]
     },
     "execution_count": 42,
     "metadata": {},
     "output_type": "execute_result"
    }
   ],
   "source": [
    "def fib():\n",
    "  cache = {1: 1, 2: 1}\n",
    "\n",
    "  def calc_fib(n):\n",
    "    if n not in cache:\n",
    "      # cache is a nonlocal parameter\n",
    "      print(f'computing fib({n})')\n",
    "      cache[n] = calc_fib(n-1) + calc_fib(n-2)\n",
    "    return cache[n] \n",
    "\n",
    "  return calc_fib # return the closure\n",
    "\n",
    "f = fib()\n",
    "f(4)"
   ]
  },
  {
   "cell_type": "markdown",
   "metadata": {},
   "source": [
    "From the function `fib()` to a decorator the path is short; we just need to generalize its structure:"
   ]
  },
  {
   "cell_type": "code",
   "execution_count": 45,
   "metadata": {},
   "outputs": [
    {
     "name": "stdout",
     "output_type": "stream",
     "text": [
      "computing fib(4)\n",
      "computing fib(3)\n",
      "computing fib(2)\n",
      "computing fib(1)\n"
     ]
    },
    {
     "data": {
      "text/plain": [
       "3"
      ]
     },
     "execution_count": 45,
     "metadata": {},
     "output_type": "execute_result"
    }
   ],
   "source": [
    "def memoize_fib(fib):\n",
    "  cache = dict()\n",
    "\n",
    "  def inner(n):\n",
    "    if n not in cache:\n",
    "      # the decorator is not carrying out the recursion\n",
    "      # it is only caching values\n",
    "      cache[n] = fib(n)\n",
    "    return cache[n] \n",
    "\n",
    "  return inner # return the closure\n",
    "\n",
    "@memoize_fib\n",
    "def fib(n):\n",
    "  print(f'computing fib({n})')\n",
    "  return 1 if n < 3 else fib(n-1) + fib(n-2)\n",
    "\n",
    "fib(4)"
   ]
  },
  {
   "cell_type": "markdown",
   "metadata": {},
   "source": [
    "It is worth to note that `memoize_fib` is not a general purpose decorator since it does not accept any number of arguments or keyword arguments (*args, **kwargs) as it usually does, but it is precisely built to work with the function `fib`. Another important aspect to handle is to limit the cache size to safeguard the tradeoff between performance and memory usage. Of course python as already a builtin decorator specifically design for memoization. It comes shipped with the `functools` module."
   ]
  },
  {
   "cell_type": "code",
   "execution_count": 46,
   "metadata": {},
   "outputs": [
    {
     "name": "stdout",
     "output_type": "stream",
     "text": [
      "computing fib(4)\n",
      "computing fib(3)\n",
      "computing fib(2)\n",
      "computing fib(1)\n"
     ]
    },
    {
     "data": {
      "text/plain": [
       "3"
      ]
     },
     "execution_count": 46,
     "metadata": {},
     "output_type": "execute_result"
    }
   ],
   "source": [
    "from functools import lru_cache # least recently used cache\n",
    "\n",
    "@lru_cache() # lru_cache decorators accept arguments.. see below\n",
    "def fib(n):\n",
    "  print(f'computing fib({n})')\n",
    "  return 1 if n < 3 else fib(n-1) + fib(n-2)\n",
    "\n",
    "fib(4)"
   ]
  },
  {
   "cell_type": "markdown",
   "metadata": {},
   "source": [
    "## Parametrized decorators\n",
    "Parametrized decorators are the ones that can handle arguments (such as `wrap` and `lru_cache`). Imagine we have a decorator that run a function a number of time `n` set by the user:"
   ]
  },
  {
   "cell_type": "code",
   "execution_count": 51,
   "metadata": {},
   "outputs": [
    {
     "name": "stdout",
     "output_type": "stream",
     "text": [
      "called\n",
      "called\n",
      "called\n",
      "my_func was called 3 times\n"
     ]
    }
   ],
   "source": [
    "def run_n_times(fn):\n",
    "  n =3\n",
    "\n",
    "  def inner(*args, **kwargs):\n",
    "    for _ in range(n):\n",
    "      fn(*args, **kwargs)\n",
    "    return print(f'{fn.__name__} was called {n} times')\n",
    "\n",
    "  return inner\n",
    "\n",
    "@run_n_times\n",
    "def my_func():\n",
    "  print('called')\n",
    "  pass\n",
    "\n",
    "my_func()"
   ]
  },
  {
   "cell_type": "markdown",
   "metadata": {},
   "source": [
    "Now, the number of times the function is called has been hardcoded in the decorator, but we want to be able to change that parameter. We can think at something like:"
   ]
  },
  {
   "cell_type": "code",
   "execution_count": 65,
   "metadata": {},
   "outputs": [
    {
     "ename": "TypeError",
     "evalue": "run_n_times() missing 1 required positional argument: 'n'",
     "output_type": "error",
     "traceback": [
      "\u001b[0;31m---------------------------------------------------------------------------\u001b[0m",
      "\u001b[0;31mTypeError\u001b[0m                                 Traceback (most recent call last)",
      "Input \u001b[0;32mIn [65]\u001b[0m, in \u001b[0;36m<module>\u001b[0;34m\u001b[0m\n\u001b[1;32m      7\u001b[0m   \u001b[38;5;28;01mreturn\u001b[39;00m inner\n\u001b[1;32m      9\u001b[0m \u001b[38;5;66;03m# now we would expect to call the decorator as:\u001b[39;00m\n\u001b[0;32m---> 10\u001b[0m \u001b[38;5;129m@run_n_times\u001b[39m\u001b[43m(\u001b[49m\u001b[38;5;241;43m10\u001b[39;49m\u001b[43m)\u001b[49m\n\u001b[1;32m     11\u001b[0m \u001b[38;5;28;01mdef\u001b[39;00m \u001b[38;5;21mmy_func\u001b[39m():\n\u001b[1;32m     12\u001b[0m   \u001b[38;5;28mprint\u001b[39m(\u001b[38;5;124m'\u001b[39m\u001b[38;5;124mcalled\u001b[39m\u001b[38;5;124m'\u001b[39m)\n\u001b[1;32m     13\u001b[0m   \u001b[38;5;28;01mpass\u001b[39;00m\n",
      "\u001b[0;31mTypeError\u001b[0m: run_n_times() missing 1 required positional argument: 'n'"
     ]
    }
   ],
   "source": [
    "def run_n_times(fn, n: int):\n",
    "  def inner(*args, **kwargs):\n",
    "    for _ in range(n):\n",
    "      fn(*args, **kwargs)\n",
    "    return print(f'{fn.__name__} was called {n} times')\n",
    "\n",
    "  return inner\n",
    "\n",
    "# now we would expect to call the decorator as:\n",
    "@run_n_times(10)\n",
    "def my_func():\n",
    "  print('called')\n",
    "  pass\n",
    "\n",
    "# but we get an error since run_n_times requires two arguments"
   ]
  },
  {
   "cell_type": "code",
   "execution_count": 66,
   "metadata": {},
   "outputs": [
    {
     "name": "stdout",
     "output_type": "stream",
     "text": [
      "called\n",
      "called\n",
      "called\n",
      "my_func was called 3 times\n"
     ]
    }
   ],
   "source": [
    "def my_func():\n",
    "    print('called')\n",
    "    pass    \n",
    "\n",
    "# however, the argument `10` in the decorator call is in the position of `fn`, therefore it won't work.\n",
    "# we could instead apply the decorator indirectly as:\n",
    "my_func = run_n_times(my_func, 3)\n",
    "# and this will work but how to implement the same behavior with the @ method?\n",
    "\n",
    "my_func()"
   ]
  },
  {
   "cell_type": "markdown",
   "metadata": {},
   "source": [
    "In order to be able to use the `@` symbol with a decorator that accept arguments, we need that decorator to return a decorator itself when called. The result of `run_n_times(10)` has to be another decorator that actually perform the decoration we want. The solution is straightforward: we need to enclose our decorator in a `decorator factory` that will olds the extra parameters needed."
   ]
  },
  {
   "cell_type": "code",
   "execution_count": 72,
   "metadata": {},
   "outputs": [],
   "source": [
    "def run_n_times(n: int): # decorator factory\n",
    "\n",
    "  def inner1(fn): # decorator\n",
    "\n",
    "    def inner2(*args, **kwargs):\n",
    "      for _ in range(n):\n",
    "        fn(*args, **kwargs)\n",
    "      return print(f'{fn.__name__} was called {n} times')\n",
    "\n",
    "    return inner2\n",
    "  \n",
    "  return inner1"
   ]
  },
  {
   "cell_type": "markdown",
   "metadata": {},
   "source": [
    "Now the call `@run_n_times(10)` actually returns the decorator `inner1` which implement the functionality we originally looked for:"
   ]
  },
  {
   "cell_type": "code",
   "execution_count": 73,
   "metadata": {},
   "outputs": [
    {
     "name": "stdout",
     "output_type": "stream",
     "text": [
      "called\n",
      "called\n",
      "called\n",
      "my_func was called 3 times\n"
     ]
    }
   ],
   "source": [
    "@run_n_times(3) # returns the decorator `inner1`\n",
    "def my_func():\n",
    "  print('called')\n",
    "  pass\n",
    "\n",
    "my_func()"
   ]
  },
  {
   "cell_type": "code",
   "execution_count": 75,
   "metadata": {},
   "outputs": [],
   "source": [
    "# this is equivalent to say:\n",
    "my_func = run_n_times(3)(my_func)"
   ]
  },
  {
   "cell_type": "markdown",
   "metadata": {},
   "source": [
    "## Decorator class\n",
    "Not only functions can be used to create decorators factory, but also classes. As a matter of fact, thanks to the `__call__` method, we can replicate the same exact behavior seen in the previous example:"
   ]
  },
  {
   "cell_type": "code",
   "execution_count": 80,
   "metadata": {},
   "outputs": [
    {
     "name": "stdout",
     "output_type": "stream",
     "text": [
      "called\n",
      "called\n",
      "called\n",
      "my_func was called 3 times\n"
     ]
    }
   ],
   "source": [
    "class MyClass:\n",
    "  def __init__(self, n): # the instance of the class become the decorator factory\n",
    "    self.n = n\n",
    "\n",
    "  def __call__(self, fn): # this is the actual decorator\n",
    "    def inner(*args, **kwargs):\n",
    "      for _ in range(self.n):\n",
    "        fn(*args, **kwargs)\n",
    "      return print(f'{fn.__name__} was called {self.n} times')\n",
    "    \n",
    "    return inner # closure\n",
    "\n",
    "@MyClass(3)\n",
    "def my_func():\n",
    "  print('called')\n",
    "\n",
    "my_func()"
   ]
  },
  {
   "cell_type": "markdown",
   "metadata": {},
   "source": [
    "## Monkey Patching and Decorating classes\n",
    "Functions are not the only object that can be decorated; Classes too can thanks to the dynamic behavior of python that allows the so called `Monkey Patching`, i.e. the modification/addition of attributes/methods to classes at runtime. Essentially, we are able to mutate the behavior of a class at runtime. Imagine we are using the class `Fraction` and we want to add to it some functionality; we can do the following:"
   ]
  },
  {
   "cell_type": "code",
   "execution_count": 101,
   "metadata": {},
   "outputs": [
    {
     "data": {
      "text/plain": [
       "100"
      ]
     },
     "execution_count": 101,
     "metadata": {},
     "output_type": "execute_result"
    }
   ],
   "source": [
    "from fractions import Fraction\n",
    "\n",
    "f = Fraction(2,3) # create an instance of the Fraction class\n",
    "# we want the class `Fraction` to be able to speak ...\n",
    "# if we write:\n",
    "Fraction.speak = 100\n",
    "# we are Monkey Patching the class Fraction at runtime, so if following we say:\n",
    "\n",
    "f.speak"
   ]
  },
  {
   "cell_type": "markdown",
   "metadata": {},
   "source": [
    "We can make the `Monkey Patched` methods also callable, for example using a lambda function (we can directly patch the class instead of an instance of it):"
   ]
  },
  {
   "cell_type": "code",
   "execution_count": 102,
   "metadata": {},
   "outputs": [
    {
     "data": {
      "text/plain": [
       "'Fraction says You cannot pass!'"
      ]
     },
     "execution_count": 102,
     "metadata": {},
     "output_type": "execute_result"
    }
   ],
   "source": [
    "Fraction.speak = lambda self, message: f'Fraction says {message}'\n",
    "\n",
    "# we need `self` as argument because we will pass to the method an instance of the class Fraction\n",
    "# Now we can call:\n",
    "f.speak('You cannot pass!') # -> 'Fraction says You cannot pass!!"
   ]
  },
  {
   "cell_type": "markdown",
   "metadata": {},
   "source": [
    "We can see how the process of monkey-patching is essentially a decoration of a class and, as a matter of fact it can be done with a decorator function:"
   ]
  },
  {
   "cell_type": "code",
   "execution_count": 105,
   "metadata": {},
   "outputs": [
    {
     "data": {
      "text/plain": [
       "'Person says I am ALIVE!'"
      ]
     },
     "execution_count": 105,
     "metadata": {},
     "output_type": "execute_result"
    }
   ],
   "source": [
    "def decorator_speak(cls): # we are passing a class to the function\n",
    "  cls.speak = lambda self, message: f'{self.__class__.__name__} says {message}'\n",
    "  return cls # return is only needed if we want to decorate with the `@` symbol\n",
    "\n",
    "# Now we can simply write on any class:\n",
    "class Person:\n",
    "  pass\n",
    "\n",
    "Person = decorator_speak(Person) # indirect decoration\n",
    "p = Person() # instance of the class\n",
    "p.speak('I am ALIVE!') # method inherited from the decorator"
   ]
  },
  {
   "cell_type": "markdown",
   "metadata": {},
   "source": [
    "Let's do something more useful; Imagine we want to debug an existing class creating a decorator."
   ]
  },
  {
   "cell_type": "code",
   "execution_count": 106,
   "metadata": {},
   "outputs": [],
   "source": [
    "def info(obj): # think of this as of the method we would write inside the class, i.e. 'obj' would be 'self'\n",
    "  from datetime import datetime, timezone\n",
    "  results = {\n",
    "    'time' : f'{datetime.now(timezone.utc)}',\n",
    "    'name' : obj.__class__.__name__,\n",
    "    'id' : hex(id(obj)),\n",
    "    'vars' : [(k,v) for k, v, in vars(obj).items()]\n",
    "  }\n",
    "  return results\n",
    "\n",
    "\n",
    "def debug_class(cls): # This is the decorator\n",
    "  cls.debug = info\n",
    "  return cls \n",
    "\n",
    "\n",
    "# if we want to pass the decorator in function-style:\n",
    "debug_class(Person)\n",
    "# we don't need the function to 'return cls' since we are modifying an object inplace.\n",
    "# However, if we want to use the `@` we need the return, because otherwise, the default return is 'None'.\n",
    "Person = debug_class(Person) \n",
    "# the rhs is returning None and it is assign it to 'Person' that therefore doesn't point anymore to the class Person nor to its decorated version."
   ]
  },
  {
   "cell_type": "code",
   "execution_count": 107,
   "metadata": {},
   "outputs": [
    {
     "data": {
      "text/plain": [
       "{'time': '2022-02-14 15:02:48.697285+00:00',\n",
       " 'name': 'Person',\n",
       " 'id': '0x7fd4cde825e0',\n",
       " 'vars': [('name', 'Giovanni'), ('age', 32), ('employed', True)]}"
      ]
     },
     "execution_count": 107,
     "metadata": {},
     "output_type": "execute_result"
    }
   ],
   "source": [
    "@debug_class\n",
    "class Person:\n",
    "  def __init__(self, name, age, employed=True):\n",
    "    self.name = name\n",
    "    self.age = age\n",
    "    self.employed = employed\n",
    "\n",
    "p = Person('Giovanni', 32)\n",
    "p.debug()"
   ]
  },
  {
   "cell_type": "markdown",
   "metadata": {},
   "source": [
    "## Single Dispatch Generic Functions\n",
    "First lets define what overloading is:\n",
    "\n",
    "`Overloading` in object oriented programming is the ability to create more then a function with the same name al long as its signature is different (essentially if the two functions are distinguishable, i.e. different number/type of arguments etc..). When the program is compiled, the interpreter will understand, based on the signature at which function with the same name we are referring to. \n",
    "\n",
    "In python, since there is no static typing, we can't declare a function signature, therefore, overloading, in its strict sense, is not possible. A workaround to this problem is called  `single dispatch generic function`, which allows us to overload functions based on the type of the first argument (if we want to consider the type of more arguments we need `multi dispatch`).\n"
   ]
  },
  {
   "cell_type": "markdown",
   "metadata": {},
   "source": [
    "### Application - `Htmlizer`\n",
    "Link to [Single_dispatch_generic_function_Htmlizer](Single_dispatch_generic_function_Htmlizer.ipynb)"
   ]
  },
  {
   "cell_type": "markdown",
   "metadata": {},
   "source": [
    "# Python optimizations\n",
    "---"
   ]
  },
  {
   "cell_type": "markdown",
   "metadata": {},
   "source": [
    "## Interning\n",
    "Python at startup automatically pre-loads (caches) a global list of integer in the range [-5, 256], so these integers have a fixed memory reference. Since these numbers show up often, avoid to reference these each time they appear results in an optimization. A number outside this range will require a new memory reference, and that's why:"
   ]
  },
  {
   "cell_type": "code",
   "execution_count": 108,
   "metadata": {},
   "outputs": [
    {
     "data": {
      "text/plain": [
       "False"
      ]
     },
     "execution_count": 108,
     "metadata": {},
     "output_type": "execute_result"
    }
   ],
   "source": [
    "a = 500\n",
    "b = 500\n",
    "a is b # will return False"
   ]
  },
  {
   "cell_type": "markdown",
   "metadata": {},
   "source": [
    "The caches integers are called `Singletons`, basically classes that can be instantiated only once.\n",
    "\n",
    "The same might happen with some strings; python can interning some string (that follow certain rules, letters and numbers concatenated with underscores) in order to speed up the equality (if a string in interned than i can use the `is` operator, otherwise i have to use the `==` character by character). We can force python to interning strings with the sys module:"
   ]
  },
  {
   "cell_type": "code",
   "execution_count": 111,
   "metadata": {},
   "outputs": [],
   "source": [
    "'''\n",
    "usually is something we don't need, unless for example we are working with a large ste of string\n",
    "for NPL and we need to tokenize some words that are reaped often. In this case it can be a useful optimization,\n",
    "since if a string is interned it becomes a Singleton and can be compared with the mush faster 'is' operator.\n",
    "'''\n",
    "import sys\n",
    "\n",
    "a = sys.intern('this will be interned')"
   ]
  },
  {
   "cell_type": "markdown",
   "metadata": {},
   "source": [
    "## Peephole\n",
    "Is an optimization that occur at compile time (so it is repeated each time the script is launched). For example we can have `Constant expression` like numeric calculation thata are better read as the operation rather than the results:\n"
   ]
  },
  {
   "cell_type": "code",
   "execution_count": 112,
   "metadata": {},
   "outputs": [],
   "source": [
    "minute_in_day = 60 * 24 # 1440"
   ]
  },
  {
   "cell_type": "markdown",
   "metadata": {},
   "source": [
    "The expression `60 * 24` is more readable than `1440` but we may thing that, if the variable is called multiple times, we may have performance issues. This is not the case because this is a constant expression and python knows it, so the first time it encounters the variable stores its results, without having to compute it again.\n",
    "\n",
    "The same happen for membership tests, i.e. check if an object is in a list. If we have a constant expression, python will replace the mutable object with is immutable counterpart (list-> tuples, sets -> fronzensets)"
   ]
  },
  {
   "cell_type": "markdown",
   "metadata": {},
   "source": [
    "\n",
    "```py\n",
    "for i in range(100000):\n",
    "  if i in [1,2,3]:\n",
    "    pass\n",
    "```\n"
   ]
  },
  {
   "cell_type": "markdown",
   "metadata": {},
   "source": [
    "The list `[1,2,3]` is converted into a tuple `(1,2,3)` so that, being immutable, it has a fixed memory address.\n",
    "\n",
    "N.B. sets, since are similar to dictionaries (hashmaps), are much more efficient than lists for membership testing!"
   ]
  },
  {
   "cell_type": "markdown",
   "metadata": {},
   "source": [
    "# Numeric Types\n",
    "---"
   ]
  },
  {
   "cell_type": "markdown",
   "metadata": {},
   "source": [
    "## Integers\n",
    "Integer are represented internally using base-2 digits (binary representation)"
   ]
  },
  {
   "cell_type": "markdown",
   "metadata": {},
   "source": [
    "```\n",
    "# es. binary representation of 19\n",
    "\n",
    " 0   0   0   1   0   0   1   1 \n",
    "--- --- --- --- --- --- --- ---   -> max num of bits = 8\n",
    "2^7 2^6 2^5 2^4 2^3 2^2 2^1 2^0\n",
    "\n",
    "1x2^4 + 0x2^3 + 0x2^2 + 1*2^1 + 1*2^0 = 16 + 2 + 1 = 19\n",
    "\n",
    "(10011)base_2 = (19)base_10\n",
    "\n",
    "To represent the number 19 are required 5 digits, hence 5 bits.\n",
    "```"
   ]
  },
  {
   "cell_type": "markdown",
   "metadata": {},
   "source": [
    "But which is the largest number we can store depending on the number of bits we want to store? It depends whether or not we care about negative values, since in order to store the sign we have to allocate one bit.\n",
    "The general formula is:"
   ]
  },
  {
   "cell_type": "markdown",
   "metadata": {},
   "source": [
    "\n",
    "```py\n",
    "max_unsigned_digit = 2^n -1 # where n is the number of bits\n",
    "max_signed_digits = [-2^(n-1), 2^(n-1)-1]\n",
    "```\n"
   ]
  },
  {
   "cell_type": "markdown",
   "metadata": {},
   "source": [
    "Side-Note: a 32 bit Operative system can store 2^32 unsigned integers (roughly 4Gb) and this limits also the number of memory address that can be stored at the same time. This is why having more than 4Gb of ram on a 32 bit OS is essentially useless since the machine can't store more than 4 Gb at the same time."
   ]
  },
  {
   "cell_type": "markdown",
   "metadata": {},
   "source": [
    "### Operations\n",
    "How mod `//` (floor division) and div `%` (modulo) operators works in python? mod returns the floor division (rounded to the smaller integer) while div return the remainder. They have to satisfy the following equation:\n"
   ]
  },
  {
   "cell_type": "markdown",
   "metadata": {},
   "source": [
    "\n",
    "```py\n",
    "n = d * (n // d) + (n % d) # where n is the numerator and d is the denominator\n",
    "\n",
    "#n.b. the `floor` of a real number `a` is the largest integer `<= a` \n",
    "floor(3.14) = 3\n",
    "floor(-3.1) = 3\n",
    "```\n"
   ]
  },
  {
   "cell_type": "markdown",
   "metadata": {},
   "source": [
    "### Base\n",
    "We can create an `int` object by calling the `int()` constructor; this has an optional parameter that is the base that python has to use to translate the argument (it may also be a string). The default values is base=10, since it is the way we are use to read numbers (while machines works in binary, so base=2). If the base is greater then 10 that the numbers start to be encoded with letters ( base[0, 10] = [0, 10], base[11, 27] = [A, Z])\n",
    "\n",
    "Python has some built-in function to translate the most common base like `bin()` for binary `hex()` for hexadecimal.\n"
   ]
  },
  {
   "cell_type": "markdown",
   "metadata": {},
   "source": [
    "\n",
    "```py\n",
    "bin(10) = 0b1010 # the 0b is telling us that the base 2 (binary)\n",
    "```\n"
   ]
  },
  {
   "cell_type": "markdown",
   "metadata": {},
   "source": [
    "## Rational Numbers\n",
    "Rational numbers are those number which are not integer and can be represented with a finite number of digits or translated into a fraction of rational numbers. The module `fraction` can be used to represent rational numbers, since the float representation can be misleading due to machine precision."
   ]
  },
  {
   "cell_type": "markdown",
   "metadata": {},
   "source": [
    "\n",
    "```py\n",
    "from fraction import Fraction\n",
    "\n",
    "Fraction(1,2) #(numerator, denominator)\n",
    "Fraction('0.125')\n",
    "Fraction(22/7)\n",
    "\n",
    "# CAVEAT\n",
    "'''\n",
    "Some numbers can't have a finite representation due to machine precision. For example 0.3 it is actually an approximation. The problem is that we have to look at something like the 20th decimal position in order to realize that this is the case. If we pass this number to Fraction() we would imagine to receive 3/10 as output; instead we would get a fraction of very huge numbers that best approximate that imprecision in the machine representation of 0.3 (0.2999999999999999999998977..)\n",
    "'''\n",
    "```\n"
   ]
  },
  {
   "cell_type": "markdown",
   "metadata": {},
   "source": [
    "## Floats (Real Numbers)\n",
    "In CPython floats are implemented as `C double` which implements the `binary64` (IEEE 754).\n",
    "Floats use a fixed size of 64 bits divide as follow:\n",
    "\n",
    "- sign -> 1 bit\n",
    "- exponent (in the range[-1022, 1023]) -> 11bit\n",
    "- significant digits -> 52 bit (15-17 significant digit in base_10)\n",
    "\n",
    "To have a precise representation of real numbers (since float may be effected by machine precision), we can use the `decimal` module."
   ]
  },
  {
   "cell_type": "markdown",
   "metadata": {},
   "source": [
    "```\n",
    "# decimal representation of a real number\n",
    "123.45 = 1*10^3 + 2*10^1 + 3*10^0 + 4*10^-1 + 5*10^-2 \n",
    "```"
   ]
  },
  {
   "cell_type": "markdown",
   "metadata": {},
   "source": [
    "### equality\n",
    "Care must be taken when looking at the equality of floats since there are some decimal numbers that cannot be represented by a finite binary representation:"
   ]
  },
  {
   "cell_type": "code",
   "execution_count": 142,
   "metadata": {},
   "outputs": [
    {
     "name": "stdout",
     "output_type": "stream",
     "text": [
      "0.30000000000000004441\n",
      "0.29999999999999998890\n"
     ]
    },
    {
     "data": {
      "text/plain": [
       "False"
      ]
     },
     "execution_count": 142,
     "metadata": {},
     "output_type": "execute_result"
    }
   ],
   "source": [
    "# base_10(0.1) = base_2(0.0 0011 0011 0011 ...) \n",
    "# therefore\n",
    "x = 0.1 + 0.1 + 0.1 \n",
    "y = 0.3 \n",
    "\n",
    "print(f'{x:.20f}')\n",
    "print(f'{y:.20f}') \n",
    "x == y "
   ]
  },
  {
   "cell_type": "markdown",
   "metadata": {},
   "source": [
    "One workaround is to set a range delta (es. a percentage of the size of the larger number involved in the equality operation) as discriminant values to determine if two numbers are equal:"
   ]
  },
  {
   "cell_type": "markdown",
   "metadata": {},
   "source": [
    "```\n",
    "|a - b| < epsilon\n",
    "```"
   ]
  },
  {
   "cell_type": "markdown",
   "metadata": {},
   "source": [
    "The pythonic way to approach this problem is to use the module `math.isclose` with the care of specifying appropriate relative and absolute tolerance:"
   ]
  },
  {
   "cell_type": "code",
   "execution_count": 144,
   "metadata": {},
   "outputs": [
    {
     "data": {
      "text/plain": [
       "True"
      ]
     },
     "execution_count": 144,
     "metadata": {},
     "output_type": "execute_result"
    }
   ],
   "source": [
    "import math\n",
    "\n",
    "# math.isclose(x, y, rel_tol, abs_tol)\n",
    "\n",
    "math.isclose(x, y)\n"
   ]
  },
  {
   "cell_type": "markdown",
   "metadata": {},
   "source": [
    "## Booleans (PEP 285)\n",
    "Booleans are a subclass of the int class (i.e. it inherits all its methods). Two constant are defined: `True` (int = 1) and `False` (int = 0). They are Singleton objects, i.e. the point to a fixed address in memory and can be compared with the identity and the equality operator aswell. N.b. even if True and False evaluates to the int 1 and 0 respectively, they don't point ot the same memory address, since they are not the same type of object:\n"
   ]
  },
  {
   "cell_type": "code",
   "execution_count": 148,
   "metadata": {},
   "outputs": [
    {
     "data": {
      "text/plain": [
       "True"
      ]
     },
     "execution_count": 148,
     "metadata": {},
     "output_type": "execute_result"
    }
   ],
   "source": [
    "int(True) == 1 and int(False) == 0"
   ]
  },
  {
   "cell_type": "code",
   "execution_count": 146,
   "metadata": {},
   "outputs": [
    {
     "data": {
      "text/plain": [
       "True"
      ]
     },
     "execution_count": 146,
     "metadata": {},
     "output_type": "execute_result"
    }
   ],
   "source": [
    "id(True) != id(1)"
   ]
  },
  {
   "cell_type": "code",
   "execution_count": 147,
   "metadata": {},
   "outputs": [
    {
     "data": {
      "text/plain": [
       "True"
      ]
     },
     "execution_count": 147,
     "metadata": {},
     "output_type": "execute_result"
    }
   ],
   "source": [
    "id(False) != id(0)"
   ]
  },
  {
   "cell_type": "markdown",
   "metadata": {},
   "source": [
    "Objects have an associated `truth value`, meaning that they have a defined truth state. In particular, every object will evaluate to `True` by default except for:\n",
    "\n",
    "- None\n",
    "- False\n",
    "- 0 (in any numeric type, float, complex ..)\n",
    "- empty sequence (list, tuple string..)\n",
    "- empty mapping (dictionary, sets..)\n",
    "- implementing __bool__ or __len__ in a custom class\n",
    "\n",
    "Has a matter of fact, when we call `bool()` on an object, it will look for the definition of the dunder method `__bool__`, if this is not defined, then it will look for the `__len__` method and if also this is not defined the it will evaluate to `True`."
   ]
  },
  {
   "cell_type": "code",
   "execution_count": 149,
   "metadata": {},
   "outputs": [],
   "source": [
    "# es. __bool__ implementation for the int class\n",
    "def __bool__(self):\n",
    "  return self != 0"
   ]
  },
  {
   "cell_type": "markdown",
   "metadata": {},
   "source": [
    "### Booleans operators"
   ]
  },
  {
   "cell_type": "markdown",
   "metadata": {},
   "source": [
    "```\n",
    "# Truth Table\n",
    "X Y  not X  X and Y  X or Y\n",
    "0 0    1       0       0\n",
    "0 1    1       0       1\n",
    "1 0    0       0       1 \n",
    "1 1    0       1       1\n",
    "```"
   ]
  },
  {
   "cell_type": "markdown",
   "metadata": {},
   "source": [
    "```\n",
    "# De Morgan's Theorem\n",
    "not(A or B) == (not A) and (not B)\n",
    "not(A and B) == (not A) or (not B)\n",
    "\n",
    "# Operations precedence (in descending order)\n",
    "< > <= >= == != in is\n",
    "not\n",
    "and\n",
    "or"
   ]
  },
  {
   "cell_type": "markdown",
   "metadata": {},
   "source": [
    "### Short-Circuiting\n",
    "Looking at a truth table there are two case in which the program can simply is job evaluating only part of a boolean statement. Thi is called `short-circuiting`:"
   ]
  },
  {
   "cell_type": "code",
   "execution_count": 150,
   "metadata": {},
   "outputs": [
    {
     "data": {
      "text/plain": [
       "True"
      ]
     },
     "execution_count": 150,
     "metadata": {},
     "output_type": "execute_result"
    }
   ],
   "source": [
    "True or Y # -> True \n",
    "# with an or statement, id the first argument is True it doesn't matter whether the second argument is True or False, the operation will always evaluate to True"
   ]
  },
  {
   "cell_type": "code",
   "execution_count": 151,
   "metadata": {},
   "outputs": [
    {
     "data": {
      "text/plain": [
       "False"
      ]
     },
     "execution_count": 151,
     "metadata": {},
     "output_type": "execute_result"
    }
   ],
   "source": [
    "False and Y # -> False\n",
    "# with an and statement, id the first argument is False it doesn't matter whether the second argument is True or False, the operation will always evaluate to False"
   ]
  },
  {
   "cell_type": "markdown",
   "metadata": {},
   "source": [
    "This is very useful when we have to concatenate two conditions together, one of the which may results in rising an exception (and breaking the code) if evaluated. With short-circuiting we can add a first statement that check for a particular exception that may rise with second argument."
   ]
  },
  {
   "cell_type": "code",
   "execution_count": 153,
   "metadata": {},
   "outputs": [],
   "source": [
    "my_string = 'ciao'\n",
    "if 'a' == my_string[0]:\n",
    "  pass\n",
    "# we are checking if 'a' is the first letter of my_string. But what happen if my_string is empty? the code breaks. We can solve this with short-circuiting the first\n"
   ]
  },
  {
   "cell_type": "code",
   "execution_count": 154,
   "metadata": {},
   "outputs": [
    {
     "ename": "IndexError",
     "evalue": "string index out of range",
     "output_type": "error",
     "traceback": [
      "\u001b[0;31m---------------------------------------------------------------------------\u001b[0m",
      "\u001b[0;31mIndexError\u001b[0m                                Traceback (most recent call last)",
      "Input \u001b[0;32mIn [154]\u001b[0m, in \u001b[0;36m<module>\u001b[0;34m\u001b[0m\n\u001b[1;32m      1\u001b[0m my_string \u001b[38;5;241m=\u001b[39m \u001b[38;5;124m'\u001b[39m\u001b[38;5;124m'\u001b[39m\n\u001b[0;32m----> 2\u001b[0m \u001b[38;5;28;01mif\u001b[39;00m \u001b[38;5;124m'\u001b[39m\u001b[38;5;124ma\u001b[39m\u001b[38;5;124m'\u001b[39m \u001b[38;5;241m==\u001b[39m \u001b[43mmy_string\u001b[49m\u001b[43m[\u001b[49m\u001b[38;5;241;43m0\u001b[39;49m\u001b[43m]\u001b[49m:\n\u001b[1;32m      3\u001b[0m     \u001b[38;5;28;01mpass\u001b[39;00m\n",
      "\u001b[0;31mIndexError\u001b[0m: string index out of range"
     ]
    }
   ],
   "source": [
    "my_string = ''\n",
    "if 'a' == my_string[0]:\n",
    "    pass"
   ]
  },
  {
   "cell_type": "code",
   "execution_count": 155,
   "metadata": {},
   "outputs": [],
   "source": [
    "if my_string and 'a' == my_string[0]:\n",
    "  pass\n",
    "# Since an \"and\" expression will evaluate to True only if the two members are True, we can safeguard our code from breaking checking first if my_string evaluates to False (i.e. if is an empty string);\n",
    "# if it is so, the second part of the \"and\" statement won't be executed thus safeguarding our code of breaking due to IndexError exception."
   ]
  },
  {
   "cell_type": "markdown",
   "metadata": {},
   "source": [
    "# Common Modules\n",
    "---"
   ]
  },
  {
   "cell_type": "markdown",
   "metadata": {},
   "source": [
    "## `string`\n",
    "Module with some useful string constants and representation.\n"
   ]
  },
  {
   "cell_type": "markdown",
   "metadata": {},
   "source": [
    "## `functools`\n",
    "Module with useful functions:\n",
    "\n",
    "* `total_ordering` : decorator for classes that automatically implement comparison functionality (le, ge, lt, gt), if only one of these is already implemented\n",
    "* `reduce`: iterate over a sequence applying a function\n",
    "* `partial`: lets us set some arguments of a function as default parameters\n",
    "* `wraps`: decorator that allow to wrap a function/class metadata and keep it after the decoration\n",
    "* `lru_cache`: decorator that allows caching data in recursive structures\n"
   ]
  },
  {
   "cell_type": "markdown",
   "metadata": {},
   "source": [
    "## `collections`\n",
    "Module with useful functions:\n",
    "\n",
    "* `namedtuple` : tuple with argument assignment - substitute of classes or dictionary in some case"
   ]
  },
  {
   "cell_type": "markdown",
   "metadata": {},
   "source": [
    "# Whats Nexts?"
   ]
  },
  {
   "cell_type": "markdown",
   "metadata": {},
   "source": []
  }
 ],
 "metadata": {
  "interpreter": {
   "hash": "b66e1d652d26545cf719f53d79fc7f17380815b403cf9c9ba2b908f3efa6c6a8"
  },
  "kernelspec": {
   "display_name": "Python 3.8.10 64-bit ('venv': venv)",
   "language": "python",
   "name": "python3"
  },
  "language_info": {
   "codemirror_mode": {
    "name": "ipython",
    "version": 3
   },
   "file_extension": ".py",
   "mimetype": "text/x-python",
   "name": "python",
   "nbconvert_exporter": "python",
   "pygments_lexer": "ipython3",
   "version": "3.8.10"
  },
  "orig_nbformat": 4
 },
 "nbformat": 4,
 "nbformat_minor": 2
}
