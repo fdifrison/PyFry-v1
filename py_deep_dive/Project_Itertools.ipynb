{
 "cells": [
  {
   "cell_type": "markdown",
   "id": "9f1e50ef",
   "metadata": {},
   "source": [
    "# Working with Itertools module\n",
    "\n",
    "We have a set of 4 *.csv* files with presorted data, where the primamry ckey is the `SSN`\n",
    "\n",
    "## Goals\n",
    "\n",
    "1. [Goal 1](#Goal-1)\n",
    "Create a (lazy) iterator for each file that return named tuple with appropriate data type\n",
    "2. [Goal 2](#Goal-2)\n",
    "Create a Single iterable that combines the data from all the 4 files"
   ]
  },
  {
   "cell_type": "markdown",
   "id": "6e013037",
   "metadata": {},
   "source": [
    "## Goal 1\n",
    "Create a (lazy) iterator for each file that return named tuple with appropriate data type"
   ]
  },
  {
   "cell_type": "code",
   "execution_count": 1,
   "id": "a8c630c2",
   "metadata": {},
   "outputs": [],
   "source": [
    "# import modules\n",
    "import csv\n",
    "from collections import namedtuple\n",
    "from functools import partial\n"
   ]
  },
  {
   "cell_type": "code",
   "execution_count": 2,
   "id": "76094d15",
   "metadata": {},
   "outputs": [
    {
     "data": {
      "text/plain": [
       "['employment.csv', 'vehicles.csv', 'personal_info.csv', 'update_status.csv']"
      ]
     },
     "execution_count": 2,
     "metadata": {},
     "output_type": "execute_result"
    }
   ],
   "source": [
    "# navigate to data folder\n",
    "import os\n",
    "\n",
    "os.chdir('./Project_itertools_data')"
   ]
  },
  {
   "cell_type": "code",
   "execution_count": 15,
   "id": "84ac1faf",
   "metadata": {},
   "outputs": [
    {
     "data": {
      "text/plain": [
       "['employment.csv', 'personal_info.csv', 'update_status.csv', 'vehicles.csv']"
      ]
     },
     "execution_count": 15,
     "metadata": {},
     "output_type": "execute_result"
    }
   ],
   "source": [
    "sorted(os.listdir()) # NB the order is important"
   ]
  },
  {
   "cell_type": "code",
   "execution_count": 36,
   "id": "057e0bea",
   "metadata": {},
   "outputs": [],
   "source": [
    "# define the reader function using csv\n",
    "def csv_parser(file, *,  delimiter=',', quotechar='\"', include_header=False):\n",
    "    with open(file) as f:\n",
    "        if not include_header:\n",
    "            next(f) # skip header\n",
    "        reader = csv.reader(f, delimiter=delimiter, quotechar=quotechar)\n",
    "        yield from reader\n",
    "        \n",
    "def header_class(file, class_name:str):\n",
    "    with open(file) as f:\n",
    "        reader = csv_parser(file, include_header=True)\n",
    "        return namedtuple(class_name, next(reader))\n",
    " \n",
    "def row_parser(row, dtype):\n",
    "    row = (func(r) for func, r in zip(dtype, row))\n",
    "    return row\n",
    "\n",
    "def iter_files(fname, ntuple, dtype):\n",
    "    reader = csv_parser(fname)\n",
    "    for row in reader:\n",
    "        parsed_row = row_parser(row, dtype)\n",
    "        yield ntuple(*parsed_row)"
   ]
  },
  {
   "cell_type": "code",
   "execution_count": 48,
   "id": "52fa2219",
   "metadata": {},
   "outputs": [],
   "source": [
    "# define dtypes parser\n",
    "def parse_date(value, *, default=None, fmt='%Y-%m-%dT%H:%M:%SZ'):\n",
    "    from datetime import datetime\n",
    "    format_ = fmt\n",
    "    try:\n",
    "        return datetime.strptime(value, format_)\n",
    "    except ValueError:\n",
    "        return default    "
   ]
  },
  {
   "cell_type": "markdown",
   "id": "fb1a4eaf",
   "metadata": {},
   "source": [
    "Now lets discover the header of each file in order to identify how many parser we need to properly convert the data to a proper format"
   ]
  },
  {
   "cell_type": "code",
   "execution_count": 49,
   "id": "546befd9",
   "metadata": {},
   "outputs": [
    {
     "data": {
      "text/plain": [
       "('employer', 'department', 'employee_id', 'ssn')"
      ]
     },
     "execution_count": 49,
     "metadata": {},
     "output_type": "execute_result"
    }
   ],
   "source": [
    "employment_nt = header('employment.csv', 'Employment')\n",
    "employment_nt._fields"
   ]
  },
  {
   "cell_type": "code",
   "execution_count": 50,
   "id": "8f236a9f",
   "metadata": {},
   "outputs": [],
   "source": [
    "employment_dtype = (str, str, str, str)"
   ]
  },
  {
   "cell_type": "code",
   "execution_count": 51,
   "id": "6fc4113e",
   "metadata": {},
   "outputs": [
    {
     "data": {
      "text/plain": [
       "('ssn', 'vehicle_make', 'vehicle_model', 'model_year')"
      ]
     },
     "execution_count": 51,
     "metadata": {},
     "output_type": "execute_result"
    }
   ],
   "source": [
    "veichles_nt = header('vehicles.csv', 'Vehicle')\n",
    "veichles_nt._fields"
   ]
  },
  {
   "cell_type": "code",
   "execution_count": 52,
   "id": "46c84245",
   "metadata": {},
   "outputs": [],
   "source": [
    "veichles_dtype = (str, str, str, int)"
   ]
  },
  {
   "cell_type": "code",
   "execution_count": 53,
   "id": "0c46531f",
   "metadata": {},
   "outputs": [
    {
     "data": {
      "text/plain": [
       "('ssn', 'first_name', 'last_name', 'gender', 'language')"
      ]
     },
     "execution_count": 53,
     "metadata": {},
     "output_type": "execute_result"
    }
   ],
   "source": [
    "personal_info_nt = header('personal_info.csv', 'PersonalInfo')\n",
    "personal_info_nt._fields"
   ]
  },
  {
   "cell_type": "code",
   "execution_count": 54,
   "id": "cd4de61f",
   "metadata": {},
   "outputs": [],
   "source": [
    "personal_info_dtype = (str, str, str, str, str)"
   ]
  },
  {
   "cell_type": "code",
   "execution_count": 55,
   "id": "1e1a73fa",
   "metadata": {},
   "outputs": [
    {
     "data": {
      "text/plain": [
       "('ssn', 'last_updated', 'created')"
      ]
     },
     "execution_count": 55,
     "metadata": {},
     "output_type": "execute_result"
    }
   ],
   "source": [
    "update_status_nt = header('update_status.csv', 'UpdateStatus')\n",
    "update_status_nt._fields"
   ]
  },
  {
   "cell_type": "code",
   "execution_count": 56,
   "id": "37696459",
   "metadata": {},
   "outputs": [],
   "source": [
    "update_status_dtype = (str, parse_date, parse_date)"
   ]
  },
  {
   "cell_type": "markdown",
   "id": "ad102714",
   "metadata": {},
   "source": [
    "As stated above, the files have a common presorted field that uniquely identify the data (primary key).\n",
    "\n",
    "Now, to process all the files together we can create a series of tuples that contain the pieces needed to parse:\n",
    "\n",
    "* the files name\n",
    "* the corrisponding namedTuples\n",
    "* the dtypes corresponding to each file\n",
    "\n",
    "N.B. it is important to have the same ordering since we are going to zip the 3 tuples together"
   ]
  },
  {
   "cell_type": "code",
   "execution_count": 57,
   "id": "290103fc",
   "metadata": {},
   "outputs": [
    {
     "data": {
      "text/plain": [
       "('employment.csv', __main__.Employment, (str, str, str, str))"
      ]
     },
     "execution_count": 57,
     "metadata": {},
     "output_type": "execute_result"
    }
   ],
   "source": [
    "fnames = sorted(os.listdir())\n",
    "ntuples = (employment_nt, personal_info_nt, update_status_nt, veichles_nt)\n",
    "dtypes = (employment_dtype, personal_info_dtype, update_status_dtype, veichles_dtype)\n",
    "\n",
    "# check if the order is consistent\n",
    "list(zip(fnames, ntuples, dtypes))[0]"
   ]
  },
  {
   "cell_type": "markdown",
   "id": "d9e6cf63",
   "metadata": {},
   "source": [
    "Now we can iterate over all the files at the same time    "
   ]
  },
  {
   "cell_type": "code",
   "execution_count": 64,
   "id": "77cb48db",
   "metadata": {},
   "outputs": [
    {
     "name": "stdout",
     "output_type": "stream",
     "text": [
      "*************employment.csv*************\n",
      "Employment(employer='Stiedemann-Bailey', department='Research and Development', employee_id='29-0890771', ssn='100-53-9824')\n",
      "\n",
      "***********personal_info.csv************\n",
      "PersonalInfo(ssn='100-53-9824', first_name='Sebastiano', last_name='Tester', gender='Male', language='Icelandic')\n",
      "\n",
      "***********update_status.csv************\n",
      "UpdateStatus(ssn='100-53-9824', last_updated=datetime.datetime(2017, 10, 7, 0, 14, 42), created=datetime.datetime(2016, 1, 24, 21, 19, 30))\n",
      "\n",
      "**************vehicles.csv**************\n",
      "Vehicle(ssn='100-53-9824', vehicle_make='Oldsmobile', vehicle_model='Bravada', model_year=1993)\n",
      "\n"
     ]
    }
   ],
   "source": [
    "for fname, ntuple, dtype, in zip(fnames, ntuples, dtypes):\n",
    "    file_iter = iter_files(fname, ntuple, dtype)\n",
    "    print(fname.center(40, '*'))\n",
    "    for _ in range(1): # check\n",
    "        print(next(file_iter))\n",
    "    print()\n",
    "    "
   ]
  },
  {
   "cell_type": "markdown",
   "id": "6c055fd5",
   "metadata": {},
   "source": [
    "## Goal 2\n",
    "Create a Single iterable that combines the data from all the 4 files"
   ]
  },
  {
   "cell_type": "code",
   "execution_count": 112,
   "id": "f38b8bc7",
   "metadata": {},
   "outputs": [],
   "source": [
    "result = [iter_files(fname, ntuple, dtype)\n",
    "          for fname, ntuple, dtype in zip(fnames, ntuples, dtypes)]\n",
    "\n",
    "def combine_files(fames, ntuples, dtypes):\n",
    "    result = [iter_files(fname, ntuple, dtype)\n",
    "              for fname, ntuple, dtype in zip(fnames, ntuples, dtypes)]\n",
    "    temp = dict()\n",
    "    for r in result:\n",
    "        temp = {**temp, **next(r)._asdict()}\n",
    "    yield temp"
   ]
  },
  {
   "cell_type": "code",
   "execution_count": 113,
   "id": "a799c699",
   "metadata": {},
   "outputs": [],
   "source": [
    "combined = combine_files(fnames, ntuples, dtypes)"
   ]
  },
  {
   "cell_type": "code",
   "execution_count": 114,
   "id": "d8d253c3",
   "metadata": {},
   "outputs": [
    {
     "data": {
      "text/plain": [
       "{'employer': 'Stiedemann-Bailey',\n",
       " 'department': 'Research and Development',\n",
       " 'employee_id': '29-0890771',\n",
       " 'ssn': '100-53-9824',\n",
       " 'first_name': 'Sebastiano',\n",
       " 'last_name': 'Tester',\n",
       " 'gender': 'Male',\n",
       " 'language': 'Icelandic',\n",
       " 'last_updated': datetime.datetime(2017, 10, 7, 0, 14, 42),\n",
       " 'created': datetime.datetime(2016, 1, 24, 21, 19, 30),\n",
       " 'vehicle_make': 'Oldsmobile',\n",
       " 'vehicle_model': 'Bravada',\n",
       " 'model_year': 1993}"
      ]
     },
     "execution_count": 114,
     "metadata": {},
     "output_type": "execute_result"
    }
   ],
   "source": [
    "\n",
    "next(combined)\n",
    "    \n",
    "    "
   ]
  },
  {
   "cell_type": "code",
   "execution_count": 102,
   "id": "a3731004",
   "metadata": {},
   "outputs": [
    {
     "data": {
      "text/plain": [
       "{'employer': 'Stiedemann-Bailey',\n",
       " 'department': 'Research and Development',\n",
       " 'employee_id': '29-0890771',\n",
       " 'ssn': '100-53-9824',\n",
       " 'first_name': 'Sebastiano',\n",
       " 'last_name': 'Tester',\n",
       " 'gender': 'Male',\n",
       " 'language': 'Icelandic',\n",
       " 'last_updated': datetime.datetime(2017, 10, 7, 0, 14, 42),\n",
       " 'created': datetime.datetime(2016, 1, 24, 21, 19, 30),\n",
       " 'vehicle_make': 'Oldsmobile',\n",
       " 'vehicle_model': 'Bravada',\n",
       " 'model_year': 1993}"
      ]
     },
     "execution_count": 102,
     "metadata": {},
     "output_type": "execute_result"
    }
   ],
   "source": [
    "join[0]"
   ]
  },
  {
   "cell_type": "code",
   "execution_count": 81,
   "id": "d8e5b842",
   "metadata": {},
   "outputs": [],
   "source": [
    "c = {**a._asdict(), **b._asdict()}"
   ]
  },
  {
   "cell_type": "code",
   "execution_count": 82,
   "id": "27ec9a4a",
   "metadata": {},
   "outputs": [
    {
     "data": {
      "text/plain": [
       "{'ssn': '101-84-0356',\n",
       " 'vehicle_make': 'GMC',\n",
       " 'vehicle_model': 'Yukon',\n",
       " 'model_year': 2005}"
      ]
     },
     "execution_count": 82,
     "metadata": {},
     "output_type": "execute_result"
    }
   ],
   "source": [
    "c\n"
   ]
  },
  {
   "cell_type": "code",
   "execution_count": null,
   "id": "21a13df7",
   "metadata": {},
   "outputs": [],
   "source": []
  }
 ],
 "metadata": {
  "kernelspec": {
   "display_name": "Python 3 (ipykernel)",
   "language": "python",
   "name": "python3"
  },
  "language_info": {
   "codemirror_mode": {
    "name": "ipython",
    "version": 3
   },
   "file_extension": ".py",
   "mimetype": "text/x-python",
   "name": "python",
   "nbconvert_exporter": "python",
   "pygments_lexer": "ipython3",
   "version": "3.8.10"
  }
 },
 "nbformat": 4,
 "nbformat_minor": 5
}
