{
 "cells": [
  {
   "cell_type": "markdown",
   "metadata": {},
   "source": [
    "# Project Context Manager\n",
    "\n",
    "Let's build a context manager that is also a lazy iterator to open two files `cars.csv` and `personal_info.csv`\n",
    "\n",
    "## Goal 1\n",
    "Do it with a custom class\n",
    "\n",
    "## Goal 2\n",
    "Do it with a generator function"
   ]
  },
  {
   "cell_type": "code",
   "execution_count": 1,
   "metadata": {},
   "outputs": [
    {
     "data": {
      "text/plain": [
       "('cars.csv', 'personal_info.csv')"
      ]
     },
     "execution_count": 1,
     "metadata": {},
     "output_type": "execute_result"
    }
   ],
   "source": [
    "# navigate to data folder\n",
    "import os\n",
    "\n",
    "os.chdir('./Project_Context_Manager_data')\n",
    "f_names = tuple(os.listdir())\n",
    "f_names"
   ]
  },
  {
   "cell_type": "markdown",
   "metadata": {},
   "source": [
    "First let's take a look to what there is inside the files:"
   ]
  },
  {
   "cell_type": "code",
   "execution_count": 3,
   "metadata": {},
   "outputs": [
    {
     "name": "stdout",
     "output_type": "stream",
     "text": [
      "Car;MPG;Cylinders;Displacement;Horsepower;Weight;Acceleration;Model;Origin\n",
      "Chevrolet Chevelle Malibu;18.0;8;307.0;130.0;3504.;12.0;70;US\n",
      "****************************************\n",
      "ssn,first_name,last_name,gender,language\n",
      "100-53-9824,Sebastiano,Tester,Male,Icelandic\n",
      "****************************************\n"
     ]
    }
   ],
   "source": [
    "for file in f_names:\n",
    "    with open(file) as f:\n",
    "        print(next(f), end='')\n",
    "        print(next(f), end='')\n",
    "    print('*'*40)"
   ]
  },
  {
   "cell_type": "markdown",
   "metadata": {},
   "source": [
    "First we can notice that the headers are not all lower_case, as the python best-practice wants, and then the major problem is that we don't have the same separator in the two files (the same `dialect` to be precise), therefore, we can use the same set-up for our csv.reader. Instead we are going to let csv guess what are the separators using the `Sniff` method."
   ]
  },
  {
   "cell_type": "code",
   "execution_count": null,
   "metadata": {},
   "outputs": [],
   "source": []
  },
  {
   "cell_type": "code",
   "execution_count": null,
   "metadata": {},
   "outputs": [],
   "source": []
  },
  {
   "cell_type": "code",
   "execution_count": null,
   "metadata": {},
   "outputs": [],
   "source": []
  }
 ],
 "metadata": {
  "kernelspec": {
   "display_name": "Python 3 (ipykernel)",
   "language": "python",
   "name": "python3"
  },
  "language_info": {
   "codemirror_mode": {
    "name": "ipython",
    "version": 3
   },
   "file_extension": ".py",
   "mimetype": "text/x-python",
   "name": "python",
   "nbconvert_exporter": "python",
   "pygments_lexer": "ipython3",
   "version": "3.7.4"
  }
 },
 "nbformat": 4,
 "nbformat_minor": 4
}
